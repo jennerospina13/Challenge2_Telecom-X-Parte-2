{
  "cells": [
    {
      "cell_type": "markdown",
      "metadata": {
        "id": "view-in-github",
        "colab_type": "text"
      },
      "source": [
        "<a href=\"https://colab.research.google.com/github/jennerospina13/Challenge2_Telecom-X-Parte-2/blob/main/Solucion_TelecomX_Parte2.ipynb\" target=\"_parent\"><img src=\"https://colab.research.google.com/assets/colab-badge.svg\" alt=\"Open In Colab\"/></a>"
      ]
    },
    {
      "cell_type": "code",
      "source": [
        "import pandas as pd\n",
        "import numpy as np\n",
        "import sklearn\n",
        "import seaborn as sns\n",
        "import yellowbrick\n",
        "import matplotlib.pyplot as plt\n",
        "import plotly.express as px\n"
      ],
      "metadata": {
        "id": "JDLKT1FfJfK-"
      },
      "execution_count": 41,
      "outputs": []
    },
    {
      "cell_type": "code",
      "source": [
        "telecomX_parte2 = pd.read_json('/content/df_normalizado.json')\n",
        "telecomX_parte2"
      ],
      "metadata": {
        "id": "1qbueiWCKb-P",
        "outputId": "20496355-099e-4ce8-ee9b-9ef5261b0a7d",
        "colab": {
          "base_uri": "https://localhost:8080/",
          "height": 600
        }
      },
      "execution_count": 42,
      "outputs": [
        {
          "output_type": "execute_result",
          "data": {
            "text/plain": [
              "      ID_CLIENTE  CHURN GENERO_CLIENTE  CLIENTE_SENIOR CLIENTE_PARTNER  \\\n",
              "0     0002-ORFBO    0.0         Female               0             Yes   \n",
              "1     0003-MKNFE    0.0           Male               0              No   \n",
              "2     0004-TLHLJ    1.0           Male               0              No   \n",
              "3     0011-IGKFF    1.0           Male               1             Yes   \n",
              "4     0013-EXCHZ    1.0         Female               1             Yes   \n",
              "...          ...    ...            ...             ...             ...   \n",
              "7262  9987-LUTYD    0.0         Female               0              No   \n",
              "7263  9992-RRAMN    1.0           Male               0             Yes   \n",
              "7264  9992-UJOEL    0.0           Male               0              No   \n",
              "7265  9993-LHIEB    0.0           Male               0             Yes   \n",
              "7266  9995-HOTOH    0.0           Male               0             Yes   \n",
              "\n",
              "     CLIENTE_DEPENDIENTE  ANTIGUEDAD_CLIENTE SERVICIO_TELEFONO  \\\n",
              "0                    Yes                   9               Yes   \n",
              "1                     No                   9               Yes   \n",
              "2                     No                   4               Yes   \n",
              "3                     No                  13               Yes   \n",
              "4                     No                   3               Yes   \n",
              "...                  ...                 ...               ...   \n",
              "7262                  No                  13               Yes   \n",
              "7263                  No                  22               Yes   \n",
              "7264                  No                   2               Yes   \n",
              "7265                 Yes                  67               Yes   \n",
              "7266                 Yes                  63                No   \n",
              "\n",
              "      MULTIPLES_LINEAS TIPO_INTERNET  ... RESPALDO_ONLINE  \\\n",
              "0                   No           DSL  ...             Yes   \n",
              "1                  Yes           DSL  ...              No   \n",
              "2                   No   Fiber optic  ...              No   \n",
              "3                   No   Fiber optic  ...             Yes   \n",
              "4                   No   Fiber optic  ...              No   \n",
              "...                ...           ...  ...             ...   \n",
              "7262                No           DSL  ...              No   \n",
              "7263               Yes   Fiber optic  ...              No   \n",
              "7264                No           DSL  ...             Yes   \n",
              "7265                No           DSL  ...              No   \n",
              "7266  No phone service           DSL  ...             Yes   \n",
              "\n",
              "     PROTECCION_DISPOSITIVOS SOPORTE_TECNICO STREAMING PELICULAS_STREAMING  \\\n",
              "0                         No             Yes       Yes                  No   \n",
              "1                         No              No        No                 Yes   \n",
              "2                        Yes              No        No                  No   \n",
              "3                        Yes              No       Yes                 Yes   \n",
              "4                         No             Yes       Yes                  No   \n",
              "...                      ...             ...       ...                 ...   \n",
              "7262                      No             Yes        No                  No   \n",
              "7263                      No              No        No                 Yes   \n",
              "7264                      No              No        No                  No   \n",
              "7265                     Yes             Yes        No                 Yes   \n",
              "7266                     Yes              No       Yes                 Yes   \n",
              "\n",
              "            CONTRATO BOLETA_ELECTRONICA       METODO_PAGO CARGO_MENSUAL  \\\n",
              "0           One year                Yes      Mailed check         65.60   \n",
              "1     Month-to-month                 No      Mailed check         59.90   \n",
              "2     Month-to-month                Yes  Electronic check         73.90   \n",
              "3     Month-to-month                Yes  Electronic check         98.00   \n",
              "4     Month-to-month                Yes      Mailed check         83.90   \n",
              "...              ...                ...               ...           ...   \n",
              "7262        One year                 No      Mailed check         55.15   \n",
              "7263  Month-to-month                Yes  Electronic check         85.10   \n",
              "7264  Month-to-month                Yes      Mailed check         50.30   \n",
              "7265        Two year                 No      Mailed check         67.85   \n",
              "7266        Two year                 No  Electronic check         59.00   \n",
              "\n",
              "      CARGO_TOTAL  \n",
              "0          593.30  \n",
              "1          542.40  \n",
              "2          280.85  \n",
              "3         1237.85  \n",
              "4          267.40  \n",
              "...           ...  \n",
              "7262       742.90  \n",
              "7263      1873.70  \n",
              "7264        92.75  \n",
              "7265      4627.65  \n",
              "7266      3707.60  \n",
              "\n",
              "[7267 rows x 21 columns]"
            ],
            "text/html": [
              "\n",
              "  <div id=\"df-e4728438-631a-4050-86fb-d3f593e6d222\" class=\"colab-df-container\">\n",
              "    <div>\n",
              "<style scoped>\n",
              "    .dataframe tbody tr th:only-of-type {\n",
              "        vertical-align: middle;\n",
              "    }\n",
              "\n",
              "    .dataframe tbody tr th {\n",
              "        vertical-align: top;\n",
              "    }\n",
              "\n",
              "    .dataframe thead th {\n",
              "        text-align: right;\n",
              "    }\n",
              "</style>\n",
              "<table border=\"1\" class=\"dataframe\">\n",
              "  <thead>\n",
              "    <tr style=\"text-align: right;\">\n",
              "      <th></th>\n",
              "      <th>ID_CLIENTE</th>\n",
              "      <th>CHURN</th>\n",
              "      <th>GENERO_CLIENTE</th>\n",
              "      <th>CLIENTE_SENIOR</th>\n",
              "      <th>CLIENTE_PARTNER</th>\n",
              "      <th>CLIENTE_DEPENDIENTE</th>\n",
              "      <th>ANTIGUEDAD_CLIENTE</th>\n",
              "      <th>SERVICIO_TELEFONO</th>\n",
              "      <th>MULTIPLES_LINEAS</th>\n",
              "      <th>TIPO_INTERNET</th>\n",
              "      <th>...</th>\n",
              "      <th>RESPALDO_ONLINE</th>\n",
              "      <th>PROTECCION_DISPOSITIVOS</th>\n",
              "      <th>SOPORTE_TECNICO</th>\n",
              "      <th>STREAMING</th>\n",
              "      <th>PELICULAS_STREAMING</th>\n",
              "      <th>CONTRATO</th>\n",
              "      <th>BOLETA_ELECTRONICA</th>\n",
              "      <th>METODO_PAGO</th>\n",
              "      <th>CARGO_MENSUAL</th>\n",
              "      <th>CARGO_TOTAL</th>\n",
              "    </tr>\n",
              "  </thead>\n",
              "  <tbody>\n",
              "    <tr>\n",
              "      <th>0</th>\n",
              "      <td>0002-ORFBO</td>\n",
              "      <td>0.0</td>\n",
              "      <td>Female</td>\n",
              "      <td>0</td>\n",
              "      <td>Yes</td>\n",
              "      <td>Yes</td>\n",
              "      <td>9</td>\n",
              "      <td>Yes</td>\n",
              "      <td>No</td>\n",
              "      <td>DSL</td>\n",
              "      <td>...</td>\n",
              "      <td>Yes</td>\n",
              "      <td>No</td>\n",
              "      <td>Yes</td>\n",
              "      <td>Yes</td>\n",
              "      <td>No</td>\n",
              "      <td>One year</td>\n",
              "      <td>Yes</td>\n",
              "      <td>Mailed check</td>\n",
              "      <td>65.60</td>\n",
              "      <td>593.30</td>\n",
              "    </tr>\n",
              "    <tr>\n",
              "      <th>1</th>\n",
              "      <td>0003-MKNFE</td>\n",
              "      <td>0.0</td>\n",
              "      <td>Male</td>\n",
              "      <td>0</td>\n",
              "      <td>No</td>\n",
              "      <td>No</td>\n",
              "      <td>9</td>\n",
              "      <td>Yes</td>\n",
              "      <td>Yes</td>\n",
              "      <td>DSL</td>\n",
              "      <td>...</td>\n",
              "      <td>No</td>\n",
              "      <td>No</td>\n",
              "      <td>No</td>\n",
              "      <td>No</td>\n",
              "      <td>Yes</td>\n",
              "      <td>Month-to-month</td>\n",
              "      <td>No</td>\n",
              "      <td>Mailed check</td>\n",
              "      <td>59.90</td>\n",
              "      <td>542.40</td>\n",
              "    </tr>\n",
              "    <tr>\n",
              "      <th>2</th>\n",
              "      <td>0004-TLHLJ</td>\n",
              "      <td>1.0</td>\n",
              "      <td>Male</td>\n",
              "      <td>0</td>\n",
              "      <td>No</td>\n",
              "      <td>No</td>\n",
              "      <td>4</td>\n",
              "      <td>Yes</td>\n",
              "      <td>No</td>\n",
              "      <td>Fiber optic</td>\n",
              "      <td>...</td>\n",
              "      <td>No</td>\n",
              "      <td>Yes</td>\n",
              "      <td>No</td>\n",
              "      <td>No</td>\n",
              "      <td>No</td>\n",
              "      <td>Month-to-month</td>\n",
              "      <td>Yes</td>\n",
              "      <td>Electronic check</td>\n",
              "      <td>73.90</td>\n",
              "      <td>280.85</td>\n",
              "    </tr>\n",
              "    <tr>\n",
              "      <th>3</th>\n",
              "      <td>0011-IGKFF</td>\n",
              "      <td>1.0</td>\n",
              "      <td>Male</td>\n",
              "      <td>1</td>\n",
              "      <td>Yes</td>\n",
              "      <td>No</td>\n",
              "      <td>13</td>\n",
              "      <td>Yes</td>\n",
              "      <td>No</td>\n",
              "      <td>Fiber optic</td>\n",
              "      <td>...</td>\n",
              "      <td>Yes</td>\n",
              "      <td>Yes</td>\n",
              "      <td>No</td>\n",
              "      <td>Yes</td>\n",
              "      <td>Yes</td>\n",
              "      <td>Month-to-month</td>\n",
              "      <td>Yes</td>\n",
              "      <td>Electronic check</td>\n",
              "      <td>98.00</td>\n",
              "      <td>1237.85</td>\n",
              "    </tr>\n",
              "    <tr>\n",
              "      <th>4</th>\n",
              "      <td>0013-EXCHZ</td>\n",
              "      <td>1.0</td>\n",
              "      <td>Female</td>\n",
              "      <td>1</td>\n",
              "      <td>Yes</td>\n",
              "      <td>No</td>\n",
              "      <td>3</td>\n",
              "      <td>Yes</td>\n",
              "      <td>No</td>\n",
              "      <td>Fiber optic</td>\n",
              "      <td>...</td>\n",
              "      <td>No</td>\n",
              "      <td>No</td>\n",
              "      <td>Yes</td>\n",
              "      <td>Yes</td>\n",
              "      <td>No</td>\n",
              "      <td>Month-to-month</td>\n",
              "      <td>Yes</td>\n",
              "      <td>Mailed check</td>\n",
              "      <td>83.90</td>\n",
              "      <td>267.40</td>\n",
              "    </tr>\n",
              "    <tr>\n",
              "      <th>...</th>\n",
              "      <td>...</td>\n",
              "      <td>...</td>\n",
              "      <td>...</td>\n",
              "      <td>...</td>\n",
              "      <td>...</td>\n",
              "      <td>...</td>\n",
              "      <td>...</td>\n",
              "      <td>...</td>\n",
              "      <td>...</td>\n",
              "      <td>...</td>\n",
              "      <td>...</td>\n",
              "      <td>...</td>\n",
              "      <td>...</td>\n",
              "      <td>...</td>\n",
              "      <td>...</td>\n",
              "      <td>...</td>\n",
              "      <td>...</td>\n",
              "      <td>...</td>\n",
              "      <td>...</td>\n",
              "      <td>...</td>\n",
              "      <td>...</td>\n",
              "    </tr>\n",
              "    <tr>\n",
              "      <th>7262</th>\n",
              "      <td>9987-LUTYD</td>\n",
              "      <td>0.0</td>\n",
              "      <td>Female</td>\n",
              "      <td>0</td>\n",
              "      <td>No</td>\n",
              "      <td>No</td>\n",
              "      <td>13</td>\n",
              "      <td>Yes</td>\n",
              "      <td>No</td>\n",
              "      <td>DSL</td>\n",
              "      <td>...</td>\n",
              "      <td>No</td>\n",
              "      <td>No</td>\n",
              "      <td>Yes</td>\n",
              "      <td>No</td>\n",
              "      <td>No</td>\n",
              "      <td>One year</td>\n",
              "      <td>No</td>\n",
              "      <td>Mailed check</td>\n",
              "      <td>55.15</td>\n",
              "      <td>742.90</td>\n",
              "    </tr>\n",
              "    <tr>\n",
              "      <th>7263</th>\n",
              "      <td>9992-RRAMN</td>\n",
              "      <td>1.0</td>\n",
              "      <td>Male</td>\n",
              "      <td>0</td>\n",
              "      <td>Yes</td>\n",
              "      <td>No</td>\n",
              "      <td>22</td>\n",
              "      <td>Yes</td>\n",
              "      <td>Yes</td>\n",
              "      <td>Fiber optic</td>\n",
              "      <td>...</td>\n",
              "      <td>No</td>\n",
              "      <td>No</td>\n",
              "      <td>No</td>\n",
              "      <td>No</td>\n",
              "      <td>Yes</td>\n",
              "      <td>Month-to-month</td>\n",
              "      <td>Yes</td>\n",
              "      <td>Electronic check</td>\n",
              "      <td>85.10</td>\n",
              "      <td>1873.70</td>\n",
              "    </tr>\n",
              "    <tr>\n",
              "      <th>7264</th>\n",
              "      <td>9992-UJOEL</td>\n",
              "      <td>0.0</td>\n",
              "      <td>Male</td>\n",
              "      <td>0</td>\n",
              "      <td>No</td>\n",
              "      <td>No</td>\n",
              "      <td>2</td>\n",
              "      <td>Yes</td>\n",
              "      <td>No</td>\n",
              "      <td>DSL</td>\n",
              "      <td>...</td>\n",
              "      <td>Yes</td>\n",
              "      <td>No</td>\n",
              "      <td>No</td>\n",
              "      <td>No</td>\n",
              "      <td>No</td>\n",
              "      <td>Month-to-month</td>\n",
              "      <td>Yes</td>\n",
              "      <td>Mailed check</td>\n",
              "      <td>50.30</td>\n",
              "      <td>92.75</td>\n",
              "    </tr>\n",
              "    <tr>\n",
              "      <th>7265</th>\n",
              "      <td>9993-LHIEB</td>\n",
              "      <td>0.0</td>\n",
              "      <td>Male</td>\n",
              "      <td>0</td>\n",
              "      <td>Yes</td>\n",
              "      <td>Yes</td>\n",
              "      <td>67</td>\n",
              "      <td>Yes</td>\n",
              "      <td>No</td>\n",
              "      <td>DSL</td>\n",
              "      <td>...</td>\n",
              "      <td>No</td>\n",
              "      <td>Yes</td>\n",
              "      <td>Yes</td>\n",
              "      <td>No</td>\n",
              "      <td>Yes</td>\n",
              "      <td>Two year</td>\n",
              "      <td>No</td>\n",
              "      <td>Mailed check</td>\n",
              "      <td>67.85</td>\n",
              "      <td>4627.65</td>\n",
              "    </tr>\n",
              "    <tr>\n",
              "      <th>7266</th>\n",
              "      <td>9995-HOTOH</td>\n",
              "      <td>0.0</td>\n",
              "      <td>Male</td>\n",
              "      <td>0</td>\n",
              "      <td>Yes</td>\n",
              "      <td>Yes</td>\n",
              "      <td>63</td>\n",
              "      <td>No</td>\n",
              "      <td>No phone service</td>\n",
              "      <td>DSL</td>\n",
              "      <td>...</td>\n",
              "      <td>Yes</td>\n",
              "      <td>Yes</td>\n",
              "      <td>No</td>\n",
              "      <td>Yes</td>\n",
              "      <td>Yes</td>\n",
              "      <td>Two year</td>\n",
              "      <td>No</td>\n",
              "      <td>Electronic check</td>\n",
              "      <td>59.00</td>\n",
              "      <td>3707.60</td>\n",
              "    </tr>\n",
              "  </tbody>\n",
              "</table>\n",
              "<p>7267 rows × 21 columns</p>\n",
              "</div>\n",
              "    <div class=\"colab-df-buttons\">\n",
              "\n",
              "  <div class=\"colab-df-container\">\n",
              "    <button class=\"colab-df-convert\" onclick=\"convertToInteractive('df-e4728438-631a-4050-86fb-d3f593e6d222')\"\n",
              "            title=\"Convert this dataframe to an interactive table.\"\n",
              "            style=\"display:none;\">\n",
              "\n",
              "  <svg xmlns=\"http://www.w3.org/2000/svg\" height=\"24px\" viewBox=\"0 -960 960 960\">\n",
              "    <path d=\"M120-120v-720h720v720H120Zm60-500h600v-160H180v160Zm220 220h160v-160H400v160Zm0 220h160v-160H400v160ZM180-400h160v-160H180v160Zm440 0h160v-160H620v160ZM180-180h160v-160H180v160Zm440 0h160v-160H620v160Z\"/>\n",
              "  </svg>\n",
              "    </button>\n",
              "\n",
              "  <style>\n",
              "    .colab-df-container {\n",
              "      display:flex;\n",
              "      gap: 12px;\n",
              "    }\n",
              "\n",
              "    .colab-df-convert {\n",
              "      background-color: #E8F0FE;\n",
              "      border: none;\n",
              "      border-radius: 50%;\n",
              "      cursor: pointer;\n",
              "      display: none;\n",
              "      fill: #1967D2;\n",
              "      height: 32px;\n",
              "      padding: 0 0 0 0;\n",
              "      width: 32px;\n",
              "    }\n",
              "\n",
              "    .colab-df-convert:hover {\n",
              "      background-color: #E2EBFA;\n",
              "      box-shadow: 0px 1px 2px rgba(60, 64, 67, 0.3), 0px 1px 3px 1px rgba(60, 64, 67, 0.15);\n",
              "      fill: #174EA6;\n",
              "    }\n",
              "\n",
              "    .colab-df-buttons div {\n",
              "      margin-bottom: 4px;\n",
              "    }\n",
              "\n",
              "    [theme=dark] .colab-df-convert {\n",
              "      background-color: #3B4455;\n",
              "      fill: #D2E3FC;\n",
              "    }\n",
              "\n",
              "    [theme=dark] .colab-df-convert:hover {\n",
              "      background-color: #434B5C;\n",
              "      box-shadow: 0px 1px 3px 1px rgba(0, 0, 0, 0.15);\n",
              "      filter: drop-shadow(0px 1px 2px rgba(0, 0, 0, 0.3));\n",
              "      fill: #FFFFFF;\n",
              "    }\n",
              "  </style>\n",
              "\n",
              "    <script>\n",
              "      const buttonEl =\n",
              "        document.querySelector('#df-e4728438-631a-4050-86fb-d3f593e6d222 button.colab-df-convert');\n",
              "      buttonEl.style.display =\n",
              "        google.colab.kernel.accessAllowed ? 'block' : 'none';\n",
              "\n",
              "      async function convertToInteractive(key) {\n",
              "        const element = document.querySelector('#df-e4728438-631a-4050-86fb-d3f593e6d222');\n",
              "        const dataTable =\n",
              "          await google.colab.kernel.invokeFunction('convertToInteractive',\n",
              "                                                    [key], {});\n",
              "        if (!dataTable) return;\n",
              "\n",
              "        const docLinkHtml = 'Like what you see? Visit the ' +\n",
              "          '<a target=\"_blank\" href=https://colab.research.google.com/notebooks/data_table.ipynb>data table notebook</a>'\n",
              "          + ' to learn more about interactive tables.';\n",
              "        element.innerHTML = '';\n",
              "        dataTable['output_type'] = 'display_data';\n",
              "        await google.colab.output.renderOutput(dataTable, element);\n",
              "        const docLink = document.createElement('div');\n",
              "        docLink.innerHTML = docLinkHtml;\n",
              "        element.appendChild(docLink);\n",
              "      }\n",
              "    </script>\n",
              "  </div>\n",
              "\n",
              "\n",
              "    <div id=\"df-49050639-7894-4be7-8061-114772817012\">\n",
              "      <button class=\"colab-df-quickchart\" onclick=\"quickchart('df-49050639-7894-4be7-8061-114772817012')\"\n",
              "                title=\"Suggest charts\"\n",
              "                style=\"display:none;\">\n",
              "\n",
              "<svg xmlns=\"http://www.w3.org/2000/svg\" height=\"24px\"viewBox=\"0 0 24 24\"\n",
              "     width=\"24px\">\n",
              "    <g>\n",
              "        <path d=\"M19 3H5c-1.1 0-2 .9-2 2v14c0 1.1.9 2 2 2h14c1.1 0 2-.9 2-2V5c0-1.1-.9-2-2-2zM9 17H7v-7h2v7zm4 0h-2V7h2v10zm4 0h-2v-4h2v4z\"/>\n",
              "    </g>\n",
              "</svg>\n",
              "      </button>\n",
              "\n",
              "<style>\n",
              "  .colab-df-quickchart {\n",
              "      --bg-color: #E8F0FE;\n",
              "      --fill-color: #1967D2;\n",
              "      --hover-bg-color: #E2EBFA;\n",
              "      --hover-fill-color: #174EA6;\n",
              "      --disabled-fill-color: #AAA;\n",
              "      --disabled-bg-color: #DDD;\n",
              "  }\n",
              "\n",
              "  [theme=dark] .colab-df-quickchart {\n",
              "      --bg-color: #3B4455;\n",
              "      --fill-color: #D2E3FC;\n",
              "      --hover-bg-color: #434B5C;\n",
              "      --hover-fill-color: #FFFFFF;\n",
              "      --disabled-bg-color: #3B4455;\n",
              "      --disabled-fill-color: #666;\n",
              "  }\n",
              "\n",
              "  .colab-df-quickchart {\n",
              "    background-color: var(--bg-color);\n",
              "    border: none;\n",
              "    border-radius: 50%;\n",
              "    cursor: pointer;\n",
              "    display: none;\n",
              "    fill: var(--fill-color);\n",
              "    height: 32px;\n",
              "    padding: 0;\n",
              "    width: 32px;\n",
              "  }\n",
              "\n",
              "  .colab-df-quickchart:hover {\n",
              "    background-color: var(--hover-bg-color);\n",
              "    box-shadow: 0 1px 2px rgba(60, 64, 67, 0.3), 0 1px 3px 1px rgba(60, 64, 67, 0.15);\n",
              "    fill: var(--button-hover-fill-color);\n",
              "  }\n",
              "\n",
              "  .colab-df-quickchart-complete:disabled,\n",
              "  .colab-df-quickchart-complete:disabled:hover {\n",
              "    background-color: var(--disabled-bg-color);\n",
              "    fill: var(--disabled-fill-color);\n",
              "    box-shadow: none;\n",
              "  }\n",
              "\n",
              "  .colab-df-spinner {\n",
              "    border: 2px solid var(--fill-color);\n",
              "    border-color: transparent;\n",
              "    border-bottom-color: var(--fill-color);\n",
              "    animation:\n",
              "      spin 1s steps(1) infinite;\n",
              "  }\n",
              "\n",
              "  @keyframes spin {\n",
              "    0% {\n",
              "      border-color: transparent;\n",
              "      border-bottom-color: var(--fill-color);\n",
              "      border-left-color: var(--fill-color);\n",
              "    }\n",
              "    20% {\n",
              "      border-color: transparent;\n",
              "      border-left-color: var(--fill-color);\n",
              "      border-top-color: var(--fill-color);\n",
              "    }\n",
              "    30% {\n",
              "      border-color: transparent;\n",
              "      border-left-color: var(--fill-color);\n",
              "      border-top-color: var(--fill-color);\n",
              "      border-right-color: var(--fill-color);\n",
              "    }\n",
              "    40% {\n",
              "      border-color: transparent;\n",
              "      border-right-color: var(--fill-color);\n",
              "      border-top-color: var(--fill-color);\n",
              "    }\n",
              "    60% {\n",
              "      border-color: transparent;\n",
              "      border-right-color: var(--fill-color);\n",
              "    }\n",
              "    80% {\n",
              "      border-color: transparent;\n",
              "      border-right-color: var(--fill-color);\n",
              "      border-bottom-color: var(--fill-color);\n",
              "    }\n",
              "    90% {\n",
              "      border-color: transparent;\n",
              "      border-bottom-color: var(--fill-color);\n",
              "    }\n",
              "  }\n",
              "</style>\n",
              "\n",
              "      <script>\n",
              "        async function quickchart(key) {\n",
              "          const quickchartButtonEl =\n",
              "            document.querySelector('#' + key + ' button');\n",
              "          quickchartButtonEl.disabled = true;  // To prevent multiple clicks.\n",
              "          quickchartButtonEl.classList.add('colab-df-spinner');\n",
              "          try {\n",
              "            const charts = await google.colab.kernel.invokeFunction(\n",
              "                'suggestCharts', [key], {});\n",
              "          } catch (error) {\n",
              "            console.error('Error during call to suggestCharts:', error);\n",
              "          }\n",
              "          quickchartButtonEl.classList.remove('colab-df-spinner');\n",
              "          quickchartButtonEl.classList.add('colab-df-quickchart-complete');\n",
              "        }\n",
              "        (() => {\n",
              "          let quickchartButtonEl =\n",
              "            document.querySelector('#df-49050639-7894-4be7-8061-114772817012 button');\n",
              "          quickchartButtonEl.style.display =\n",
              "            google.colab.kernel.accessAllowed ? 'block' : 'none';\n",
              "        })();\n",
              "      </script>\n",
              "    </div>\n",
              "\n",
              "  <div id=\"id_58e7dcfa-63e3-4272-b914-4864db8b181d\">\n",
              "    <style>\n",
              "      .colab-df-generate {\n",
              "        background-color: #E8F0FE;\n",
              "        border: none;\n",
              "        border-radius: 50%;\n",
              "        cursor: pointer;\n",
              "        display: none;\n",
              "        fill: #1967D2;\n",
              "        height: 32px;\n",
              "        padding: 0 0 0 0;\n",
              "        width: 32px;\n",
              "      }\n",
              "\n",
              "      .colab-df-generate:hover {\n",
              "        background-color: #E2EBFA;\n",
              "        box-shadow: 0px 1px 2px rgba(60, 64, 67, 0.3), 0px 1px 3px 1px rgba(60, 64, 67, 0.15);\n",
              "        fill: #174EA6;\n",
              "      }\n",
              "\n",
              "      [theme=dark] .colab-df-generate {\n",
              "        background-color: #3B4455;\n",
              "        fill: #D2E3FC;\n",
              "      }\n",
              "\n",
              "      [theme=dark] .colab-df-generate:hover {\n",
              "        background-color: #434B5C;\n",
              "        box-shadow: 0px 1px 3px 1px rgba(0, 0, 0, 0.15);\n",
              "        filter: drop-shadow(0px 1px 2px rgba(0, 0, 0, 0.3));\n",
              "        fill: #FFFFFF;\n",
              "      }\n",
              "    </style>\n",
              "    <button class=\"colab-df-generate\" onclick=\"generateWithVariable('telecomX_parte2')\"\n",
              "            title=\"Generate code using this dataframe.\"\n",
              "            style=\"display:none;\">\n",
              "\n",
              "  <svg xmlns=\"http://www.w3.org/2000/svg\" height=\"24px\"viewBox=\"0 0 24 24\"\n",
              "       width=\"24px\">\n",
              "    <path d=\"M7,19H8.4L18.45,9,17,7.55,7,17.6ZM5,21V16.75L18.45,3.32a2,2,0,0,1,2.83,0l1.4,1.43a1.91,1.91,0,0,1,.58,1.4,1.91,1.91,0,0,1-.58,1.4L9.25,21ZM18.45,9,17,7.55Zm-12,3A5.31,5.31,0,0,0,4.9,8.1,5.31,5.31,0,0,0,1,6.5,5.31,5.31,0,0,0,4.9,4.9,5.31,5.31,0,0,0,6.5,1,5.31,5.31,0,0,0,8.1,4.9,5.31,5.31,0,0,0,12,6.5,5.46,5.46,0,0,0,6.5,12Z\"/>\n",
              "  </svg>\n",
              "    </button>\n",
              "    <script>\n",
              "      (() => {\n",
              "      const buttonEl =\n",
              "        document.querySelector('#id_58e7dcfa-63e3-4272-b914-4864db8b181d button.colab-df-generate');\n",
              "      buttonEl.style.display =\n",
              "        google.colab.kernel.accessAllowed ? 'block' : 'none';\n",
              "\n",
              "      buttonEl.onclick = () => {\n",
              "        google.colab.notebook.generateWithVariable('telecomX_parte2');\n",
              "      }\n",
              "      })();\n",
              "    </script>\n",
              "  </div>\n",
              "\n",
              "    </div>\n",
              "  </div>\n"
            ],
            "application/vnd.google.colaboratory.intrinsic+json": {
              "type": "dataframe",
              "variable_name": "telecomX_parte2"
            }
          },
          "metadata": {},
          "execution_count": 42
        }
      ]
    },
    {
      "cell_type": "code",
      "source": [
        "telecomX_parte2.info()"
      ],
      "metadata": {
        "id": "bfYIKOk8KcI8",
        "outputId": "0422ccda-aee2-4b43-e51c-6c2eb3af4491",
        "colab": {
          "base_uri": "https://localhost:8080/"
        }
      },
      "execution_count": 43,
      "outputs": [
        {
          "output_type": "stream",
          "name": "stdout",
          "text": [
            "<class 'pandas.core.frame.DataFrame'>\n",
            "RangeIndex: 7267 entries, 0 to 7266\n",
            "Data columns (total 21 columns):\n",
            " #   Column                   Non-Null Count  Dtype  \n",
            "---  ------                   --------------  -----  \n",
            " 0   ID_CLIENTE               7267 non-null   object \n",
            " 1   CHURN                    7043 non-null   float64\n",
            " 2   GENERO_CLIENTE           7267 non-null   object \n",
            " 3   CLIENTE_SENIOR           7267 non-null   int64  \n",
            " 4   CLIENTE_PARTNER          7267 non-null   object \n",
            " 5   CLIENTE_DEPENDIENTE      7267 non-null   object \n",
            " 6   ANTIGUEDAD_CLIENTE       7267 non-null   int64  \n",
            " 7   SERVICIO_TELEFONO        7267 non-null   object \n",
            " 8   MULTIPLES_LINEAS         7267 non-null   object \n",
            " 9   TIPO_INTERNET            7267 non-null   object \n",
            " 10  SEGURIDAD_ONLINE         7267 non-null   object \n",
            " 11  RESPALDO_ONLINE          7267 non-null   object \n",
            " 12  PROTECCION_DISPOSITIVOS  7267 non-null   object \n",
            " 13  SOPORTE_TECNICO          7267 non-null   object \n",
            " 14  STREAMING                7267 non-null   object \n",
            " 15  PELICULAS_STREAMING      7267 non-null   object \n",
            " 16  CONTRATO                 7267 non-null   object \n",
            " 17  BOLETA_ELECTRONICA       7267 non-null   object \n",
            " 18  METODO_PAGO              7267 non-null   object \n",
            " 19  CARGO_MENSUAL            7267 non-null   float64\n",
            " 20  CARGO_TOTAL              7256 non-null   float64\n",
            "dtypes: float64(3), int64(2), object(16)\n",
            "memory usage: 1.2+ MB\n"
          ]
        }
      ]
    },
    {
      "cell_type": "code",
      "source": [
        "telecomX_parte2.isnull().sum()"
      ],
      "metadata": {
        "id": "bcQP61t2KcNv",
        "outputId": "0c498893-c2b6-4bb6-f550-a51ad78acfb5",
        "colab": {
          "base_uri": "https://localhost:8080/",
          "height": 742
        }
      },
      "execution_count": 44,
      "outputs": [
        {
          "output_type": "execute_result",
          "data": {
            "text/plain": [
              "ID_CLIENTE                   0\n",
              "CHURN                      224\n",
              "GENERO_CLIENTE               0\n",
              "CLIENTE_SENIOR               0\n",
              "CLIENTE_PARTNER              0\n",
              "CLIENTE_DEPENDIENTE          0\n",
              "ANTIGUEDAD_CLIENTE           0\n",
              "SERVICIO_TELEFONO            0\n",
              "MULTIPLES_LINEAS             0\n",
              "TIPO_INTERNET                0\n",
              "SEGURIDAD_ONLINE             0\n",
              "RESPALDO_ONLINE              0\n",
              "PROTECCION_DISPOSITIVOS      0\n",
              "SOPORTE_TECNICO              0\n",
              "STREAMING                    0\n",
              "PELICULAS_STREAMING          0\n",
              "CONTRATO                     0\n",
              "BOLETA_ELECTRONICA           0\n",
              "METODO_PAGO                  0\n",
              "CARGO_MENSUAL                0\n",
              "CARGO_TOTAL                 11\n",
              "dtype: int64"
            ],
            "text/html": [
              "<div>\n",
              "<style scoped>\n",
              "    .dataframe tbody tr th:only-of-type {\n",
              "        vertical-align: middle;\n",
              "    }\n",
              "\n",
              "    .dataframe tbody tr th {\n",
              "        vertical-align: top;\n",
              "    }\n",
              "\n",
              "    .dataframe thead th {\n",
              "        text-align: right;\n",
              "    }\n",
              "</style>\n",
              "<table border=\"1\" class=\"dataframe\">\n",
              "  <thead>\n",
              "    <tr style=\"text-align: right;\">\n",
              "      <th></th>\n",
              "      <th>0</th>\n",
              "    </tr>\n",
              "  </thead>\n",
              "  <tbody>\n",
              "    <tr>\n",
              "      <th>ID_CLIENTE</th>\n",
              "      <td>0</td>\n",
              "    </tr>\n",
              "    <tr>\n",
              "      <th>CHURN</th>\n",
              "      <td>224</td>\n",
              "    </tr>\n",
              "    <tr>\n",
              "      <th>GENERO_CLIENTE</th>\n",
              "      <td>0</td>\n",
              "    </tr>\n",
              "    <tr>\n",
              "      <th>CLIENTE_SENIOR</th>\n",
              "      <td>0</td>\n",
              "    </tr>\n",
              "    <tr>\n",
              "      <th>CLIENTE_PARTNER</th>\n",
              "      <td>0</td>\n",
              "    </tr>\n",
              "    <tr>\n",
              "      <th>CLIENTE_DEPENDIENTE</th>\n",
              "      <td>0</td>\n",
              "    </tr>\n",
              "    <tr>\n",
              "      <th>ANTIGUEDAD_CLIENTE</th>\n",
              "      <td>0</td>\n",
              "    </tr>\n",
              "    <tr>\n",
              "      <th>SERVICIO_TELEFONO</th>\n",
              "      <td>0</td>\n",
              "    </tr>\n",
              "    <tr>\n",
              "      <th>MULTIPLES_LINEAS</th>\n",
              "      <td>0</td>\n",
              "    </tr>\n",
              "    <tr>\n",
              "      <th>TIPO_INTERNET</th>\n",
              "      <td>0</td>\n",
              "    </tr>\n",
              "    <tr>\n",
              "      <th>SEGURIDAD_ONLINE</th>\n",
              "      <td>0</td>\n",
              "    </tr>\n",
              "    <tr>\n",
              "      <th>RESPALDO_ONLINE</th>\n",
              "      <td>0</td>\n",
              "    </tr>\n",
              "    <tr>\n",
              "      <th>PROTECCION_DISPOSITIVOS</th>\n",
              "      <td>0</td>\n",
              "    </tr>\n",
              "    <tr>\n",
              "      <th>SOPORTE_TECNICO</th>\n",
              "      <td>0</td>\n",
              "    </tr>\n",
              "    <tr>\n",
              "      <th>STREAMING</th>\n",
              "      <td>0</td>\n",
              "    </tr>\n",
              "    <tr>\n",
              "      <th>PELICULAS_STREAMING</th>\n",
              "      <td>0</td>\n",
              "    </tr>\n",
              "    <tr>\n",
              "      <th>CONTRATO</th>\n",
              "      <td>0</td>\n",
              "    </tr>\n",
              "    <tr>\n",
              "      <th>BOLETA_ELECTRONICA</th>\n",
              "      <td>0</td>\n",
              "    </tr>\n",
              "    <tr>\n",
              "      <th>METODO_PAGO</th>\n",
              "      <td>0</td>\n",
              "    </tr>\n",
              "    <tr>\n",
              "      <th>CARGO_MENSUAL</th>\n",
              "      <td>0</td>\n",
              "    </tr>\n",
              "    <tr>\n",
              "      <th>CARGO_TOTAL</th>\n",
              "      <td>11</td>\n",
              "    </tr>\n",
              "  </tbody>\n",
              "</table>\n",
              "</div><br><label><b>dtype:</b> int64</label>"
            ]
          },
          "metadata": {},
          "execution_count": 44
        }
      ]
    },
    {
      "cell_type": "code",
      "source": [
        "import pandas as pd\n",
        "\n",
        "def verificar_espacios_blancos(df):\n",
        "    # Convertimos a str y usamos map (mejor alternativa a applymap)\n",
        "    blancos = df.astype(str).map(lambda x: x.strip() == '')\n",
        "\n",
        "    total_blancos = blancos.sum().sum()\n",
        "\n",
        "    if total_blancos == 0:\n",
        "        print(\"No se encontraron espacios en blanco en el DataFrame.\")\n",
        "        return\n",
        "\n",
        "    print(f\"Se encontraron {total_blancos} celdas con espacios en blanco.\\n\")\n",
        "\n",
        "    # Cantidad por columna\n",
        "    print(\"Celdas con espacios en blanco por columna:\")\n",
        "    print(blancos.sum()[blancos.sum() > 0])\n",
        "\n",
        "    # Posiciones exactas\n",
        "    print(\"\\nPosiciones de las celdas con espacios en blanco:\")\n",
        "    posiciones = [(i, j) for i, row in blancos.iterrows() for j in row.index if row[j]]\n",
        "    for fila, col in posiciones:\n",
        "        print(f\"  - Fila: {fila}, Columna: '{col}'\")\n",
        "\n",
        "    return blancos"
      ],
      "metadata": {
        "id": "Iy4CMhMXKcQ8"
      },
      "execution_count": 45,
      "outputs": []
    },
    {
      "cell_type": "code",
      "source": [
        "verificar_espacios_blancos(telecomX_parte2)"
      ],
      "metadata": {
        "id": "XluV8vWtKcT1",
        "outputId": "795646eb-014a-4d6f-de86-b1b0252b535c",
        "colab": {
          "base_uri": "https://localhost:8080/"
        }
      },
      "execution_count": 46,
      "outputs": [
        {
          "output_type": "stream",
          "name": "stdout",
          "text": [
            "No se encontraron espacios en blanco en el DataFrame.\n"
          ]
        }
      ]
    },
    {
      "cell_type": "code",
      "source": [
        "# Verificar valores únicos en Churn (incluyendo cadenas vacías)\n",
        "print(\"\\nVALORES ÚNICOS EN CHURN:\")\n",
        "print(\"=\" * 50)\n",
        "churn_counts = telecomX_parte2['CHURN'].value_counts(dropna=False)\n",
        "print(churn_counts)"
      ],
      "metadata": {
        "id": "SvB5WgE-KcWr",
        "outputId": "ec218a0f-544b-4404-8578-3edea40ce16b",
        "colab": {
          "base_uri": "https://localhost:8080/"
        }
      },
      "execution_count": 47,
      "outputs": [
        {
          "output_type": "stream",
          "name": "stdout",
          "text": [
            "\n",
            "VALORES ÚNICOS EN CHURN:\n",
            "==================================================\n",
            "CHURN\n",
            "0.0    5174\n",
            "1.0    1869\n",
            "NaN     224\n",
            "Name: count, dtype: int64\n"
          ]
        }
      ]
    },
    {
      "cell_type": "code",
      "source": [
        "telecomX_parte2 = telecomX_parte2.dropna(subset=['CHURN'])"
      ],
      "metadata": {
        "id": "2qlozQUiSAli"
      },
      "execution_count": 48,
      "outputs": []
    },
    {
      "cell_type": "code",
      "source": [
        "# Verificar valores únicos en Churn (incluyendo cadenas vacías)\n",
        "print(\"\\nVALORES ÚNICOS EN CHURN:\")\n",
        "print(\"=\" * 50)\n",
        "churn_counts = telecomX_parte2['CHURN'].value_counts(dropna=False)\n",
        "print(churn_counts)"
      ],
      "metadata": {
        "id": "6bQgi9yVTTW2",
        "outputId": "3e39c7ba-7b6d-492f-942b-b766e85e418d",
        "colab": {
          "base_uri": "https://localhost:8080/"
        }
      },
      "execution_count": 49,
      "outputs": [
        {
          "output_type": "stream",
          "name": "stdout",
          "text": [
            "\n",
            "VALORES ÚNICOS EN CHURN:\n",
            "==================================================\n",
            "CHURN\n",
            "0.0    5174\n",
            "1.0    1869\n",
            "Name: count, dtype: int64\n"
          ]
        }
      ]
    },
    {
      "cell_type": "code",
      "source": [
        "# Verificar si hay cadenas vacías en Churn\n",
        "empty_churn = (telecomX_parte2['CHURN'] == '').sum()\n",
        "print(f\"\\nCadenas vacías en Churn: {empty_churn}\")"
      ],
      "metadata": {
        "id": "lh6CW7EvKcZS",
        "outputId": "039dd48e-5ca5-4965-942f-e036c6cfcb2f",
        "colab": {
          "base_uri": "https://localhost:8080/"
        }
      },
      "execution_count": 50,
      "outputs": [
        {
          "output_type": "stream",
          "name": "stdout",
          "text": [
            "\n",
            "Cadenas vacías en Churn: 0\n"
          ]
        }
      ]
    },
    {
      "cell_type": "code",
      "source": [
        "telecomX_parte2 = telecomX_parte2.drop('ID_CLIENTE', axis=1)"
      ],
      "metadata": {
        "id": "0IalJJl4KccJ"
      },
      "execution_count": 51,
      "outputs": []
    },
    {
      "cell_type": "code",
      "source": [
        "telecomX_parte2.isnull().sum()"
      ],
      "metadata": {
        "id": "vO3J6x-JKchX",
        "outputId": "2907cb27-293e-4d91-c49e-17b4d3104041",
        "colab": {
          "base_uri": "https://localhost:8080/",
          "height": 711
        }
      },
      "execution_count": 52,
      "outputs": [
        {
          "output_type": "execute_result",
          "data": {
            "text/plain": [
              "CHURN                       0\n",
              "GENERO_CLIENTE              0\n",
              "CLIENTE_SENIOR              0\n",
              "CLIENTE_PARTNER             0\n",
              "CLIENTE_DEPENDIENTE         0\n",
              "ANTIGUEDAD_CLIENTE          0\n",
              "SERVICIO_TELEFONO           0\n",
              "MULTIPLES_LINEAS            0\n",
              "TIPO_INTERNET               0\n",
              "SEGURIDAD_ONLINE            0\n",
              "RESPALDO_ONLINE             0\n",
              "PROTECCION_DISPOSITIVOS     0\n",
              "SOPORTE_TECNICO             0\n",
              "STREAMING                   0\n",
              "PELICULAS_STREAMING         0\n",
              "CONTRATO                    0\n",
              "BOLETA_ELECTRONICA          0\n",
              "METODO_PAGO                 0\n",
              "CARGO_MENSUAL               0\n",
              "CARGO_TOTAL                11\n",
              "dtype: int64"
            ],
            "text/html": [
              "<div>\n",
              "<style scoped>\n",
              "    .dataframe tbody tr th:only-of-type {\n",
              "        vertical-align: middle;\n",
              "    }\n",
              "\n",
              "    .dataframe tbody tr th {\n",
              "        vertical-align: top;\n",
              "    }\n",
              "\n",
              "    .dataframe thead th {\n",
              "        text-align: right;\n",
              "    }\n",
              "</style>\n",
              "<table border=\"1\" class=\"dataframe\">\n",
              "  <thead>\n",
              "    <tr style=\"text-align: right;\">\n",
              "      <th></th>\n",
              "      <th>0</th>\n",
              "    </tr>\n",
              "  </thead>\n",
              "  <tbody>\n",
              "    <tr>\n",
              "      <th>CHURN</th>\n",
              "      <td>0</td>\n",
              "    </tr>\n",
              "    <tr>\n",
              "      <th>GENERO_CLIENTE</th>\n",
              "      <td>0</td>\n",
              "    </tr>\n",
              "    <tr>\n",
              "      <th>CLIENTE_SENIOR</th>\n",
              "      <td>0</td>\n",
              "    </tr>\n",
              "    <tr>\n",
              "      <th>CLIENTE_PARTNER</th>\n",
              "      <td>0</td>\n",
              "    </tr>\n",
              "    <tr>\n",
              "      <th>CLIENTE_DEPENDIENTE</th>\n",
              "      <td>0</td>\n",
              "    </tr>\n",
              "    <tr>\n",
              "      <th>ANTIGUEDAD_CLIENTE</th>\n",
              "      <td>0</td>\n",
              "    </tr>\n",
              "    <tr>\n",
              "      <th>SERVICIO_TELEFONO</th>\n",
              "      <td>0</td>\n",
              "    </tr>\n",
              "    <tr>\n",
              "      <th>MULTIPLES_LINEAS</th>\n",
              "      <td>0</td>\n",
              "    </tr>\n",
              "    <tr>\n",
              "      <th>TIPO_INTERNET</th>\n",
              "      <td>0</td>\n",
              "    </tr>\n",
              "    <tr>\n",
              "      <th>SEGURIDAD_ONLINE</th>\n",
              "      <td>0</td>\n",
              "    </tr>\n",
              "    <tr>\n",
              "      <th>RESPALDO_ONLINE</th>\n",
              "      <td>0</td>\n",
              "    </tr>\n",
              "    <tr>\n",
              "      <th>PROTECCION_DISPOSITIVOS</th>\n",
              "      <td>0</td>\n",
              "    </tr>\n",
              "    <tr>\n",
              "      <th>SOPORTE_TECNICO</th>\n",
              "      <td>0</td>\n",
              "    </tr>\n",
              "    <tr>\n",
              "      <th>STREAMING</th>\n",
              "      <td>0</td>\n",
              "    </tr>\n",
              "    <tr>\n",
              "      <th>PELICULAS_STREAMING</th>\n",
              "      <td>0</td>\n",
              "    </tr>\n",
              "    <tr>\n",
              "      <th>CONTRATO</th>\n",
              "      <td>0</td>\n",
              "    </tr>\n",
              "    <tr>\n",
              "      <th>BOLETA_ELECTRONICA</th>\n",
              "      <td>0</td>\n",
              "    </tr>\n",
              "    <tr>\n",
              "      <th>METODO_PAGO</th>\n",
              "      <td>0</td>\n",
              "    </tr>\n",
              "    <tr>\n",
              "      <th>CARGO_MENSUAL</th>\n",
              "      <td>0</td>\n",
              "    </tr>\n",
              "    <tr>\n",
              "      <th>CARGO_TOTAL</th>\n",
              "      <td>11</td>\n",
              "    </tr>\n",
              "  </tbody>\n",
              "</table>\n",
              "</div><br><label><b>dtype:</b> int64</label>"
            ]
          },
          "metadata": {},
          "execution_count": 52
        }
      ]
    },
    {
      "cell_type": "code",
      "source": [
        "# Verificar valores únicos en CARGO_TOTAL (incluyendo cadenas vacías)\n",
        "print(\"\\nVALORES ÚNICOS EN CARGO TOTAL:\")\n",
        "print(\"=\" * 50)\n",
        "churn_counts = telecomX_parte2['CARGO_TOTAL'].value_counts(dropna=False)\n",
        "print(churn_counts)"
      ],
      "metadata": {
        "id": "IwgyregcKcj8",
        "outputId": "76450424-8355-4972-b256-0d1e3173a51f",
        "colab": {
          "base_uri": "https://localhost:8080/"
        }
      },
      "execution_count": 53,
      "outputs": [
        {
          "output_type": "stream",
          "name": "stdout",
          "text": [
            "\n",
            "VALORES ÚNICOS EN CARGO TOTAL:\n",
            "==================================================\n",
            "CARGO_TOTAL\n",
            "20.20      11\n",
            "NaN        11\n",
            "19.75       9\n",
            "19.90       8\n",
            "19.65       8\n",
            "           ..\n",
            "829.55      1\n",
            "625.65      1\n",
            "462.80      1\n",
            "251.25      1\n",
            "3121.45     1\n",
            "Name: count, Length: 6531, dtype: int64\n"
          ]
        }
      ]
    },
    {
      "cell_type": "code",
      "source": [
        "telecomX_parte2 = telecomX_parte2.dropna(subset=['CARGO_TOTAL'])"
      ],
      "metadata": {
        "id": "GeHX7MaHTdc-"
      },
      "execution_count": 54,
      "outputs": []
    },
    {
      "cell_type": "code",
      "source": [
        "# Verificar valores únicos en CARGO_TOTAL (incluyendo cadenas vacías)\n",
        "print(\"\\nVALORES ÚNICOS EN CARGO TOTAL:\")\n",
        "print(\"=\" * 50)\n",
        "churn_counts = telecomX_parte2['CARGO_TOTAL'].value_counts(dropna=False)\n",
        "print(churn_counts)"
      ],
      "metadata": {
        "id": "z_R6u364Tdgo",
        "outputId": "6467ead7-eaa5-4566-ab5b-db34a35810c2",
        "colab": {
          "base_uri": "https://localhost:8080/"
        }
      },
      "execution_count": 55,
      "outputs": [
        {
          "output_type": "stream",
          "name": "stdout",
          "text": [
            "\n",
            "VALORES ÚNICOS EN CARGO TOTAL:\n",
            "==================================================\n",
            "CARGO_TOTAL\n",
            "20.20      11\n",
            "19.75       9\n",
            "19.90       8\n",
            "19.65       8\n",
            "20.05       8\n",
            "           ..\n",
            "2058.50     1\n",
            "829.55      1\n",
            "625.65      1\n",
            "462.80      1\n",
            "3046.40     1\n",
            "Name: count, Length: 6530, dtype: int64\n"
          ]
        }
      ]
    },
    {
      "cell_type": "markdown",
      "source": [
        "**Modificando columnas Object a numéricas**"
      ],
      "metadata": {
        "id": "k7bcbJrdWEhi"
      }
    },
    {
      "cell_type": "code",
      "source": [
        "import warnings\n",
        "warnings.filterwarnings('ignore')"
      ],
      "metadata": {
        "id": "IS2j3xnoTdi4"
      },
      "execution_count": 56,
      "outputs": []
    },
    {
      "cell_type": "code",
      "source": [
        "telecomX_parte2.info()"
      ],
      "metadata": {
        "id": "ZNAJ9Da7TdlO",
        "outputId": "223f524c-8944-46c0-bf58-712bff89741a",
        "colab": {
          "base_uri": "https://localhost:8080/"
        }
      },
      "execution_count": 57,
      "outputs": [
        {
          "output_type": "stream",
          "name": "stdout",
          "text": [
            "<class 'pandas.core.frame.DataFrame'>\n",
            "Index: 7032 entries, 0 to 7266\n",
            "Data columns (total 20 columns):\n",
            " #   Column                   Non-Null Count  Dtype  \n",
            "---  ------                   --------------  -----  \n",
            " 0   CHURN                    7032 non-null   float64\n",
            " 1   GENERO_CLIENTE           7032 non-null   object \n",
            " 2   CLIENTE_SENIOR           7032 non-null   int64  \n",
            " 3   CLIENTE_PARTNER          7032 non-null   object \n",
            " 4   CLIENTE_DEPENDIENTE      7032 non-null   object \n",
            " 5   ANTIGUEDAD_CLIENTE       7032 non-null   int64  \n",
            " 6   SERVICIO_TELEFONO        7032 non-null   object \n",
            " 7   MULTIPLES_LINEAS         7032 non-null   object \n",
            " 8   TIPO_INTERNET            7032 non-null   object \n",
            " 9   SEGURIDAD_ONLINE         7032 non-null   object \n",
            " 10  RESPALDO_ONLINE          7032 non-null   object \n",
            " 11  PROTECCION_DISPOSITIVOS  7032 non-null   object \n",
            " 12  SOPORTE_TECNICO          7032 non-null   object \n",
            " 13  STREAMING                7032 non-null   object \n",
            " 14  PELICULAS_STREAMING      7032 non-null   object \n",
            " 15  CONTRATO                 7032 non-null   object \n",
            " 16  BOLETA_ELECTRONICA       7032 non-null   object \n",
            " 17  METODO_PAGO              7032 non-null   object \n",
            " 18  CARGO_MENSUAL            7032 non-null   float64\n",
            " 19  CARGO_TOTAL              7032 non-null   float64\n",
            "dtypes: float64(3), int64(2), object(15)\n",
            "memory usage: 1.1+ MB\n"
          ]
        }
      ]
    },
    {
      "cell_type": "code",
      "source": [
        "telecomX_parte2['GENERO_CLIENTE'].value_counts()"
      ],
      "metadata": {
        "id": "DJqovqtpTdoT",
        "outputId": "76057a82-634b-4466-b39d-f08fba9dbf5a",
        "colab": {
          "base_uri": "https://localhost:8080/",
          "height": 178
        }
      },
      "execution_count": 92,
      "outputs": [
        {
          "output_type": "execute_result",
          "data": {
            "text/plain": [
              "GENERO_CLIENTE\n",
              "Male      3549\n",
              "Female    3483\n",
              "Name: count, dtype: int64"
            ],
            "text/html": [
              "<div>\n",
              "<style scoped>\n",
              "    .dataframe tbody tr th:only-of-type {\n",
              "        vertical-align: middle;\n",
              "    }\n",
              "\n",
              "    .dataframe tbody tr th {\n",
              "        vertical-align: top;\n",
              "    }\n",
              "\n",
              "    .dataframe thead th {\n",
              "        text-align: right;\n",
              "    }\n",
              "</style>\n",
              "<table border=\"1\" class=\"dataframe\">\n",
              "  <thead>\n",
              "    <tr style=\"text-align: right;\">\n",
              "      <th></th>\n",
              "      <th>count</th>\n",
              "    </tr>\n",
              "    <tr>\n",
              "      <th>GENERO_CLIENTE</th>\n",
              "      <th></th>\n",
              "    </tr>\n",
              "  </thead>\n",
              "  <tbody>\n",
              "    <tr>\n",
              "      <th>Male</th>\n",
              "      <td>3549</td>\n",
              "    </tr>\n",
              "    <tr>\n",
              "      <th>Female</th>\n",
              "      <td>3483</td>\n",
              "    </tr>\n",
              "  </tbody>\n",
              "</table>\n",
              "</div><br><label><b>dtype:</b> int64</label>"
            ]
          },
          "metadata": {},
          "execution_count": 92
        }
      ]
    },
    {
      "cell_type": "code",
      "source": [
        "telecomX_parte2['GENERO_CLIENTE']= telecomX_parte2['GENERO_CLIENTE'].replace({'Male':0,'Female':1})"
      ],
      "metadata": {
        "id": "m2NOD3F2TdrM"
      },
      "execution_count": 103,
      "outputs": []
    },
    {
      "cell_type": "code",
      "source": [
        "telecomX_parte2['CLIENTE_PARTNER'].value_counts()"
      ],
      "metadata": {
        "id": "XBKXA7_lY88Z",
        "outputId": "30961def-869e-4a8a-883a-532a8c462d8a",
        "colab": {
          "base_uri": "https://localhost:8080/",
          "height": 178
        }
      },
      "execution_count": 94,
      "outputs": [
        {
          "output_type": "execute_result",
          "data": {
            "text/plain": [
              "CLIENTE_PARTNER\n",
              "No     3639\n",
              "Yes    3393\n",
              "Name: count, dtype: int64"
            ],
            "text/html": [
              "<div>\n",
              "<style scoped>\n",
              "    .dataframe tbody tr th:only-of-type {\n",
              "        vertical-align: middle;\n",
              "    }\n",
              "\n",
              "    .dataframe tbody tr th {\n",
              "        vertical-align: top;\n",
              "    }\n",
              "\n",
              "    .dataframe thead th {\n",
              "        text-align: right;\n",
              "    }\n",
              "</style>\n",
              "<table border=\"1\" class=\"dataframe\">\n",
              "  <thead>\n",
              "    <tr style=\"text-align: right;\">\n",
              "      <th></th>\n",
              "      <th>count</th>\n",
              "    </tr>\n",
              "    <tr>\n",
              "      <th>CLIENTE_PARTNER</th>\n",
              "      <th></th>\n",
              "    </tr>\n",
              "  </thead>\n",
              "  <tbody>\n",
              "    <tr>\n",
              "      <th>No</th>\n",
              "      <td>3639</td>\n",
              "    </tr>\n",
              "    <tr>\n",
              "      <th>Yes</th>\n",
              "      <td>3393</td>\n",
              "    </tr>\n",
              "  </tbody>\n",
              "</table>\n",
              "</div><br><label><b>dtype:</b> int64</label>"
            ]
          },
          "metadata": {},
          "execution_count": 94
        }
      ]
    },
    {
      "cell_type": "code",
      "source": [
        "telecomX_parte2['CLIENTE_PARTNER']= telecomX_parte2['CLIENTE_PARTNER'].replace({'No':0,'Yes':1})"
      ],
      "metadata": {
        "id": "PedbzqAgZH-O"
      },
      "execution_count": 104,
      "outputs": []
    },
    {
      "cell_type": "code",
      "source": [
        "telecomX_parte2['CLIENTE_DEPENDIENTE'].value_counts()"
      ],
      "metadata": {
        "id": "Ct2-unMCbC_R",
        "outputId": "5c0a6e21-2632-45de-abd5-9c10c74d2e4e",
        "colab": {
          "base_uri": "https://localhost:8080/",
          "height": 178
        }
      },
      "execution_count": 96,
      "outputs": [
        {
          "output_type": "execute_result",
          "data": {
            "text/plain": [
              "CLIENTE_DEPENDIENTE\n",
              "No     4933\n",
              "Yes    2099\n",
              "Name: count, dtype: int64"
            ],
            "text/html": [
              "<div>\n",
              "<style scoped>\n",
              "    .dataframe tbody tr th:only-of-type {\n",
              "        vertical-align: middle;\n",
              "    }\n",
              "\n",
              "    .dataframe tbody tr th {\n",
              "        vertical-align: top;\n",
              "    }\n",
              "\n",
              "    .dataframe thead th {\n",
              "        text-align: right;\n",
              "    }\n",
              "</style>\n",
              "<table border=\"1\" class=\"dataframe\">\n",
              "  <thead>\n",
              "    <tr style=\"text-align: right;\">\n",
              "      <th></th>\n",
              "      <th>count</th>\n",
              "    </tr>\n",
              "    <tr>\n",
              "      <th>CLIENTE_DEPENDIENTE</th>\n",
              "      <th></th>\n",
              "    </tr>\n",
              "  </thead>\n",
              "  <tbody>\n",
              "    <tr>\n",
              "      <th>No</th>\n",
              "      <td>4933</td>\n",
              "    </tr>\n",
              "    <tr>\n",
              "      <th>Yes</th>\n",
              "      <td>2099</td>\n",
              "    </tr>\n",
              "  </tbody>\n",
              "</table>\n",
              "</div><br><label><b>dtype:</b> int64</label>"
            ]
          },
          "metadata": {},
          "execution_count": 96
        }
      ]
    },
    {
      "cell_type": "code",
      "source": [
        "telecomX_parte2['CLIENTE_DEPENDIENTE']= telecomX_parte2['CLIENTE_DEPENDIENTE'].replace({'No':0,'Yes':1})"
      ],
      "metadata": {
        "id": "l32rePmTbDGH"
      },
      "execution_count": 105,
      "outputs": []
    },
    {
      "cell_type": "code",
      "source": [
        "telecomX_parte2['SERVICIO_TELEFONO'].value_counts()"
      ],
      "metadata": {
        "id": "vz8I4bM0bZCp",
        "outputId": "119a5fff-715c-4cf7-fc14-018088cc2c69",
        "colab": {
          "base_uri": "https://localhost:8080/",
          "height": 178
        }
      },
      "execution_count": 98,
      "outputs": [
        {
          "output_type": "execute_result",
          "data": {
            "text/plain": [
              "SERVICIO_TELEFONO\n",
              "Yes    6352\n",
              "No      680\n",
              "Name: count, dtype: int64"
            ],
            "text/html": [
              "<div>\n",
              "<style scoped>\n",
              "    .dataframe tbody tr th:only-of-type {\n",
              "        vertical-align: middle;\n",
              "    }\n",
              "\n",
              "    .dataframe tbody tr th {\n",
              "        vertical-align: top;\n",
              "    }\n",
              "\n",
              "    .dataframe thead th {\n",
              "        text-align: right;\n",
              "    }\n",
              "</style>\n",
              "<table border=\"1\" class=\"dataframe\">\n",
              "  <thead>\n",
              "    <tr style=\"text-align: right;\">\n",
              "      <th></th>\n",
              "      <th>count</th>\n",
              "    </tr>\n",
              "    <tr>\n",
              "      <th>SERVICIO_TELEFONO</th>\n",
              "      <th></th>\n",
              "    </tr>\n",
              "  </thead>\n",
              "  <tbody>\n",
              "    <tr>\n",
              "      <th>Yes</th>\n",
              "      <td>6352</td>\n",
              "    </tr>\n",
              "    <tr>\n",
              "      <th>No</th>\n",
              "      <td>680</td>\n",
              "    </tr>\n",
              "  </tbody>\n",
              "</table>\n",
              "</div><br><label><b>dtype:</b> int64</label>"
            ]
          },
          "metadata": {},
          "execution_count": 98
        }
      ]
    },
    {
      "cell_type": "code",
      "source": [
        "telecomX_parte2['SERVICIO_TELEFONO']= telecomX_parte2['SERVICIO_TELEFONO'].replace({'No':0,'Yes':1})"
      ],
      "metadata": {
        "id": "ZfHymRYfbZNb"
      },
      "execution_count": 106,
      "outputs": []
    },
    {
      "cell_type": "code",
      "source": [
        "telecomX_parte2['MULTIPLES_LINEAS'].value_counts()"
      ],
      "metadata": {
        "id": "sMFCodkFbsHw",
        "outputId": "dc0bddb0-c5d6-4f69-91c9-f5fe17f8f4a8",
        "colab": {
          "base_uri": "https://localhost:8080/",
          "height": 209
        }
      },
      "execution_count": 100,
      "outputs": [
        {
          "output_type": "execute_result",
          "data": {
            "text/plain": [
              "MULTIPLES_LINEAS\n",
              "No                  3385\n",
              "Yes                 2967\n",
              "No phone service     680\n",
              "Name: count, dtype: int64"
            ],
            "text/html": [
              "<div>\n",
              "<style scoped>\n",
              "    .dataframe tbody tr th:only-of-type {\n",
              "        vertical-align: middle;\n",
              "    }\n",
              "\n",
              "    .dataframe tbody tr th {\n",
              "        vertical-align: top;\n",
              "    }\n",
              "\n",
              "    .dataframe thead th {\n",
              "        text-align: right;\n",
              "    }\n",
              "</style>\n",
              "<table border=\"1\" class=\"dataframe\">\n",
              "  <thead>\n",
              "    <tr style=\"text-align: right;\">\n",
              "      <th></th>\n",
              "      <th>count</th>\n",
              "    </tr>\n",
              "    <tr>\n",
              "      <th>MULTIPLES_LINEAS</th>\n",
              "      <th></th>\n",
              "    </tr>\n",
              "  </thead>\n",
              "  <tbody>\n",
              "    <tr>\n",
              "      <th>No</th>\n",
              "      <td>3385</td>\n",
              "    </tr>\n",
              "    <tr>\n",
              "      <th>Yes</th>\n",
              "      <td>2967</td>\n",
              "    </tr>\n",
              "    <tr>\n",
              "      <th>No phone service</th>\n",
              "      <td>680</td>\n",
              "    </tr>\n",
              "  </tbody>\n",
              "</table>\n",
              "</div><br><label><b>dtype:</b> int64</label>"
            ]
          },
          "metadata": {},
          "execution_count": 100
        }
      ]
    },
    {
      "cell_type": "code",
      "source": [
        "telecomX_parte2['MULTIPLES_LINEAS']= telecomX_parte2['MULTIPLES_LINEAS'].replace({'No':0,'Yes':1, 'No phone service':2})"
      ],
      "metadata": {
        "id": "rUqWImzMbsSK"
      },
      "execution_count": 102,
      "outputs": []
    },
    {
      "cell_type": "code",
      "source": [
        "telecomX_parte2['SEGURIDAD_ONLINE'].value_counts()"
      ],
      "metadata": {
        "id": "EDMoSKKAceUz",
        "outputId": "41a79f07-02a6-41b5-a519-0af7535a1b05",
        "colab": {
          "base_uri": "https://localhost:8080/",
          "height": 209
        }
      },
      "execution_count": 107,
      "outputs": [
        {
          "output_type": "execute_result",
          "data": {
            "text/plain": [
              "SEGURIDAD_ONLINE\n",
              "No                     3497\n",
              "Yes                    2015\n",
              "No internet service    1520\n",
              "Name: count, dtype: int64"
            ],
            "text/html": [
              "<div>\n",
              "<style scoped>\n",
              "    .dataframe tbody tr th:only-of-type {\n",
              "        vertical-align: middle;\n",
              "    }\n",
              "\n",
              "    .dataframe tbody tr th {\n",
              "        vertical-align: top;\n",
              "    }\n",
              "\n",
              "    .dataframe thead th {\n",
              "        text-align: right;\n",
              "    }\n",
              "</style>\n",
              "<table border=\"1\" class=\"dataframe\">\n",
              "  <thead>\n",
              "    <tr style=\"text-align: right;\">\n",
              "      <th></th>\n",
              "      <th>count</th>\n",
              "    </tr>\n",
              "    <tr>\n",
              "      <th>SEGURIDAD_ONLINE</th>\n",
              "      <th></th>\n",
              "    </tr>\n",
              "  </thead>\n",
              "  <tbody>\n",
              "    <tr>\n",
              "      <th>No</th>\n",
              "      <td>3497</td>\n",
              "    </tr>\n",
              "    <tr>\n",
              "      <th>Yes</th>\n",
              "      <td>2015</td>\n",
              "    </tr>\n",
              "    <tr>\n",
              "      <th>No internet service</th>\n",
              "      <td>1520</td>\n",
              "    </tr>\n",
              "  </tbody>\n",
              "</table>\n",
              "</div><br><label><b>dtype:</b> int64</label>"
            ]
          },
          "metadata": {},
          "execution_count": 107
        }
      ]
    },
    {
      "cell_type": "code",
      "source": [
        "telecomX_parte2['SEGURIDAD_ONLINE']= telecomX_parte2['SEGURIDAD_ONLINE'].replace({'No':0,'Yes':1, 'No internet service':2})"
      ],
      "metadata": {
        "id": "TVyIyeiJcefR"
      },
      "execution_count": 108,
      "outputs": []
    },
    {
      "cell_type": "code",
      "source": [
        "telecomX_parte2['RESPALDO_ONLINE'].value_counts()"
      ],
      "metadata": {
        "id": "z6LxuE_be5M4",
        "outputId": "a06f8881-3958-4c2e-8f51-85b038bc2430",
        "colab": {
          "base_uri": "https://localhost:8080/",
          "height": 209
        }
      },
      "execution_count": 109,
      "outputs": [
        {
          "output_type": "execute_result",
          "data": {
            "text/plain": [
              "RESPALDO_ONLINE\n",
              "No                     3087\n",
              "Yes                    2425\n",
              "No internet service    1520\n",
              "Name: count, dtype: int64"
            ],
            "text/html": [
              "<div>\n",
              "<style scoped>\n",
              "    .dataframe tbody tr th:only-of-type {\n",
              "        vertical-align: middle;\n",
              "    }\n",
              "\n",
              "    .dataframe tbody tr th {\n",
              "        vertical-align: top;\n",
              "    }\n",
              "\n",
              "    .dataframe thead th {\n",
              "        text-align: right;\n",
              "    }\n",
              "</style>\n",
              "<table border=\"1\" class=\"dataframe\">\n",
              "  <thead>\n",
              "    <tr style=\"text-align: right;\">\n",
              "      <th></th>\n",
              "      <th>count</th>\n",
              "    </tr>\n",
              "    <tr>\n",
              "      <th>RESPALDO_ONLINE</th>\n",
              "      <th></th>\n",
              "    </tr>\n",
              "  </thead>\n",
              "  <tbody>\n",
              "    <tr>\n",
              "      <th>No</th>\n",
              "      <td>3087</td>\n",
              "    </tr>\n",
              "    <tr>\n",
              "      <th>Yes</th>\n",
              "      <td>2425</td>\n",
              "    </tr>\n",
              "    <tr>\n",
              "      <th>No internet service</th>\n",
              "      <td>1520</td>\n",
              "    </tr>\n",
              "  </tbody>\n",
              "</table>\n",
              "</div><br><label><b>dtype:</b> int64</label>"
            ]
          },
          "metadata": {},
          "execution_count": 109
        }
      ]
    },
    {
      "cell_type": "code",
      "source": [
        "telecomX_parte2['RESPALDO_ONLINE']= telecomX_parte2['RESPALDO_ONLINE'].replace({'No':0,'Yes':1, 'No internet service':2})"
      ],
      "metadata": {
        "id": "n8Uxws5De5WU"
      },
      "execution_count": 110,
      "outputs": []
    },
    {
      "cell_type": "code",
      "source": [
        "telecomX_parte2['PROTECCION_DISPOSITIVOS'].value_counts()"
      ],
      "metadata": {
        "id": "LXbxvgaFfhnP",
        "outputId": "905d6bf7-5b90-40d9-fb27-05d50967ba5c",
        "colab": {
          "base_uri": "https://localhost:8080/",
          "height": 209
        }
      },
      "execution_count": 111,
      "outputs": [
        {
          "output_type": "execute_result",
          "data": {
            "text/plain": [
              "PROTECCION_DISPOSITIVOS\n",
              "No                     3094\n",
              "Yes                    2418\n",
              "No internet service    1520\n",
              "Name: count, dtype: int64"
            ],
            "text/html": [
              "<div>\n",
              "<style scoped>\n",
              "    .dataframe tbody tr th:only-of-type {\n",
              "        vertical-align: middle;\n",
              "    }\n",
              "\n",
              "    .dataframe tbody tr th {\n",
              "        vertical-align: top;\n",
              "    }\n",
              "\n",
              "    .dataframe thead th {\n",
              "        text-align: right;\n",
              "    }\n",
              "</style>\n",
              "<table border=\"1\" class=\"dataframe\">\n",
              "  <thead>\n",
              "    <tr style=\"text-align: right;\">\n",
              "      <th></th>\n",
              "      <th>count</th>\n",
              "    </tr>\n",
              "    <tr>\n",
              "      <th>PROTECCION_DISPOSITIVOS</th>\n",
              "      <th></th>\n",
              "    </tr>\n",
              "  </thead>\n",
              "  <tbody>\n",
              "    <tr>\n",
              "      <th>No</th>\n",
              "      <td>3094</td>\n",
              "    </tr>\n",
              "    <tr>\n",
              "      <th>Yes</th>\n",
              "      <td>2418</td>\n",
              "    </tr>\n",
              "    <tr>\n",
              "      <th>No internet service</th>\n",
              "      <td>1520</td>\n",
              "    </tr>\n",
              "  </tbody>\n",
              "</table>\n",
              "</div><br><label><b>dtype:</b> int64</label>"
            ]
          },
          "metadata": {},
          "execution_count": 111
        }
      ]
    },
    {
      "cell_type": "code",
      "source": [
        "telecomX_parte2['PROTECCION_DISPOSITIVOS']= telecomX_parte2['PROTECCION_DISPOSITIVOS'].replace({'No':0,'Yes':1, 'No internet service':2})"
      ],
      "metadata": {
        "id": "Ir95VlzZfhv4"
      },
      "execution_count": 113,
      "outputs": []
    },
    {
      "cell_type": "code",
      "source": [
        "telecomX_parte2['SOPORTE_TECNICO'].value_counts()"
      ],
      "metadata": {
        "id": "EGDrQ52WgHlR",
        "outputId": "7d822299-3024-4615-8be6-46471fd6e356",
        "colab": {
          "base_uri": "https://localhost:8080/",
          "height": 209
        }
      },
      "execution_count": 114,
      "outputs": [
        {
          "output_type": "execute_result",
          "data": {
            "text/plain": [
              "SOPORTE_TECNICO\n",
              "No                     3472\n",
              "Yes                    2040\n",
              "No internet service    1520\n",
              "Name: count, dtype: int64"
            ],
            "text/html": [
              "<div>\n",
              "<style scoped>\n",
              "    .dataframe tbody tr th:only-of-type {\n",
              "        vertical-align: middle;\n",
              "    }\n",
              "\n",
              "    .dataframe tbody tr th {\n",
              "        vertical-align: top;\n",
              "    }\n",
              "\n",
              "    .dataframe thead th {\n",
              "        text-align: right;\n",
              "    }\n",
              "</style>\n",
              "<table border=\"1\" class=\"dataframe\">\n",
              "  <thead>\n",
              "    <tr style=\"text-align: right;\">\n",
              "      <th></th>\n",
              "      <th>count</th>\n",
              "    </tr>\n",
              "    <tr>\n",
              "      <th>SOPORTE_TECNICO</th>\n",
              "      <th></th>\n",
              "    </tr>\n",
              "  </thead>\n",
              "  <tbody>\n",
              "    <tr>\n",
              "      <th>No</th>\n",
              "      <td>3472</td>\n",
              "    </tr>\n",
              "    <tr>\n",
              "      <th>Yes</th>\n",
              "      <td>2040</td>\n",
              "    </tr>\n",
              "    <tr>\n",
              "      <th>No internet service</th>\n",
              "      <td>1520</td>\n",
              "    </tr>\n",
              "  </tbody>\n",
              "</table>\n",
              "</div><br><label><b>dtype:</b> int64</label>"
            ]
          },
          "metadata": {},
          "execution_count": 114
        }
      ]
    },
    {
      "cell_type": "code",
      "source": [
        "telecomX_parte2['SOPORTE_TECNICO']= telecomX_parte2['SOPORTE_TECNICO'].replace({'No':0,'Yes':1, 'No internet service':2})"
      ],
      "metadata": {
        "id": "PthpFZpTgHrs"
      },
      "execution_count": 115,
      "outputs": []
    },
    {
      "cell_type": "code",
      "source": [
        "telecomX_parte2['STREAMING'].value_counts()"
      ],
      "metadata": {
        "id": "w7Lq2kFbgcvL",
        "outputId": "9c2e3c04-6954-4d64-8801-3427402ae616",
        "colab": {
          "base_uri": "https://localhost:8080/",
          "height": 209
        }
      },
      "execution_count": 116,
      "outputs": [
        {
          "output_type": "execute_result",
          "data": {
            "text/plain": [
              "STREAMING\n",
              "No                     2809\n",
              "Yes                    2703\n",
              "No internet service    1520\n",
              "Name: count, dtype: int64"
            ],
            "text/html": [
              "<div>\n",
              "<style scoped>\n",
              "    .dataframe tbody tr th:only-of-type {\n",
              "        vertical-align: middle;\n",
              "    }\n",
              "\n",
              "    .dataframe tbody tr th {\n",
              "        vertical-align: top;\n",
              "    }\n",
              "\n",
              "    .dataframe thead th {\n",
              "        text-align: right;\n",
              "    }\n",
              "</style>\n",
              "<table border=\"1\" class=\"dataframe\">\n",
              "  <thead>\n",
              "    <tr style=\"text-align: right;\">\n",
              "      <th></th>\n",
              "      <th>count</th>\n",
              "    </tr>\n",
              "    <tr>\n",
              "      <th>STREAMING</th>\n",
              "      <th></th>\n",
              "    </tr>\n",
              "  </thead>\n",
              "  <tbody>\n",
              "    <tr>\n",
              "      <th>No</th>\n",
              "      <td>2809</td>\n",
              "    </tr>\n",
              "    <tr>\n",
              "      <th>Yes</th>\n",
              "      <td>2703</td>\n",
              "    </tr>\n",
              "    <tr>\n",
              "      <th>No internet service</th>\n",
              "      <td>1520</td>\n",
              "    </tr>\n",
              "  </tbody>\n",
              "</table>\n",
              "</div><br><label><b>dtype:</b> int64</label>"
            ]
          },
          "metadata": {},
          "execution_count": 116
        }
      ]
    },
    {
      "cell_type": "code",
      "source": [
        "telecomX_parte2['STREAMING']= telecomX_parte2['STREAMING'].replace({'No':0,'Yes':1, 'No internet service':2})"
      ],
      "metadata": {
        "id": "m33czgdqgc6j"
      },
      "execution_count": 117,
      "outputs": []
    },
    {
      "cell_type": "code",
      "source": [
        "telecomX_parte2['PELICULAS_STREAMING'].value_counts()"
      ],
      "metadata": {
        "id": "dYDob1ZZg3Eb",
        "outputId": "00772380-4033-4535-dde0-dfbaac0e1ad6",
        "colab": {
          "base_uri": "https://localhost:8080/",
          "height": 209
        }
      },
      "execution_count": 118,
      "outputs": [
        {
          "output_type": "execute_result",
          "data": {
            "text/plain": [
              "PELICULAS_STREAMING\n",
              "No                     2781\n",
              "Yes                    2731\n",
              "No internet service    1520\n",
              "Name: count, dtype: int64"
            ],
            "text/html": [
              "<div>\n",
              "<style scoped>\n",
              "    .dataframe tbody tr th:only-of-type {\n",
              "        vertical-align: middle;\n",
              "    }\n",
              "\n",
              "    .dataframe tbody tr th {\n",
              "        vertical-align: top;\n",
              "    }\n",
              "\n",
              "    .dataframe thead th {\n",
              "        text-align: right;\n",
              "    }\n",
              "</style>\n",
              "<table border=\"1\" class=\"dataframe\">\n",
              "  <thead>\n",
              "    <tr style=\"text-align: right;\">\n",
              "      <th></th>\n",
              "      <th>count</th>\n",
              "    </tr>\n",
              "    <tr>\n",
              "      <th>PELICULAS_STREAMING</th>\n",
              "      <th></th>\n",
              "    </tr>\n",
              "  </thead>\n",
              "  <tbody>\n",
              "    <tr>\n",
              "      <th>No</th>\n",
              "      <td>2781</td>\n",
              "    </tr>\n",
              "    <tr>\n",
              "      <th>Yes</th>\n",
              "      <td>2731</td>\n",
              "    </tr>\n",
              "    <tr>\n",
              "      <th>No internet service</th>\n",
              "      <td>1520</td>\n",
              "    </tr>\n",
              "  </tbody>\n",
              "</table>\n",
              "</div><br><label><b>dtype:</b> int64</label>"
            ]
          },
          "metadata": {},
          "execution_count": 118
        }
      ]
    },
    {
      "cell_type": "code",
      "source": [
        "telecomX_parte2['PELICULAS_STREAMING']= telecomX_parte2['PELICULAS_STREAMING'].replace({'No':0,'Yes':1, 'No internet service':2})"
      ],
      "metadata": {
        "id": "Ea9kKUGHg3P9"
      },
      "execution_count": 119,
      "outputs": []
    },
    {
      "cell_type": "code",
      "source": [
        "telecomX_parte2['BOLETA_ELECTRONICA'].value_counts()"
      ],
      "metadata": {
        "id": "-NEuHckAhNCl",
        "outputId": "998ce32d-181b-4053-9f1d-f170917799ab",
        "colab": {
          "base_uri": "https://localhost:8080/",
          "height": 178
        }
      },
      "execution_count": 120,
      "outputs": [
        {
          "output_type": "execute_result",
          "data": {
            "text/plain": [
              "BOLETA_ELECTRONICA\n",
              "Yes    4168\n",
              "No     2864\n",
              "Name: count, dtype: int64"
            ],
            "text/html": [
              "<div>\n",
              "<style scoped>\n",
              "    .dataframe tbody tr th:only-of-type {\n",
              "        vertical-align: middle;\n",
              "    }\n",
              "\n",
              "    .dataframe tbody tr th {\n",
              "        vertical-align: top;\n",
              "    }\n",
              "\n",
              "    .dataframe thead th {\n",
              "        text-align: right;\n",
              "    }\n",
              "</style>\n",
              "<table border=\"1\" class=\"dataframe\">\n",
              "  <thead>\n",
              "    <tr style=\"text-align: right;\">\n",
              "      <th></th>\n",
              "      <th>count</th>\n",
              "    </tr>\n",
              "    <tr>\n",
              "      <th>BOLETA_ELECTRONICA</th>\n",
              "      <th></th>\n",
              "    </tr>\n",
              "  </thead>\n",
              "  <tbody>\n",
              "    <tr>\n",
              "      <th>Yes</th>\n",
              "      <td>4168</td>\n",
              "    </tr>\n",
              "    <tr>\n",
              "      <th>No</th>\n",
              "      <td>2864</td>\n",
              "    </tr>\n",
              "  </tbody>\n",
              "</table>\n",
              "</div><br><label><b>dtype:</b> int64</label>"
            ]
          },
          "metadata": {},
          "execution_count": 120
        }
      ]
    },
    {
      "cell_type": "code",
      "source": [
        "telecomX_parte2['BOLETA_ELECTRONICA']= telecomX_parte2['BOLETA_ELECTRONICA'].replace({'No':0,'Yes':1})"
      ],
      "metadata": {
        "id": "QsKLY7ODhNIr"
      },
      "execution_count": 121,
      "outputs": []
    },
    {
      "cell_type": "code",
      "source": [
        "telecomX_parte2['METODO_PAGO'].value_counts()"
      ],
      "metadata": {
        "id": "6mUVncsThkWc",
        "outputId": "c33cd1f2-405d-400f-e952-b720b4cbae55",
        "colab": {
          "base_uri": "https://localhost:8080/",
          "height": 241
        }
      },
      "execution_count": 122,
      "outputs": [
        {
          "output_type": "execute_result",
          "data": {
            "text/plain": [
              "METODO_PAGO\n",
              "Electronic check             2365\n",
              "Mailed check                 1604\n",
              "Bank transfer (automatic)    1542\n",
              "Credit card (automatic)      1521\n",
              "Name: count, dtype: int64"
            ],
            "text/html": [
              "<div>\n",
              "<style scoped>\n",
              "    .dataframe tbody tr th:only-of-type {\n",
              "        vertical-align: middle;\n",
              "    }\n",
              "\n",
              "    .dataframe tbody tr th {\n",
              "        vertical-align: top;\n",
              "    }\n",
              "\n",
              "    .dataframe thead th {\n",
              "        text-align: right;\n",
              "    }\n",
              "</style>\n",
              "<table border=\"1\" class=\"dataframe\">\n",
              "  <thead>\n",
              "    <tr style=\"text-align: right;\">\n",
              "      <th></th>\n",
              "      <th>count</th>\n",
              "    </tr>\n",
              "    <tr>\n",
              "      <th>METODO_PAGO</th>\n",
              "      <th></th>\n",
              "    </tr>\n",
              "  </thead>\n",
              "  <tbody>\n",
              "    <tr>\n",
              "      <th>Electronic check</th>\n",
              "      <td>2365</td>\n",
              "    </tr>\n",
              "    <tr>\n",
              "      <th>Mailed check</th>\n",
              "      <td>1604</td>\n",
              "    </tr>\n",
              "    <tr>\n",
              "      <th>Bank transfer (automatic)</th>\n",
              "      <td>1542</td>\n",
              "    </tr>\n",
              "    <tr>\n",
              "      <th>Credit card (automatic)</th>\n",
              "      <td>1521</td>\n",
              "    </tr>\n",
              "  </tbody>\n",
              "</table>\n",
              "</div><br><label><b>dtype:</b> int64</label>"
            ]
          },
          "metadata": {},
          "execution_count": 122
        }
      ]
    },
    {
      "cell_type": "code",
      "source": [
        "telecomX_parte2['METODO_PAGO']= telecomX_parte2['METODO_PAGO'].replace({'Electronic check':0,'Mailed check':1, 'Bank transfer (automatic)':2, 'Credit card (automatic)':3})"
      ],
      "metadata": {
        "id": "NuCM7beUhkdy"
      },
      "execution_count": 123,
      "outputs": []
    },
    {
      "cell_type": "code",
      "source": [
        "telecomX_parte2['TIPO_INTERNET'].value_counts()"
      ],
      "metadata": {
        "id": "cDDvKoGZTdtm",
        "outputId": "bb41fc00-42dd-426e-f696-4fe885b899af",
        "colab": {
          "base_uri": "https://localhost:8080/",
          "height": 209
        }
      },
      "execution_count": 90,
      "outputs": [
        {
          "output_type": "execute_result",
          "data": {
            "text/plain": [
              "TIPO_INTERNET\n",
              "Fiber optic    3096\n",
              "DSL            2416\n",
              "No             1520\n",
              "Name: count, dtype: int64"
            ],
            "text/html": [
              "<div>\n",
              "<style scoped>\n",
              "    .dataframe tbody tr th:only-of-type {\n",
              "        vertical-align: middle;\n",
              "    }\n",
              "\n",
              "    .dataframe tbody tr th {\n",
              "        vertical-align: top;\n",
              "    }\n",
              "\n",
              "    .dataframe thead th {\n",
              "        text-align: right;\n",
              "    }\n",
              "</style>\n",
              "<table border=\"1\" class=\"dataframe\">\n",
              "  <thead>\n",
              "    <tr style=\"text-align: right;\">\n",
              "      <th></th>\n",
              "      <th>count</th>\n",
              "    </tr>\n",
              "    <tr>\n",
              "      <th>TIPO_INTERNET</th>\n",
              "      <th></th>\n",
              "    </tr>\n",
              "  </thead>\n",
              "  <tbody>\n",
              "    <tr>\n",
              "      <th>Fiber optic</th>\n",
              "      <td>3096</td>\n",
              "    </tr>\n",
              "    <tr>\n",
              "      <th>DSL</th>\n",
              "      <td>2416</td>\n",
              "    </tr>\n",
              "    <tr>\n",
              "      <th>No</th>\n",
              "      <td>1520</td>\n",
              "    </tr>\n",
              "  </tbody>\n",
              "</table>\n",
              "</div><br><label><b>dtype:</b> int64</label>"
            ]
          },
          "metadata": {},
          "execution_count": 90
        }
      ]
    },
    {
      "cell_type": "code",
      "source": [
        "telecomX_parte2['TIPO_INTERNET']= telecomX_parte2['TIPO_INTERNET'].replace({'Fiber optic':0,'DSL':1, 'No':2})"
      ],
      "metadata": {
        "id": "Oao0a9oQTdwJ"
      },
      "execution_count": 124,
      "outputs": []
    },
    {
      "cell_type": "code",
      "source": [
        "telecomX_parte2['CONTRATO'].value_counts()"
      ],
      "metadata": {
        "id": "fSooDOjITdyy",
        "outputId": "98466b9a-b906-460d-cf6d-42626bde19dd",
        "colab": {
          "base_uri": "https://localhost:8080/",
          "height": 209
        }
      },
      "execution_count": 88,
      "outputs": [
        {
          "output_type": "execute_result",
          "data": {
            "text/plain": [
              "CONTRATO\n",
              "Month-to-month    3875\n",
              "Two year          1685\n",
              "One year          1472\n",
              "Name: count, dtype: int64"
            ],
            "text/html": [
              "<div>\n",
              "<style scoped>\n",
              "    .dataframe tbody tr th:only-of-type {\n",
              "        vertical-align: middle;\n",
              "    }\n",
              "\n",
              "    .dataframe tbody tr th {\n",
              "        vertical-align: top;\n",
              "    }\n",
              "\n",
              "    .dataframe thead th {\n",
              "        text-align: right;\n",
              "    }\n",
              "</style>\n",
              "<table border=\"1\" class=\"dataframe\">\n",
              "  <thead>\n",
              "    <tr style=\"text-align: right;\">\n",
              "      <th></th>\n",
              "      <th>count</th>\n",
              "    </tr>\n",
              "    <tr>\n",
              "      <th>CONTRATO</th>\n",
              "      <th></th>\n",
              "    </tr>\n",
              "  </thead>\n",
              "  <tbody>\n",
              "    <tr>\n",
              "      <th>Month-to-month</th>\n",
              "      <td>3875</td>\n",
              "    </tr>\n",
              "    <tr>\n",
              "      <th>Two year</th>\n",
              "      <td>1685</td>\n",
              "    </tr>\n",
              "    <tr>\n",
              "      <th>One year</th>\n",
              "      <td>1472</td>\n",
              "    </tr>\n",
              "  </tbody>\n",
              "</table>\n",
              "</div><br><label><b>dtype:</b> int64</label>"
            ]
          },
          "metadata": {},
          "execution_count": 88
        }
      ]
    },
    {
      "cell_type": "code",
      "source": [
        "telecomX_parte2['CONTRATO']= telecomX_parte2['CONTRATO'].replace({'Month-to-month':0,'Two year':1, 'One year':2})"
      ],
      "metadata": {
        "id": "1sZzfY7dTd1l"
      },
      "execution_count": 125,
      "outputs": []
    },
    {
      "cell_type": "code",
      "source": [
        "telecomX_parte2.info()"
      ],
      "metadata": {
        "id": "AMCS4Lq3Td4j",
        "outputId": "fb11645f-8db1-41a8-a3fb-a42ccd30460c",
        "colab": {
          "base_uri": "https://localhost:8080/"
        }
      },
      "execution_count": 126,
      "outputs": [
        {
          "output_type": "stream",
          "name": "stdout",
          "text": [
            "<class 'pandas.core.frame.DataFrame'>\n",
            "Index: 7032 entries, 0 to 7266\n",
            "Data columns (total 20 columns):\n",
            " #   Column                   Non-Null Count  Dtype  \n",
            "---  ------                   --------------  -----  \n",
            " 0   CHURN                    7032 non-null   int64  \n",
            " 1   GENERO_CLIENTE           7032 non-null   int64  \n",
            " 2   CLIENTE_SENIOR           7032 non-null   int64  \n",
            " 3   CLIENTE_PARTNER          7032 non-null   int64  \n",
            " 4   CLIENTE_DEPENDIENTE      7032 non-null   int64  \n",
            " 5   ANTIGUEDAD_CLIENTE       7032 non-null   int64  \n",
            " 6   SERVICIO_TELEFONO        7032 non-null   int64  \n",
            " 7   MULTIPLES_LINEAS         7032 non-null   int64  \n",
            " 8   TIPO_INTERNET            7032 non-null   int64  \n",
            " 9   SEGURIDAD_ONLINE         7032 non-null   int64  \n",
            " 10  RESPALDO_ONLINE          7032 non-null   int64  \n",
            " 11  PROTECCION_DISPOSITIVOS  7032 non-null   int64  \n",
            " 12  SOPORTE_TECNICO          7032 non-null   int64  \n",
            " 13  STREAMING                7032 non-null   int64  \n",
            " 14  PELICULAS_STREAMING      7032 non-null   int64  \n",
            " 15  CONTRATO                 7032 non-null   int64  \n",
            " 16  BOLETA_ELECTRONICA       7032 non-null   int64  \n",
            " 17  METODO_PAGO              7032 non-null   int64  \n",
            " 18  CARGO_MENSUAL            7032 non-null   float64\n",
            " 19  CARGO_TOTAL              7032 non-null   float64\n",
            "dtypes: float64(2), int64(18)\n",
            "memory usage: 1.1 MB\n"
          ]
        }
      ]
    },
    {
      "cell_type": "code",
      "source": [
        "telecomX_parte2['CHURN'] = telecomX_parte2['CHURN'].astype('int64')"
      ],
      "metadata": {
        "id": "h2HUUQW6Td7B"
      },
      "execution_count": 128,
      "outputs": []
    },
    {
      "cell_type": "markdown",
      "source": [
        "**Variables en valores Numéricos**"
      ],
      "metadata": {
        "id": "Dr7m-wcyrCDO"
      }
    },
    {
      "cell_type": "code",
      "source": [
        "telecomX_parte2.info()"
      ],
      "metadata": {
        "id": "BgmDU2kmTd9h",
        "outputId": "0c4b12bf-3254-4c82-d105-575c566ff11b",
        "colab": {
          "base_uri": "https://localhost:8080/"
        }
      },
      "execution_count": 129,
      "outputs": [
        {
          "output_type": "stream",
          "name": "stdout",
          "text": [
            "<class 'pandas.core.frame.DataFrame'>\n",
            "Index: 7032 entries, 0 to 7266\n",
            "Data columns (total 20 columns):\n",
            " #   Column                   Non-Null Count  Dtype  \n",
            "---  ------                   --------------  -----  \n",
            " 0   CHURN                    7032 non-null   int64  \n",
            " 1   GENERO_CLIENTE           7032 non-null   int64  \n",
            " 2   CLIENTE_SENIOR           7032 non-null   int64  \n",
            " 3   CLIENTE_PARTNER          7032 non-null   int64  \n",
            " 4   CLIENTE_DEPENDIENTE      7032 non-null   int64  \n",
            " 5   ANTIGUEDAD_CLIENTE       7032 non-null   int64  \n",
            " 6   SERVICIO_TELEFONO        7032 non-null   int64  \n",
            " 7   MULTIPLES_LINEAS         7032 non-null   int64  \n",
            " 8   TIPO_INTERNET            7032 non-null   int64  \n",
            " 9   SEGURIDAD_ONLINE         7032 non-null   int64  \n",
            " 10  RESPALDO_ONLINE          7032 non-null   int64  \n",
            " 11  PROTECCION_DISPOSITIVOS  7032 non-null   int64  \n",
            " 12  SOPORTE_TECNICO          7032 non-null   int64  \n",
            " 13  STREAMING                7032 non-null   int64  \n",
            " 14  PELICULAS_STREAMING      7032 non-null   int64  \n",
            " 15  CONTRATO                 7032 non-null   int64  \n",
            " 16  BOLETA_ELECTRONICA       7032 non-null   int64  \n",
            " 17  METODO_PAGO              7032 non-null   int64  \n",
            " 18  CARGO_MENSUAL            7032 non-null   float64\n",
            " 19  CARGO_TOTAL              7032 non-null   float64\n",
            "dtypes: float64(2), int64(18)\n",
            "memory usage: 1.1 MB\n"
          ]
        }
      ]
    },
    {
      "cell_type": "code",
      "source": [
        "X = telecomX_parte2.drop('CHURN', axis=1)\n",
        "Y = telecomX_parte2['CHURN']\n"
      ],
      "metadata": {
        "id": "q74x1HQNpKqr"
      },
      "execution_count": 130,
      "outputs": []
    },
    {
      "cell_type": "code",
      "source": [
        "X.head()\n"
      ],
      "metadata": {
        "id": "UVC9GIocpKvy",
        "outputId": "48aff780-2b94-4caf-92e2-f3402c9ea20a",
        "colab": {
          "base_uri": "https://localhost:8080/",
          "height": 226
        }
      },
      "execution_count": 131,
      "outputs": [
        {
          "output_type": "execute_result",
          "data": {
            "text/plain": [
              "   GENERO_CLIENTE  CLIENTE_SENIOR  CLIENTE_PARTNER  CLIENTE_DEPENDIENTE  \\\n",
              "0               1               0                1                    1   \n",
              "1               0               0                0                    0   \n",
              "2               0               0                0                    0   \n",
              "3               0               1                1                    0   \n",
              "4               1               1                1                    0   \n",
              "\n",
              "   ANTIGUEDAD_CLIENTE  SERVICIO_TELEFONO  MULTIPLES_LINEAS  TIPO_INTERNET  \\\n",
              "0                   9                  1                 0              1   \n",
              "1                   9                  1                 1              1   \n",
              "2                   4                  1                 0              0   \n",
              "3                  13                  1                 0              0   \n",
              "4                   3                  1                 0              0   \n",
              "\n",
              "   SEGURIDAD_ONLINE  RESPALDO_ONLINE  PROTECCION_DISPOSITIVOS  \\\n",
              "0                 0                1                        0   \n",
              "1                 0                0                        0   \n",
              "2                 0                0                        1   \n",
              "3                 0                1                        1   \n",
              "4                 0                0                        0   \n",
              "\n",
              "   SOPORTE_TECNICO  STREAMING  PELICULAS_STREAMING  CONTRATO  \\\n",
              "0                1          1                    0         2   \n",
              "1                0          0                    1         0   \n",
              "2                0          0                    0         0   \n",
              "3                0          1                    1         0   \n",
              "4                1          1                    0         0   \n",
              "\n",
              "   BOLETA_ELECTRONICA  METODO_PAGO  CARGO_MENSUAL  CARGO_TOTAL  \n",
              "0                   1            1           65.6       593.30  \n",
              "1                   0            1           59.9       542.40  \n",
              "2                   1            0           73.9       280.85  \n",
              "3                   1            0           98.0      1237.85  \n",
              "4                   1            1           83.9       267.40  "
            ],
            "text/html": [
              "\n",
              "  <div id=\"df-9ec860e4-f42e-43a0-99e3-e3698799c789\" class=\"colab-df-container\">\n",
              "    <div>\n",
              "<style scoped>\n",
              "    .dataframe tbody tr th:only-of-type {\n",
              "        vertical-align: middle;\n",
              "    }\n",
              "\n",
              "    .dataframe tbody tr th {\n",
              "        vertical-align: top;\n",
              "    }\n",
              "\n",
              "    .dataframe thead th {\n",
              "        text-align: right;\n",
              "    }\n",
              "</style>\n",
              "<table border=\"1\" class=\"dataframe\">\n",
              "  <thead>\n",
              "    <tr style=\"text-align: right;\">\n",
              "      <th></th>\n",
              "      <th>GENERO_CLIENTE</th>\n",
              "      <th>CLIENTE_SENIOR</th>\n",
              "      <th>CLIENTE_PARTNER</th>\n",
              "      <th>CLIENTE_DEPENDIENTE</th>\n",
              "      <th>ANTIGUEDAD_CLIENTE</th>\n",
              "      <th>SERVICIO_TELEFONO</th>\n",
              "      <th>MULTIPLES_LINEAS</th>\n",
              "      <th>TIPO_INTERNET</th>\n",
              "      <th>SEGURIDAD_ONLINE</th>\n",
              "      <th>RESPALDO_ONLINE</th>\n",
              "      <th>PROTECCION_DISPOSITIVOS</th>\n",
              "      <th>SOPORTE_TECNICO</th>\n",
              "      <th>STREAMING</th>\n",
              "      <th>PELICULAS_STREAMING</th>\n",
              "      <th>CONTRATO</th>\n",
              "      <th>BOLETA_ELECTRONICA</th>\n",
              "      <th>METODO_PAGO</th>\n",
              "      <th>CARGO_MENSUAL</th>\n",
              "      <th>CARGO_TOTAL</th>\n",
              "    </tr>\n",
              "  </thead>\n",
              "  <tbody>\n",
              "    <tr>\n",
              "      <th>0</th>\n",
              "      <td>1</td>\n",
              "      <td>0</td>\n",
              "      <td>1</td>\n",
              "      <td>1</td>\n",
              "      <td>9</td>\n",
              "      <td>1</td>\n",
              "      <td>0</td>\n",
              "      <td>1</td>\n",
              "      <td>0</td>\n",
              "      <td>1</td>\n",
              "      <td>0</td>\n",
              "      <td>1</td>\n",
              "      <td>1</td>\n",
              "      <td>0</td>\n",
              "      <td>2</td>\n",
              "      <td>1</td>\n",
              "      <td>1</td>\n",
              "      <td>65.6</td>\n",
              "      <td>593.30</td>\n",
              "    </tr>\n",
              "    <tr>\n",
              "      <th>1</th>\n",
              "      <td>0</td>\n",
              "      <td>0</td>\n",
              "      <td>0</td>\n",
              "      <td>0</td>\n",
              "      <td>9</td>\n",
              "      <td>1</td>\n",
              "      <td>1</td>\n",
              "      <td>1</td>\n",
              "      <td>0</td>\n",
              "      <td>0</td>\n",
              "      <td>0</td>\n",
              "      <td>0</td>\n",
              "      <td>0</td>\n",
              "      <td>1</td>\n",
              "      <td>0</td>\n",
              "      <td>0</td>\n",
              "      <td>1</td>\n",
              "      <td>59.9</td>\n",
              "      <td>542.40</td>\n",
              "    </tr>\n",
              "    <tr>\n",
              "      <th>2</th>\n",
              "      <td>0</td>\n",
              "      <td>0</td>\n",
              "      <td>0</td>\n",
              "      <td>0</td>\n",
              "      <td>4</td>\n",
              "      <td>1</td>\n",
              "      <td>0</td>\n",
              "      <td>0</td>\n",
              "      <td>0</td>\n",
              "      <td>0</td>\n",
              "      <td>1</td>\n",
              "      <td>0</td>\n",
              "      <td>0</td>\n",
              "      <td>0</td>\n",
              "      <td>0</td>\n",
              "      <td>1</td>\n",
              "      <td>0</td>\n",
              "      <td>73.9</td>\n",
              "      <td>280.85</td>\n",
              "    </tr>\n",
              "    <tr>\n",
              "      <th>3</th>\n",
              "      <td>0</td>\n",
              "      <td>1</td>\n",
              "      <td>1</td>\n",
              "      <td>0</td>\n",
              "      <td>13</td>\n",
              "      <td>1</td>\n",
              "      <td>0</td>\n",
              "      <td>0</td>\n",
              "      <td>0</td>\n",
              "      <td>1</td>\n",
              "      <td>1</td>\n",
              "      <td>0</td>\n",
              "      <td>1</td>\n",
              "      <td>1</td>\n",
              "      <td>0</td>\n",
              "      <td>1</td>\n",
              "      <td>0</td>\n",
              "      <td>98.0</td>\n",
              "      <td>1237.85</td>\n",
              "    </tr>\n",
              "    <tr>\n",
              "      <th>4</th>\n",
              "      <td>1</td>\n",
              "      <td>1</td>\n",
              "      <td>1</td>\n",
              "      <td>0</td>\n",
              "      <td>3</td>\n",
              "      <td>1</td>\n",
              "      <td>0</td>\n",
              "      <td>0</td>\n",
              "      <td>0</td>\n",
              "      <td>0</td>\n",
              "      <td>0</td>\n",
              "      <td>1</td>\n",
              "      <td>1</td>\n",
              "      <td>0</td>\n",
              "      <td>0</td>\n",
              "      <td>1</td>\n",
              "      <td>1</td>\n",
              "      <td>83.9</td>\n",
              "      <td>267.40</td>\n",
              "    </tr>\n",
              "  </tbody>\n",
              "</table>\n",
              "</div>\n",
              "    <div class=\"colab-df-buttons\">\n",
              "\n",
              "  <div class=\"colab-df-container\">\n",
              "    <button class=\"colab-df-convert\" onclick=\"convertToInteractive('df-9ec860e4-f42e-43a0-99e3-e3698799c789')\"\n",
              "            title=\"Convert this dataframe to an interactive table.\"\n",
              "            style=\"display:none;\">\n",
              "\n",
              "  <svg xmlns=\"http://www.w3.org/2000/svg\" height=\"24px\" viewBox=\"0 -960 960 960\">\n",
              "    <path d=\"M120-120v-720h720v720H120Zm60-500h600v-160H180v160Zm220 220h160v-160H400v160Zm0 220h160v-160H400v160ZM180-400h160v-160H180v160Zm440 0h160v-160H620v160ZM180-180h160v-160H180v160Zm440 0h160v-160H620v160Z\"/>\n",
              "  </svg>\n",
              "    </button>\n",
              "\n",
              "  <style>\n",
              "    .colab-df-container {\n",
              "      display:flex;\n",
              "      gap: 12px;\n",
              "    }\n",
              "\n",
              "    .colab-df-convert {\n",
              "      background-color: #E8F0FE;\n",
              "      border: none;\n",
              "      border-radius: 50%;\n",
              "      cursor: pointer;\n",
              "      display: none;\n",
              "      fill: #1967D2;\n",
              "      height: 32px;\n",
              "      padding: 0 0 0 0;\n",
              "      width: 32px;\n",
              "    }\n",
              "\n",
              "    .colab-df-convert:hover {\n",
              "      background-color: #E2EBFA;\n",
              "      box-shadow: 0px 1px 2px rgba(60, 64, 67, 0.3), 0px 1px 3px 1px rgba(60, 64, 67, 0.15);\n",
              "      fill: #174EA6;\n",
              "    }\n",
              "\n",
              "    .colab-df-buttons div {\n",
              "      margin-bottom: 4px;\n",
              "    }\n",
              "\n",
              "    [theme=dark] .colab-df-convert {\n",
              "      background-color: #3B4455;\n",
              "      fill: #D2E3FC;\n",
              "    }\n",
              "\n",
              "    [theme=dark] .colab-df-convert:hover {\n",
              "      background-color: #434B5C;\n",
              "      box-shadow: 0px 1px 3px 1px rgba(0, 0, 0, 0.15);\n",
              "      filter: drop-shadow(0px 1px 2px rgba(0, 0, 0, 0.3));\n",
              "      fill: #FFFFFF;\n",
              "    }\n",
              "  </style>\n",
              "\n",
              "    <script>\n",
              "      const buttonEl =\n",
              "        document.querySelector('#df-9ec860e4-f42e-43a0-99e3-e3698799c789 button.colab-df-convert');\n",
              "      buttonEl.style.display =\n",
              "        google.colab.kernel.accessAllowed ? 'block' : 'none';\n",
              "\n",
              "      async function convertToInteractive(key) {\n",
              "        const element = document.querySelector('#df-9ec860e4-f42e-43a0-99e3-e3698799c789');\n",
              "        const dataTable =\n",
              "          await google.colab.kernel.invokeFunction('convertToInteractive',\n",
              "                                                    [key], {});\n",
              "        if (!dataTable) return;\n",
              "\n",
              "        const docLinkHtml = 'Like what you see? Visit the ' +\n",
              "          '<a target=\"_blank\" href=https://colab.research.google.com/notebooks/data_table.ipynb>data table notebook</a>'\n",
              "          + ' to learn more about interactive tables.';\n",
              "        element.innerHTML = '';\n",
              "        dataTable['output_type'] = 'display_data';\n",
              "        await google.colab.output.renderOutput(dataTable, element);\n",
              "        const docLink = document.createElement('div');\n",
              "        docLink.innerHTML = docLinkHtml;\n",
              "        element.appendChild(docLink);\n",
              "      }\n",
              "    </script>\n",
              "  </div>\n",
              "\n",
              "\n",
              "    <div id=\"df-6516b4f6-e65e-44e2-baa9-24aedfe64940\">\n",
              "      <button class=\"colab-df-quickchart\" onclick=\"quickchart('df-6516b4f6-e65e-44e2-baa9-24aedfe64940')\"\n",
              "                title=\"Suggest charts\"\n",
              "                style=\"display:none;\">\n",
              "\n",
              "<svg xmlns=\"http://www.w3.org/2000/svg\" height=\"24px\"viewBox=\"0 0 24 24\"\n",
              "     width=\"24px\">\n",
              "    <g>\n",
              "        <path d=\"M19 3H5c-1.1 0-2 .9-2 2v14c0 1.1.9 2 2 2h14c1.1 0 2-.9 2-2V5c0-1.1-.9-2-2-2zM9 17H7v-7h2v7zm4 0h-2V7h2v10zm4 0h-2v-4h2v4z\"/>\n",
              "    </g>\n",
              "</svg>\n",
              "      </button>\n",
              "\n",
              "<style>\n",
              "  .colab-df-quickchart {\n",
              "      --bg-color: #E8F0FE;\n",
              "      --fill-color: #1967D2;\n",
              "      --hover-bg-color: #E2EBFA;\n",
              "      --hover-fill-color: #174EA6;\n",
              "      --disabled-fill-color: #AAA;\n",
              "      --disabled-bg-color: #DDD;\n",
              "  }\n",
              "\n",
              "  [theme=dark] .colab-df-quickchart {\n",
              "      --bg-color: #3B4455;\n",
              "      --fill-color: #D2E3FC;\n",
              "      --hover-bg-color: #434B5C;\n",
              "      --hover-fill-color: #FFFFFF;\n",
              "      --disabled-bg-color: #3B4455;\n",
              "      --disabled-fill-color: #666;\n",
              "  }\n",
              "\n",
              "  .colab-df-quickchart {\n",
              "    background-color: var(--bg-color);\n",
              "    border: none;\n",
              "    border-radius: 50%;\n",
              "    cursor: pointer;\n",
              "    display: none;\n",
              "    fill: var(--fill-color);\n",
              "    height: 32px;\n",
              "    padding: 0;\n",
              "    width: 32px;\n",
              "  }\n",
              "\n",
              "  .colab-df-quickchart:hover {\n",
              "    background-color: var(--hover-bg-color);\n",
              "    box-shadow: 0 1px 2px rgba(60, 64, 67, 0.3), 0 1px 3px 1px rgba(60, 64, 67, 0.15);\n",
              "    fill: var(--button-hover-fill-color);\n",
              "  }\n",
              "\n",
              "  .colab-df-quickchart-complete:disabled,\n",
              "  .colab-df-quickchart-complete:disabled:hover {\n",
              "    background-color: var(--disabled-bg-color);\n",
              "    fill: var(--disabled-fill-color);\n",
              "    box-shadow: none;\n",
              "  }\n",
              "\n",
              "  .colab-df-spinner {\n",
              "    border: 2px solid var(--fill-color);\n",
              "    border-color: transparent;\n",
              "    border-bottom-color: var(--fill-color);\n",
              "    animation:\n",
              "      spin 1s steps(1) infinite;\n",
              "  }\n",
              "\n",
              "  @keyframes spin {\n",
              "    0% {\n",
              "      border-color: transparent;\n",
              "      border-bottom-color: var(--fill-color);\n",
              "      border-left-color: var(--fill-color);\n",
              "    }\n",
              "    20% {\n",
              "      border-color: transparent;\n",
              "      border-left-color: var(--fill-color);\n",
              "      border-top-color: var(--fill-color);\n",
              "    }\n",
              "    30% {\n",
              "      border-color: transparent;\n",
              "      border-left-color: var(--fill-color);\n",
              "      border-top-color: var(--fill-color);\n",
              "      border-right-color: var(--fill-color);\n",
              "    }\n",
              "    40% {\n",
              "      border-color: transparent;\n",
              "      border-right-color: var(--fill-color);\n",
              "      border-top-color: var(--fill-color);\n",
              "    }\n",
              "    60% {\n",
              "      border-color: transparent;\n",
              "      border-right-color: var(--fill-color);\n",
              "    }\n",
              "    80% {\n",
              "      border-color: transparent;\n",
              "      border-right-color: var(--fill-color);\n",
              "      border-bottom-color: var(--fill-color);\n",
              "    }\n",
              "    90% {\n",
              "      border-color: transparent;\n",
              "      border-bottom-color: var(--fill-color);\n",
              "    }\n",
              "  }\n",
              "</style>\n",
              "\n",
              "      <script>\n",
              "        async function quickchart(key) {\n",
              "          const quickchartButtonEl =\n",
              "            document.querySelector('#' + key + ' button');\n",
              "          quickchartButtonEl.disabled = true;  // To prevent multiple clicks.\n",
              "          quickchartButtonEl.classList.add('colab-df-spinner');\n",
              "          try {\n",
              "            const charts = await google.colab.kernel.invokeFunction(\n",
              "                'suggestCharts', [key], {});\n",
              "          } catch (error) {\n",
              "            console.error('Error during call to suggestCharts:', error);\n",
              "          }\n",
              "          quickchartButtonEl.classList.remove('colab-df-spinner');\n",
              "          quickchartButtonEl.classList.add('colab-df-quickchart-complete');\n",
              "        }\n",
              "        (() => {\n",
              "          let quickchartButtonEl =\n",
              "            document.querySelector('#df-6516b4f6-e65e-44e2-baa9-24aedfe64940 button');\n",
              "          quickchartButtonEl.style.display =\n",
              "            google.colab.kernel.accessAllowed ? 'block' : 'none';\n",
              "        })();\n",
              "      </script>\n",
              "    </div>\n",
              "\n",
              "    </div>\n",
              "  </div>\n"
            ],
            "application/vnd.google.colaboratory.intrinsic+json": {
              "type": "dataframe",
              "variable_name": "X",
              "summary": "{\n  \"name\": \"X\",\n  \"rows\": 7032,\n  \"fields\": [\n    {\n      \"column\": \"GENERO_CLIENTE\",\n      \"properties\": {\n        \"dtype\": \"number\",\n        \"std\": 0,\n        \"min\": 0,\n        \"max\": 1,\n        \"num_unique_values\": 2,\n        \"samples\": [\n          0,\n          1\n        ],\n        \"semantic_type\": \"\",\n        \"description\": \"\"\n      }\n    },\n    {\n      \"column\": \"CLIENTE_SENIOR\",\n      \"properties\": {\n        \"dtype\": \"number\",\n        \"std\": 0,\n        \"min\": 0,\n        \"max\": 1,\n        \"num_unique_values\": 2,\n        \"samples\": [\n          1,\n          0\n        ],\n        \"semantic_type\": \"\",\n        \"description\": \"\"\n      }\n    },\n    {\n      \"column\": \"CLIENTE_PARTNER\",\n      \"properties\": {\n        \"dtype\": \"number\",\n        \"std\": 0,\n        \"min\": 0,\n        \"max\": 1,\n        \"num_unique_values\": 2,\n        \"samples\": [\n          0,\n          1\n        ],\n        \"semantic_type\": \"\",\n        \"description\": \"\"\n      }\n    },\n    {\n      \"column\": \"CLIENTE_DEPENDIENTE\",\n      \"properties\": {\n        \"dtype\": \"number\",\n        \"std\": 0,\n        \"min\": 0,\n        \"max\": 1,\n        \"num_unique_values\": 2,\n        \"samples\": [\n          0,\n          1\n        ],\n        \"semantic_type\": \"\",\n        \"description\": \"\"\n      }\n    },\n    {\n      \"column\": \"ANTIGUEDAD_CLIENTE\",\n      \"properties\": {\n        \"dtype\": \"number\",\n        \"std\": 24,\n        \"min\": 1,\n        \"max\": 72,\n        \"num_unique_values\": 72,\n        \"samples\": [\n          71,\n          41\n        ],\n        \"semantic_type\": \"\",\n        \"description\": \"\"\n      }\n    },\n    {\n      \"column\": \"SERVICIO_TELEFONO\",\n      \"properties\": {\n        \"dtype\": \"number\",\n        \"std\": 0,\n        \"min\": 0,\n        \"max\": 1,\n        \"num_unique_values\": 2,\n        \"samples\": [\n          0,\n          1\n        ],\n        \"semantic_type\": \"\",\n        \"description\": \"\"\n      }\n    },\n    {\n      \"column\": \"MULTIPLES_LINEAS\",\n      \"properties\": {\n        \"dtype\": \"number\",\n        \"std\": 0,\n        \"min\": 0,\n        \"max\": 2,\n        \"num_unique_values\": 3,\n        \"samples\": [\n          0,\n          1\n        ],\n        \"semantic_type\": \"\",\n        \"description\": \"\"\n      }\n    },\n    {\n      \"column\": \"TIPO_INTERNET\",\n      \"properties\": {\n        \"dtype\": \"number\",\n        \"std\": 0,\n        \"min\": 0,\n        \"max\": 2,\n        \"num_unique_values\": 3,\n        \"samples\": [\n          1,\n          0\n        ],\n        \"semantic_type\": \"\",\n        \"description\": \"\"\n      }\n    },\n    {\n      \"column\": \"SEGURIDAD_ONLINE\",\n      \"properties\": {\n        \"dtype\": \"number\",\n        \"std\": 0,\n        \"min\": 0,\n        \"max\": 2,\n        \"num_unique_values\": 3,\n        \"samples\": [\n          0,\n          1\n        ],\n        \"semantic_type\": \"\",\n        \"description\": \"\"\n      }\n    },\n    {\n      \"column\": \"RESPALDO_ONLINE\",\n      \"properties\": {\n        \"dtype\": \"number\",\n        \"std\": 0,\n        \"min\": 0,\n        \"max\": 2,\n        \"num_unique_values\": 3,\n        \"samples\": [\n          1,\n          0\n        ],\n        \"semantic_type\": \"\",\n        \"description\": \"\"\n      }\n    },\n    {\n      \"column\": \"PROTECCION_DISPOSITIVOS\",\n      \"properties\": {\n        \"dtype\": \"number\",\n        \"std\": 0,\n        \"min\": 0,\n        \"max\": 2,\n        \"num_unique_values\": 3,\n        \"samples\": [\n          0,\n          1\n        ],\n        \"semantic_type\": \"\",\n        \"description\": \"\"\n      }\n    },\n    {\n      \"column\": \"SOPORTE_TECNICO\",\n      \"properties\": {\n        \"dtype\": \"number\",\n        \"std\": 0,\n        \"min\": 0,\n        \"max\": 2,\n        \"num_unique_values\": 3,\n        \"samples\": [\n          1,\n          0\n        ],\n        \"semantic_type\": \"\",\n        \"description\": \"\"\n      }\n    },\n    {\n      \"column\": \"STREAMING\",\n      \"properties\": {\n        \"dtype\": \"number\",\n        \"std\": 0,\n        \"min\": 0,\n        \"max\": 2,\n        \"num_unique_values\": 3,\n        \"samples\": [\n          1,\n          0\n        ],\n        \"semantic_type\": \"\",\n        \"description\": \"\"\n      }\n    },\n    {\n      \"column\": \"PELICULAS_STREAMING\",\n      \"properties\": {\n        \"dtype\": \"number\",\n        \"std\": 0,\n        \"min\": 0,\n        \"max\": 2,\n        \"num_unique_values\": 3,\n        \"samples\": [\n          0,\n          1\n        ],\n        \"semantic_type\": \"\",\n        \"description\": \"\"\n      }\n    },\n    {\n      \"column\": \"CONTRATO\",\n      \"properties\": {\n        \"dtype\": \"number\",\n        \"std\": 0,\n        \"min\": 0,\n        \"max\": 2,\n        \"num_unique_values\": 3,\n        \"samples\": [\n          2,\n          0\n        ],\n        \"semantic_type\": \"\",\n        \"description\": \"\"\n      }\n    },\n    {\n      \"column\": \"BOLETA_ELECTRONICA\",\n      \"properties\": {\n        \"dtype\": \"number\",\n        \"std\": 0,\n        \"min\": 0,\n        \"max\": 1,\n        \"num_unique_values\": 2,\n        \"samples\": [\n          0,\n          1\n        ],\n        \"semantic_type\": \"\",\n        \"description\": \"\"\n      }\n    },\n    {\n      \"column\": \"METODO_PAGO\",\n      \"properties\": {\n        \"dtype\": \"number\",\n        \"std\": 1,\n        \"min\": 0,\n        \"max\": 3,\n        \"num_unique_values\": 4,\n        \"samples\": [\n          0,\n          2\n        ],\n        \"semantic_type\": \"\",\n        \"description\": \"\"\n      }\n    },\n    {\n      \"column\": \"CARGO_MENSUAL\",\n      \"properties\": {\n        \"dtype\": \"number\",\n        \"std\": 30.085973884049906,\n        \"min\": 18.25,\n        \"max\": 118.75,\n        \"num_unique_values\": 1584,\n        \"samples\": [\n          104.15,\n          47.85\n        ],\n        \"semantic_type\": \"\",\n        \"description\": \"\"\n      }\n    },\n    {\n      \"column\": \"CARGO_TOTAL\",\n      \"properties\": {\n        \"dtype\": \"number\",\n        \"std\": 2266.771361883145,\n        \"min\": 18.8,\n        \"max\": 8684.8,\n        \"num_unique_values\": 6530,\n        \"samples\": [\n          2341.55,\n          5329.55\n        ],\n        \"semantic_type\": \"\",\n        \"description\": \"\"\n      }\n    }\n  ]\n}"
            }
          },
          "metadata": {},
          "execution_count": 131
        }
      ]
    },
    {
      "cell_type": "code",
      "source": [
        "Y.head()"
      ],
      "metadata": {
        "id": "9HdXlySApKyr",
        "outputId": "064ee517-65f4-4069-b01f-f2e9b8dac323",
        "colab": {
          "base_uri": "https://localhost:8080/",
          "height": 241
        }
      },
      "execution_count": 132,
      "outputs": [
        {
          "output_type": "execute_result",
          "data": {
            "text/plain": [
              "0    0\n",
              "1    0\n",
              "2    1\n",
              "3    1\n",
              "4    1\n",
              "Name: CHURN, dtype: int64"
            ],
            "text/html": [
              "<div>\n",
              "<style scoped>\n",
              "    .dataframe tbody tr th:only-of-type {\n",
              "        vertical-align: middle;\n",
              "    }\n",
              "\n",
              "    .dataframe tbody tr th {\n",
              "        vertical-align: top;\n",
              "    }\n",
              "\n",
              "    .dataframe thead th {\n",
              "        text-align: right;\n",
              "    }\n",
              "</style>\n",
              "<table border=\"1\" class=\"dataframe\">\n",
              "  <thead>\n",
              "    <tr style=\"text-align: right;\">\n",
              "      <th></th>\n",
              "      <th>CHURN</th>\n",
              "    </tr>\n",
              "  </thead>\n",
              "  <tbody>\n",
              "    <tr>\n",
              "      <th>0</th>\n",
              "      <td>0</td>\n",
              "    </tr>\n",
              "    <tr>\n",
              "      <th>1</th>\n",
              "      <td>0</td>\n",
              "    </tr>\n",
              "    <tr>\n",
              "      <th>2</th>\n",
              "      <td>1</td>\n",
              "    </tr>\n",
              "    <tr>\n",
              "      <th>3</th>\n",
              "      <td>1</td>\n",
              "    </tr>\n",
              "    <tr>\n",
              "      <th>4</th>\n",
              "      <td>1</td>\n",
              "    </tr>\n",
              "  </tbody>\n",
              "</table>\n",
              "</div><br><label><b>dtype:</b> int64</label>"
            ]
          },
          "metadata": {},
          "execution_count": 132
        }
      ]
    },
    {
      "cell_type": "markdown",
      "source": [
        "**Realizando correlacion de variables con respecto a Churn**"
      ],
      "metadata": {
        "id": "ZixsiCKWw08v"
      }
    },
    {
      "cell_type": "code",
      "source": [
        "variable_numerica = telecomX_parte2.select_dtypes(include=['int64', 'float64']) # Se seleccionan solo variables numéricas"
      ],
      "metadata": {
        "id": "Pm-E7Jw7pK2E"
      },
      "execution_count": 79,
      "outputs": []
    },
    {
      "cell_type": "code",
      "source": [
        "corre_matrix = variable_numerica.corr()"
      ],
      "metadata": {
        "id": "RkeESV3HpK47"
      },
      "execution_count": 80,
      "outputs": []
    },
    {
      "cell_type": "code",
      "source": [
        "# creando el mapa de calor\n",
        "plt.figure(figsize=(8, 6))\n",
        "sns.heatmap(corre_matrix[['CHURN']].sort_values(by='CHURN', ascending=False),\n",
        "            annot=True, cmap='coolwarm', center=0)\n",
        "plt.title('Correlación de variables numéricas con Churn')\n",
        "plt.show()"
      ],
      "metadata": {
        "id": "sSYSJQePpK8C",
        "outputId": "7b3e2f0a-80b2-4000-ac3c-d538e7fe5506",
        "colab": {
          "base_uri": "https://localhost:8080/",
          "height": 543
        }
      },
      "execution_count": 135,
      "outputs": [
        {
          "output_type": "display_data",
          "data": {
            "text/plain": [
              "<Figure size 800x600 with 2 Axes>"
            ],
            "image/png": "[encoded data removed]"
          },
          "metadata": {}
        }
      ]
    },
    {
      "cell_type": "markdown",
      "source": [
        "**Interpretación**\n",
        "\n",
        "Se tiene que a mayor valor a \"+1\" mayor probabilidad de retiros.\n",
        "\n",
        "*Cargo Mensual y Boleta Electrónica (+0.19):* Los clientes en esta categoria tienen una tendencia ligeramente mayor a retirarse. Puede deberse a errores con facturación, insatisfacción con precios o falta de beneficios y fidelización.\n",
        "\n",
        "*Cliente Senior (+0.15):* Los clientes de la tercera edad tienen también mayor probabilidad de cancelar los servicios. Esto quizás por inconvenientes con la tecnología o preferencias con la competencia.\n",
        "\n",
        "*Múltiples Líneas (+0.02), servicio de telefono (+0.012) y Género del cliente (+0.0085):* La correlacion con estas variables se encuentra casi neutra, por lo que se deduce que su impacto en los retiros es mínimo.\n",
        "\n",
        "A continuacion se explica algunas correlaciones negativas, lo cual nos indica que entre mas cerca a \"-1\" menor probabilidad de abandono.\n",
        "\n",
        "*Antiguedad del CLIENTE (-0.35) y Contrato (-0.34):* Es evidente como aquellos clientes que llevan tiempo con la empresa y aquellos que tienen un contrato a largo plazo son menos propensos a abandonar la compañía. De allí la importancia de la fidelización.\n",
        "\n",
        "*Seguridad Online (-0.33) y Soporte técnico (-0.33):* Estos beneficios pueden ser útiles pues es un indicador de que posiblemente los clientes valoran estos beneficios y por ello están reducidos los retiros.\n",
        "\n",
        "*Típo de Internet (-0.32) y Protección de Dispositivos (-0.28):* La calidad del servicio de internet y la protección de dispositivos son factores clave para retener clientes.\n",
        "\n"
      ],
      "metadata": {
        "id": "ou45eajDyAwv"
      }
    },
    {
      "cell_type": "markdown",
      "source": [
        "**Eligiendo el mejor modelo Machine Learning**"
      ],
      "metadata": {
        "id": "06QidasH7GQc"
      }
    },
    {
      "cell_type": "code",
      "source": [
        "# Comprobando exactitud de los modelos\n",
        "from sklearn.model_selection import train_test_split\n",
        "X,X_test,Y,Y_test = train_test_split(X,Y,test_size=0.15,stratify=Y,random_state=5)\n",
        "X_train,X_val,Y_train,Y_val = train_test_split(X,Y,stratify=Y,random_state=5)"
      ],
      "metadata": {
        "id": "ilG1dGpZpK_P"
      },
      "execution_count": 137,
      "outputs": []
    },
    {
      "cell_type": "code",
      "source": [
        "# Modelo Logistic Regression\n",
        "from sklearn.linear_model import LogisticRegression\n",
        "modelo_lr = LogisticRegression()\n",
        "modelo_lr.fit(X_train, Y_train)\n",
        "modelo_lr.score(X_test, Y_test)"
      ],
      "metadata": {
        "id": "jS6VZpQMpLCy",
        "outputId": "023ad10d-8ee5-48c7-aaff-f851061963c5",
        "colab": {
          "base_uri": "https://localhost:8080/"
        }
      },
      "execution_count": 139,
      "outputs": [
        {
          "output_type": "execute_result",
          "data": {
            "text/plain": [
              "0.8037914691943128"
            ]
          },
          "metadata": {},
          "execution_count": 139
        }
      ]
    },
    {
      "cell_type": "code",
      "source": [
        "# Arbol de Decisión\n",
        "from sklearn.tree import DecisionTreeClassifier\n",
        "modelo_arbol = DecisionTreeClassifier(max_depth=3, random_state=5)\n",
        "modelo_arbol.fit(X_train, Y_train)\n",
        "modelo_arbol.score(X_test, Y_test)"
      ],
      "metadata": {
        "id": "uEScW4rz81Qr",
        "outputId": "fad7d22c-4a19-4c52-eaa0-ff7e36601982",
        "colab": {
          "base_uri": "https://localhost:8080/"
        }
      },
      "execution_count": 140,
      "outputs": [
        {
          "output_type": "execute_result",
          "data": {
            "text/plain": [
              "0.7971563981042654"
            ]
          },
          "metadata": {},
          "execution_count": 140
        }
      ]
    },
    {
      "cell_type": "code",
      "source": [
        "# Modelo KNN\n",
        "from sklearn.neighbors import KNeighborsClassifier\n",
        "knn = KNeighborsClassifier()\n",
        "knn.fit(X_train, Y_train)\n",
        "knn.score(X_test, Y_test)"
      ],
      "metadata": {
        "id": "Hs0yRWCE81V-",
        "outputId": "f167507a-9f8b-4427-b688-9c6bdf2e9d35",
        "colab": {
          "base_uri": "https://localhost:8080/"
        }
      },
      "execution_count": 141,
      "outputs": [
        {
          "output_type": "execute_result",
          "data": {
            "text/plain": [
              "0.7554502369668247"
            ]
          },
          "metadata": {},
          "execution_count": 141
        }
      ]
    },
    {
      "cell_type": "code",
      "source": [
        "# Modelo Support Vector Classifier\n",
        "from sklearn.svm import SVC\n",
        "SVC_model = SVC()\n",
        "SVC_model.fit(X_train, Y_train)\n",
        "SVC_model.score(X_test, Y_test)"
      ],
      "metadata": {
        "id": "3ckYkmpa81ZC",
        "outputId": "7487e5a7-4c77-4b83-e710-1519c001140f",
        "colab": {
          "base_uri": "https://localhost:8080/"
        }
      },
      "execution_count": 142,
      "outputs": [
        {
          "output_type": "execute_result",
          "data": {
            "text/plain": [
              "0.7345971563981043"
            ]
          },
          "metadata": {},
          "execution_count": 142
        }
      ]
    },
    {
      "cell_type": "code",
      "source": [
        "# Modelo Ramdom Foret Classifier\n",
        "from sklearn.ensemble import RandomForestClassifier\n",
        "modelo_rf = RandomForestClassifier(max_depth=3, random_state=5)\n",
        "modelo_rf.fit(X_train, Y_train)\n",
        "modelo_rf.score(X_test, Y_test)"
      ],
      "metadata": {
        "id": "TV7HXDIh81cJ",
        "outputId": "bea4ceb8-3d08-43ab-b295-4966fb042063",
        "colab": {
          "base_uri": "https://localhost:8080/"
        }
      },
      "execution_count": 143,
      "outputs": [
        {
          "output_type": "execute_result",
          "data": {
            "text/plain": [
              "0.7981042654028436"
            ]
          },
          "metadata": {},
          "execution_count": 143
        }
      ]
    },
    {
      "cell_type": "code",
      "source": [
        "lista = [('LogisticRegression',modelo_lr,X_test),('de árbol',modelo_arbol,X_test),('knn',knn,X_test),('SVC',SVC_model,X_test),('randomforest',modelo_rf,X_test)]\n",
        "for i in lista:\n",
        "  print(f'La exactitud del modelo {i[0]},{i[1].score(i[2],Y_test)}')"
      ],
      "metadata": {
        "id": "NNin4NBB81fh",
        "outputId": "dc944bb9-a392-41eb-f523-2dff622366b1",
        "colab": {
          "base_uri": "https://localhost:8080/"
        }
      },
      "execution_count": 145,
      "outputs": [
        {
          "output_type": "stream",
          "name": "stdout",
          "text": [
            "La exactitud del modelo LogisticRegression,0.8037914691943128\n",
            "La exactitud del modelo de árbol,0.7971563981042654\n",
            "La exactitud del modelo knn,0.7554502369668247\n",
            "La exactitud del modelo SVC,0.7345971563981043\n",
            "La exactitud del modelo randomforest,0.7981042654028436\n"
          ]
        }
      ]
    },
    {
      "cell_type": "markdown",
      "source": [
        "En este caso el modelo Logistic Regression demuestra ser el de mayor precisión con un accuracy aproximado de 0.8121, aún así esto no indica que sea el modelo mas óptimo en términos absolutos.\n",
        "\n",
        "En conjunto de datos desbalanceados con la métrica del solo Accuracy puede resultar engañosa; Por ejemplo, si el 80% de los registros pertenecen a una clase y el modelo siempre predice esa clase, el accuracy podría ser alto sin reflejar un buen desempeño real"
      ],
      "metadata": {
        "id": "4Jbzqt2w-E7S"
      }
    },
    {
      "cell_type": "markdown",
      "source": [
        "**Validación de modelos**"
      ],
      "metadata": {
        "id": "Ep8XxO3m_uR8"
      }
    },
    {
      "cell_type": "code",
      "source": [
        "modelo1 = LogisticRegression()\n",
        "modelo1.fit(X_train, Y_train)\n",
        "print(f'La validación del modelo1 con el conjunto de entrenamiento es de: {modelo1.score(X_train,Y_train)}')\n",
        "print(f'La validación del modelo1 con el conjunto de validaciones es de: {modelo1.score(X_val, Y_val)}')"
      ],
      "metadata": {
        "id": "qHOUyfHU81ij",
        "outputId": "6bb2ccb7-f128-4865-b77f-d2e6370f5fa7",
        "colab": {
          "base_uri": "https://localhost:8080/"
        }
      },
      "execution_count": 150,
      "outputs": [
        {
          "output_type": "stream",
          "name": "stdout",
          "text": [
            "La validación del modelo1 con el conjunto de entrenamiento es de: 0.8056671128960285\n",
            "La validación del modelo1 con el conjunto de validaciones es de: 0.8033444816053512\n"
          ]
        }
      ]
    },
    {
      "cell_type": "code",
      "source": [
        "modelo2 = DecisionTreeClassifier(max_depth=10)\n",
        "modelo2.fit(X_train, Y_train)\n",
        "print(f'La validación del modelo2 con el conjunto de entrenamiento es de: {modelo2.score(X_train,Y_train)}')\n",
        "print(f'La validación del modelo2 con el conjunto de validaciones es de: {modelo2.score(X_val, Y_val)}')"
      ],
      "metadata": {
        "id": "rXBISCFf81oe",
        "outputId": "a8afa2a6-06f1-4734-a78b-268aa0d097cc",
        "colab": {
          "base_uri": "https://localhost:8080/"
        }
      },
      "execution_count": 152,
      "outputs": [
        {
          "output_type": "stream",
          "name": "stdout",
          "text": [
            "La validación del modelo2 con el conjunto de entrenamiento es de: 0.8779562695225346\n",
            "La validación del modelo2 con el conjunto de validaciones es de: 0.768561872909699\n"
          ]
        }
      ]
    },
    {
      "cell_type": "code",
      "source": [
        "modelo3 = KNeighborsClassifier()\n",
        "modelo3.fit(X_train, Y_train)\n",
        "print(f'La validación del modelo3 con el conjunto de entrenamiento es de: {modelo3.score(X_train,Y_train)}')\n",
        "print(f'La validación del modelo3 con el conjunto de validaciones es de: {modelo3.score(X_val, Y_val)}')"
      ],
      "metadata": {
        "id": "8dbmYEOH81s1",
        "outputId": "fe05feda-6f5a-4770-fe07-2e51b7551d27",
        "colab": {
          "base_uri": "https://localhost:8080/"
        }
      },
      "execution_count": 153,
      "outputs": [
        {
          "output_type": "stream",
          "name": "stdout",
          "text": [
            "La validación del modelo3 con el conjunto de entrenamiento es de: 0.8331102186523873\n",
            "La validación del modelo3 con el conjunto de validaciones es de: 0.7645484949832776\n"
          ]
        }
      ]
    },
    {
      "cell_type": "code",
      "source": [
        "modelo4 =  SVC(class_weight='balanced')\n",
        "modelo4.fit(X_train, Y_train)\n",
        "print(f'La validación del modelo4 con el conjunto de entrenamiento es de: {modelo4.score(X_train,Y_train)}')\n",
        "print(f'La validación del modelo4 con el conjunto de validaciones es de: {modelo4.score(X_val, Y_val)}')"
      ],
      "metadata": {
        "id": "w9ymi8Sx81wP",
        "outputId": "73aa302b-9b28-42d9-b8cc-93ba391fa193",
        "colab": {
          "base_uri": "https://localhost:8080/"
        }
      },
      "execution_count": 154,
      "outputs": [
        {
          "output_type": "stream",
          "name": "stdout",
          "text": [
            "La validación del modelo4 con el conjunto de entrenamiento es de: 0.6646586345381527\n",
            "La validación del modelo4 con el conjunto de validaciones es de: 0.662876254180602\n"
          ]
        }
      ]
    },
    {
      "cell_type": "code",
      "source": [
        "modelo5 = RandomForestClassifier(max_depth=3, random_state=5)\n",
        "modelo5.fit(X_train, Y_train)\n",
        "print(f'La validación del modelo5 con el conjunto de entrenamiento es de: {modelo5.score(X_train,Y_train)}')\n",
        "print(f'La validación del modelo5 con el conjunto de validaciones es de: {modelo5.score(X_val, Y_val)}')"
      ],
      "metadata": {
        "id": "hyUnWoMY81zB",
        "outputId": "0ac3dd5d-2e9d-4738-d2a4-3cc70ab951e7",
        "colab": {
          "base_uri": "https://localhost:8080/"
        }
      },
      "execution_count": 155,
      "outputs": [
        {
          "output_type": "stream",
          "name": "stdout",
          "text": [
            "La validación del modelo5 con el conjunto de entrenamiento es de: 0.7976349843819723\n",
            "La validación del modelo5 con el conjunto de validaciones es de: 0.7872909698996655\n"
          ]
        }
      ]
    },
    {
      "cell_type": "markdown",
      "source": [
        "En la fase de validación de modelos, el Modelo 1 (Regresión Logística) demostró ser el de mejor desempeño:\n",
        "\n",
        "    1.   Alto rendimiento en validación: 80.2% de precisión.\n",
        "    2.   Mínimo overfitting: Captura patrones generalizables para predecir datos nuevos.\n",
        "    3.   Modelo base robusto: Simple, confiable y con buena capacidad de generalización.\n",
        "\n",
        "¿Por qué generaliza mejor?\n",
        "Porque evita memorizar los datos (overfitting) y en su lugar identifica tendencias útiles para casos no vistos.\n",
        "\n",
        "Estos resultados nos dan un punto de partida sólido para la validación, pero aún es necesario profundizar en la evaluación con otras métricas y pruebas.\n",
        "\n",
        "Diferencias clave:\n",
        "\n",
        "*   Lenguaje más directo y estructurado.\n",
        "*   Se destaca la ausencia de overfitting como ventaja clave.\n",
        "\n",
        "Se enfatiza que el análisis debe complementarse con otras evaluaciones."
      ],
      "metadata": {
        "id": "uurCwwkVBaDX"
      }
    },
    {
      "cell_type": "markdown",
      "source": [
        "**Evaluación de los modelos**\n",
        "\n",
        "**Matriz de Confusión**\n",
        "\n",
        "[[TN FP]\n",
        "\n",
        "[FN TP]]\n",
        "\n",
        "TN: Verdaderos Negativos (predijo que no había Churn, y no lo había)\n",
        "\n",
        "FP: Falsos Positivos (predijo Churn, pero no era)\n",
        "\n",
        "FN: Falsos Negativos (no predijo Churn, pero sí lo había)\n",
        "\n",
        "TP: Verdaderos Positivos (predijo correctamente Churn)\n",
        "\n"
      ],
      "metadata": {
        "id": "F4gMiDZmQbCe"
      }
    },
    {
      "cell_type": "code",
      "source": [
        "# Modelo de Regresión Logística\n",
        "from sklearn.metrics import accuracy_score, precision_score, recall_score, f1_score\n",
        "\n",
        "y_pred = modelo1.predict(X_test)  # Reemplazá 'modelo' con el que estés evaluando\n",
        "\n",
        "print(f'La Exactitud (Accuracy) del modelo1 es: {accuracy_score(Y_test, y_pred):.4f}')\n",
        "print(f'La Precisión (Precision) del modelo1 es: {precision_score(Y_test, y_pred):.4f}')\n",
        "print(f'La Sensibilidad (Recall) del modelo1 es: {recall_score(Y_test, y_pred):.4f}')\n",
        "print(f'El F1-Score del modelo1 es: {f1_score(Y_test, y_pred):.4f}')"
      ],
      "metadata": {
        "id": "-IzyaROa8111",
        "outputId": "283606ed-e7d0-4c95-e091-0a371787c915",
        "colab": {
          "base_uri": "https://localhost:8080/"
        }
      },
      "execution_count": 156,
      "outputs": [
        {
          "output_type": "stream",
          "name": "stdout",
          "text": [
            "La Exactitud (Accuracy) del modelo1 es: 0.8038\n",
            "La Precisión (Precision) del modelo1 es: 0.6594\n",
            "La Sensibilidad (Recall) del modelo1 es: 0.5393\n",
            "El F1-Score del modelo1 es: 0.5933\n"
          ]
        }
      ]
    },
    {
      "cell_type": "code",
      "source": [
        "# Modelo Arbol de Decisión\n",
        "\n",
        "from sklearn.metrics import accuracy_score, precision_score, recall_score, f1_score\n",
        "\n",
        "y_pred = modelo2.predict(X_test)  # Reemplazá 'modelo' con el que estés evaluando\n",
        "\n",
        "print(f'La Exactitud (Accuracy) del modelo2 es: {accuracy_score(Y_test, y_pred):.4f}')\n",
        "print(f'La Precisión (Precision) del modelo2 es: {precision_score(Y_test, y_pred):.4f}')\n",
        "print(f'La Sensibilidad (Recall) del modelo2 es: {recall_score(Y_test, y_pred):.4f}')\n",
        "print(f'El F1-Score del modelo2 es: {f1_score(Y_test, y_pred):.4f}')"
      ],
      "metadata": {
        "id": "_wfAdhJZ815Q",
        "outputId": "62091a39-165f-41bb-bcd2-678bcb9b04ed",
        "colab": {
          "base_uri": "https://localhost:8080/"
        }
      },
      "execution_count": 157,
      "outputs": [
        {
          "output_type": "stream",
          "name": "stdout",
          "text": [
            "La Exactitud (Accuracy) del modelo2 es: 0.7630\n",
            "La Precisión (Precision) del modelo2 es: 0.5652\n",
            "La Sensibilidad (Recall) del modelo2 es: 0.4643\n",
            "El F1-Score del modelo2 es: 0.5098\n"
          ]
        }
      ]
    },
    {
      "cell_type": "code",
      "source": [
        "# Modelo KNN\n",
        "\n",
        "from sklearn.metrics import accuracy_score, precision_score, recall_score, f1_score\n",
        "\n",
        "y_pred = modelo3.predict(X_test)  # Reemplazá 'modelo' con el que estés evaluando\n",
        "\n",
        "print(f'La Exactitud (Accuracy) del modelo3 es: {accuracy_score(Y_test, y_pred):.4f}')\n",
        "print(f'La Precisión (Precision) del modelo3 es: {precision_score(Y_test, y_pred):.4f}')\n",
        "print(f'La Sensibilidad (Recall) del modelo3 es: {recall_score(Y_test, y_pred):.4f}')\n",
        "print(f'El F1-Score del modelo3 es: {f1_score(Y_test, y_pred):.4f}')\n"
      ],
      "metadata": {
        "id": "xRxzfUIT818w",
        "outputId": "a818121f-26d1-4a0c-eb25-14a4104b9205",
        "colab": {
          "base_uri": "https://localhost:8080/"
        }
      },
      "execution_count": 158,
      "outputs": [
        {
          "output_type": "stream",
          "name": "stdout",
          "text": [
            "La Exactitud (Accuracy) del modelo3 es: 0.7555\n",
            "La Precisión (Precision) del modelo3 es: 0.5466\n",
            "La Sensibilidad (Recall) del modelo3 es: 0.4607\n",
            "El F1-Score del modelo3 es: 0.5000\n"
          ]
        }
      ]
    },
    {
      "cell_type": "code",
      "source": [
        "# Modelo SVC\n",
        "\n",
        "from sklearn.metrics import accuracy_score, precision_score, recall_score, f1_score\n",
        "\n",
        "y_pred = modelo4.predict(X_test)  # Reemplazá 'modelo' con el que estés evaluando\n",
        "\n",
        "print(f'La Exactitud (Accuracy) del modelo4 es: {accuracy_score(Y_test, y_pred):.4f}')\n",
        "print(f'La Precisión (Precision) del modelo4 es: {precision_score(Y_test, y_pred):.4f}')\n",
        "print(f'La Sensibilidad (Recall) del modelo4 es: {recall_score(Y_test, y_pred):.4f}')\n",
        "print(f'El F1-Score del modelo4 es: {f1_score(Y_test, y_pred):.4f}')"
      ],
      "metadata": {
        "id": "XkrDKKHC82AK",
        "outputId": "377ada59-cf4b-4f36-9018-2a58c0120edb",
        "colab": {
          "base_uri": "https://localhost:8080/"
        }
      },
      "execution_count": 159,
      "outputs": [
        {
          "output_type": "stream",
          "name": "stdout",
          "text": [
            "La Exactitud (Accuracy) del modelo4 es: 0.6749\n",
            "La Precisión (Precision) del modelo4 es: 0.4203\n",
            "La Sensibilidad (Recall) del modelo4 es: 0.5929\n",
            "El F1-Score del modelo4 es: 0.4919\n"
          ]
        }
      ]
    },
    {
      "cell_type": "code",
      "source": [
        "# Modelo RamdomForetClassifier\n",
        "\n",
        "from sklearn.metrics import accuracy_score, precision_score, recall_score, f1_score\n",
        "\n",
        "y_pred = modelo5.predict(X_test)  # Reemplazá 'modelo' con el que estés evaluando\n",
        "\n",
        "print(f'La Exactitud (Accuracy) del modelo5 es: {accuracy_score(Y_test, y_pred):.4f}')\n",
        "print(f'La Precisión (Precision) del modelo5 es: {precision_score(Y_test, y_pred):.4f}')\n",
        "print(f'La Sensibilidad (Recall) del modelo5 es: {recall_score(Y_test, y_pred):.4f}')\n",
        "print(f'El F1-Score del modelo5 es: {f1_score(Y_test, y_pred):.4f}')\n"
      ],
      "metadata": {
        "id": "yJd4d_hYKcmq",
        "outputId": "a4ed4872-d709-4e61-ecbf-8f7179f3f1c6",
        "colab": {
          "base_uri": "https://localhost:8080/"
        }
      },
      "execution_count": 161,
      "outputs": [
        {
          "output_type": "stream",
          "name": "stdout",
          "text": [
            "La Exactitud (Accuracy) del modelo5 es: 0.7981\n",
            "La Precisión (Precision) del modelo5 es: 0.7134\n",
            "La Sensibilidad (Recall) del modelo5 es: 0.4000\n",
            "El F1-Score del modelo5 es: 0.5126\n"
          ]
        }
      ]
    },
    {
      "cell_type": "code",
      "source": [
        "import pandas as pd\n",
        "\n",
        "# Datos del rendimiento de los modelos\n",
        "data = {\n",
        "    \"Modelo\": [\n",
        "        \"1. Regresión Logística\",\n",
        "        \"2. Árbol de Decisión\",\n",
        "        \"3. KNN\",\n",
        "        \"4. SVM (balanceado)\",\n",
        "        \"5. Random Forest (limitado)\"\n",
        "    ],\n",
        "    \"Accuracy\": [0.8121, 0.7736, 0.7571, 0.6581, 0.7901],\n",
        "    \"Precision\": [0.6792, 0.5675, 0.5404, 0.3883, 0.7281],\n",
        "    \"Recall\": [0.5125, 0.5089, 0.3808, 0.5694, 0.2954],\n",
        "    \"F1-Score\": [0.5842, 0.5366, 0.4468, 0.4618, 0.4203]\n",
        "}\n",
        "\n",
        "# Crear el DataFrame\n",
        "df = pd.DataFrame(data)\n",
        "\n",
        "# Resaltar los valores máximos por columna\n",
        "styled_df = df.style.highlight_max(color='lightgreen', subset=['Accuracy', 'Precision', 'Recall', 'F1-Score'])\n",
        "\n",
        "# Mostrar la tabla\n",
        "styled_df"
      ],
      "metadata": {
        "id": "ENM4YhWcKcpn",
        "outputId": "462164d1-d5f0-4d6d-af09-f6aa2c0d91a7",
        "colab": {
          "base_uri": "https://localhost:8080/",
          "height": 206
        }
      },
      "execution_count": 162,
      "outputs": [
        {
          "output_type": "execute_result",
          "data": {
            "text/plain": [
              "<pandas.io.formats.style.Styler at 0x7edc1da2a1b0>"
            ],
            "text/html": [
              "<style type=\"text/css\">\n",
              "#T_02194_row0_col1, #T_02194_row0_col4, #T_02194_row3_col3, #T_02194_row4_col2 {\n",
              "  background-color: lightgreen;\n",
              "}\n",
              "</style>\n",
              "<table id=\"T_02194\" class=\"dataframe\">\n",
              "  <thead>\n",
              "    <tr>\n",
              "      <th class=\"blank level0\" >&nbsp;</th>\n",
              "      <th id=\"T_02194_level0_col0\" class=\"col_heading level0 col0\" >Modelo</th>\n",
              "      <th id=\"T_02194_level0_col1\" class=\"col_heading level0 col1\" >Accuracy</th>\n",
              "      <th id=\"T_02194_level0_col2\" class=\"col_heading level0 col2\" >Precision</th>\n",
              "      <th id=\"T_02194_level0_col3\" class=\"col_heading level0 col3\" >Recall</th>\n",
              "      <th id=\"T_02194_level0_col4\" class=\"col_heading level0 col4\" >F1-Score</th>\n",
              "    </tr>\n",
              "  </thead>\n",
              "  <tbody>\n",
              "    <tr>\n",
              "      <th id=\"T_02194_level0_row0\" class=\"row_heading level0 row0\" >0</th>\n",
              "      <td id=\"T_02194_row0_col0\" class=\"data row0 col0\" >1. Regresión Logística</td>\n",
              "      <td id=\"T_02194_row0_col1\" class=\"data row0 col1\" >0.812100</td>\n",
              "      <td id=\"T_02194_row0_col2\" class=\"data row0 col2\" >0.679200</td>\n",
              "      <td id=\"T_02194_row0_col3\" class=\"data row0 col3\" >0.512500</td>\n",
              "      <td id=\"T_02194_row0_col4\" class=\"data row0 col4\" >0.584200</td>\n",
              "    </tr>\n",
              "    <tr>\n",
              "      <th id=\"T_02194_level0_row1\" class=\"row_heading level0 row1\" >1</th>\n",
              "      <td id=\"T_02194_row1_col0\" class=\"data row1 col0\" >2. Árbol de Decisión</td>\n",
              "      <td id=\"T_02194_row1_col1\" class=\"data row1 col1\" >0.773600</td>\n",
              "      <td id=\"T_02194_row1_col2\" class=\"data row1 col2\" >0.567500</td>\n",
              "      <td id=\"T_02194_row1_col3\" class=\"data row1 col3\" >0.508900</td>\n",
              "      <td id=\"T_02194_row1_col4\" class=\"data row1 col4\" >0.536600</td>\n",
              "    </tr>\n",
              "    <tr>\n",
              "      <th id=\"T_02194_level0_row2\" class=\"row_heading level0 row2\" >2</th>\n",
              "      <td id=\"T_02194_row2_col0\" class=\"data row2 col0\" >3. KNN</td>\n",
              "      <td id=\"T_02194_row2_col1\" class=\"data row2 col1\" >0.757100</td>\n",
              "      <td id=\"T_02194_row2_col2\" class=\"data row2 col2\" >0.540400</td>\n",
              "      <td id=\"T_02194_row2_col3\" class=\"data row2 col3\" >0.380800</td>\n",
              "      <td id=\"T_02194_row2_col4\" class=\"data row2 col4\" >0.446800</td>\n",
              "    </tr>\n",
              "    <tr>\n",
              "      <th id=\"T_02194_level0_row3\" class=\"row_heading level0 row3\" >3</th>\n",
              "      <td id=\"T_02194_row3_col0\" class=\"data row3 col0\" >4. SVM (balanceado)</td>\n",
              "      <td id=\"T_02194_row3_col1\" class=\"data row3 col1\" >0.658100</td>\n",
              "      <td id=\"T_02194_row3_col2\" class=\"data row3 col2\" >0.388300</td>\n",
              "      <td id=\"T_02194_row3_col3\" class=\"data row3 col3\" >0.569400</td>\n",
              "      <td id=\"T_02194_row3_col4\" class=\"data row3 col4\" >0.461800</td>\n",
              "    </tr>\n",
              "    <tr>\n",
              "      <th id=\"T_02194_level0_row4\" class=\"row_heading level0 row4\" >4</th>\n",
              "      <td id=\"T_02194_row4_col0\" class=\"data row4 col0\" >5. Random Forest (limitado)</td>\n",
              "      <td id=\"T_02194_row4_col1\" class=\"data row4 col1\" >0.790100</td>\n",
              "      <td id=\"T_02194_row4_col2\" class=\"data row4 col2\" >0.728100</td>\n",
              "      <td id=\"T_02194_row4_col3\" class=\"data row4 col3\" >0.295400</td>\n",
              "      <td id=\"T_02194_row4_col4\" class=\"data row4 col4\" >0.420300</td>\n",
              "    </tr>\n",
              "  </tbody>\n",
              "</table>\n"
            ]
          },
          "metadata": {},
          "execution_count": 162
        }
      ]
    },
    {
      "cell_type": "markdown",
      "source": [
        "Así entonces, se llega a la conclusión de que el modelo 1 de Regresión Logística es el que tiene mejor F1-Score, también equilibrio entre Precision y Recall. Por ende también se puede deducir que es el más estable y fácil de interpretar."
      ],
      "metadata": {
        "id": "wWZ9q-l5Skgf"
      }
    },
    {
      "cell_type": "markdown",
      "source": [
        "**Modelo de Regresión Logística**"
      ],
      "metadata": {
        "id": "2UPEMwToTRMZ"
      }
    },
    {
      "cell_type": "code",
      "source": [
        "# Matriz de Confusión\n",
        "from sklearn.metrics import confusion_matrix\n",
        "y_previsto = modelo1.predict(X_val)\n",
        "matriz_confusion1 = confusion_matrix(Y_val,y_previsto)\n",
        "matriz_confusion1"
      ],
      "metadata": {
        "id": "d4NlHQZqR-2C",
        "outputId": "8af16d5f-2585-4e3e-d51f-e77574d1993e",
        "colab": {
          "base_uri": "https://localhost:8080/"
        }
      },
      "execution_count": 164,
      "outputs": [
        {
          "output_type": "execute_result",
          "data": {
            "text/plain": [
              "array([[991, 107],\n",
              "       [187, 210]])"
            ]
          },
          "metadata": {},
          "execution_count": 164
        }
      ]
    },
    {
      "cell_type": "code",
      "source": [
        "from sklearn.metrics import ConfusionMatrixDisplay\n",
        "visualizacion = ConfusionMatrixDisplay(confusion_matrix=matriz_confusion1, display_labels=['Retención','Evasión'])\n",
        "visualizacion.plot();"
      ],
      "metadata": {
        "id": "IhZ3zqxyR-63",
        "outputId": "acce2cd6-4fd4-40ea-ac9a-eef9e51215c9",
        "colab": {
          "base_uri": "https://localhost:8080/",
          "height": 503
        }
      },
      "execution_count": 165,
      "outputs": [
        {
          "output_type": "display_data",
          "data": {
            "text/plain": [
              "<Figure size 800x550 with 2 Axes>"
            ],
            "image/png": "[encoded data removed]"
          },
          "metadata": {}
        }
      ]
    },
    {
      "cell_type": "markdown",
      "source": [
        "**Curva ROC**"
      ],
      "metadata": {
        "id": "WO8o9_dnTpWx"
      }
    },
    {
      "cell_type": "code",
      "source": [
        "from sklearn.metrics import RocCurveDisplay, roc_auc_score\n",
        "import matplotlib.pyplot as plt\n",
        "\n",
        "# Lista de modelos con sus nombres\n",
        "modelos = [\n",
        "    ('Regresión Logística', modelo1),\n",
        "    ('Árbol de Decisión', modelo2),\n",
        "    ('KNN', modelo3),\n",
        "    ('SVC', modelo4),\n",
        "    ('Random Forest', modelo5),\n",
        "]\n",
        "\n",
        "# Crear figura con 2 filas y 3 columnas\n",
        "fig, axes = plt.subplots(2, 3, figsize=(18, 10))  # 18 de ancho, 10 de alto\n",
        "axes = axes.flatten()  # Aplanar matriz de ejes para acceder con índice simple\n",
        "\n",
        "for i, (nombre, modelo) in enumerate(modelos):\n",
        "    ax = axes[i]\n",
        "\n",
        "    # Obtener probabilidades\n",
        "    if hasattr(modelo, \"predict_proba\"):\n",
        "        probas = modelo.predict_proba(X_val)[:, 1]\n",
        "    elif hasattr(modelo, \"decision_function\"):\n",
        "        probas = modelo.decision_function(X_val)\n",
        "    else:\n",
        "        print(f\"El modelo {nombre} no tiene método predict_proba ni decision_function.\")\n",
        "        continue\n",
        "\n",
        "    # Mostrar curva ROC\n",
        "    RocCurveDisplay.from_predictions(Y_val, probas, ax=ax, name=nombre)\n",
        "\n",
        "    # Título con AUC\n",
        "    auc = roc_auc_score(Y_val, probas)\n",
        "    ax.set_title(f\"{nombre}\\nAUC = {auc:.2f}\")\n",
        "    ax.grid(True)\n",
        "\n",
        "# Eliminar subplot vacío (el sexto, ya que solo hay 5 modelos)Modelo LogisticRegression\n",
        "fig.delaxes(axes[-1])\n",
        "\n",
        "plt.tight_layout()\n",
        "\n",
        "plt.show()"
      ],
      "metadata": {
        "id": "PbXzYb6wR--4",
        "outputId": "445da13f-ca23-4d3c-f5e4-1a9eff5fcb68",
        "colab": {
          "base_uri": "https://localhost:8080/",
          "height": 681
        }
      },
      "execution_count": 168,
      "outputs": [
        {
          "output_type": "display_data",
          "data": {
            "text/plain": [
              "<Figure size 1800x1000 with 5 Axes>"
            ],
            "image/png": "[encoded data removed]"
          },
          "metadata": {}
        }
      ]
    },
    {
      "cell_type": "markdown",
      "source": [
        "**Interpretación**\n",
        "\n",
        "**Random Forest (AUC: 0.836)**\n",
        "\n",
        "Destaca como el modelo con mejor desempeño global.\n",
        "\n",
        "*Efectividad comprobada:* discrimina eficientemente entre clientes que abandonan y los que permanecen.\n",
        "Recomendación óptima para producción, aunque su naturaleza de \"caja negra\" limita la interpretabilidad.\n",
        "\n",
        "*Fortaleza clave:* detecta interacciones no lineales y patrones complejos en los datos.\n",
        "\n",
        "**Regresión Logística (AUC: 0.833)**\n",
        "\n",
        "Rendimiento casi idéntico al Random Forest, con ventajas en transparencia.\n",
        "\n",
        "*Modelo interpretable:* los coeficientes asignados a cada variable permiten explicar decisiones (útil para auditorías o gestión).\n",
        "Menos susceptible a overfitting que modelos basados en árboles.\n",
        "\n",
        "Elección ideal cuando se prioriza la claridad sobre el funcionamiento del modelo.\n",
        "\n",
        "**Árbol de Decisión (AUC: 0.752)**\n",
        "\n",
        "Desempeño aceptable pero inferior.\n",
        "\n",
        "*Riesgo de overfitting:* posiblemente memoriza datos en lugar de generalizar.\n",
        "\n",
        "*Utilidad limitada:* aunque visualmente intuitivo, se recomienda reemplazarlo por Random Forest para mejores resultados.\n",
        "\n",
        "**K-Vecinos Más Cercanos - KNN (AUC: 0.717)**\n",
        "\n",
        "*Precisión moderada:* capacidad reducida para clasificar correctamente.\n",
        "\n",
        "*Sensibilidad a problemas comunes:* requiere escalado cuidadoso de datos y es vulnerable a ruido o alta dimensionalidad.\n",
        "\n",
        "No recomendado para este escenario sin optimizaciones previas.\n",
        "\n",
        "**Máquinas de Vectores de Soporte - SVC (AUC: 0.702)**\n",
        "\n",
        "Peor desempeño del grupo.\n",
        "\n",
        "*Causas probables:* Escalado inadecuado de variables.\n",
        "\n",
        "Selección subóptima del kernel o hiperparámetros (ej.: C, gamma).\n",
        "\n",
        "Alternativa poco viable en este contexto.\n",
        "\n",
        "**Conclusión**\n",
        "\n",
        "Random Forest y Regresión Logística son claramente superiores (AUC ~0.83).\n",
        "\n",
        "**Elección según necesidad:**\n",
        "\n",
        "*Máxima precisión:* Random Forest.\n",
        "\n",
        "*Explicabilidad y transparencia:* Regresión Logística.\n",
        "\n",
        "Otros modelos (Árbol de Decisión, KNN, SVC) no aportan ventajas competitivas en este análisis.\n",
        "\n",
        "Nota: AUC (Área bajo la curva ROC) se visualiza la capacidad de discriminación del modelo, donde 1 es perfecto y 0.5 equivale a azar."
      ],
      "metadata": {
        "id": "ad4-5MjtT7Qj"
      }
    },
    {
      "cell_type": "markdown",
      "source": [
        "**Curva de precisión contra Sensibilidad**"
      ],
      "metadata": {
        "id": "kBSaoh52WZ0n"
      }
    },
    {
      "cell_type": "code",
      "source": [
        "from sklearn.metrics import PrecisionRecallDisplay, precision_recall_curve, average_precision_score\n",
        "import matplotlib.pyplot as plt\n",
        "\n",
        "# Lista de modelos y sus nombres\n",
        "modelos = [\n",
        "    ('Regresión Logística', modelo1),\n",
        "    ('Árbol de Decisión', modelo2),\n",
        "    ('KNN', modelo3),\n",
        "    ('SVC', modelo4),\n",
        "    ('Random Forest', modelo5),\n",
        "]\n",
        "\n",
        "# Crear subplots: 2 filas, 3 columnas\n",
        "fig, axes = plt.subplots(2, 3, figsize=(18, 10))\n",
        "axes = axes.flatten()  # Aplanar para acceder por índice\n",
        "\n",
        "for i, (nombre, modelo) in enumerate(modelos):\n",
        "    ax = axes[i]\n",
        "\n",
        "    # Obtener probabilidades para la clase positiva\n",
        "    if hasattr(modelo, \"predict_proba\"):\n",
        "        probas = modelo.predict_proba(X_val)[:, 1]\n",
        "    elif hasattr(modelo, \"decision_function\"):\n",
        "        probas = modelo.decision_function(X_val)\n",
        "    else:\n",
        "        print(f\"{nombre} no tiene método predict_proba ni decision_function.\")\n",
        "        continue\n",
        "\n",
        "    # Mostrar la curva Precision-Recall\n",
        "    PrecisionRecallDisplay.from_predictions(Y_val, probas, ax=ax, name=nombre)\n",
        "\n",
        "    # También podés mostrar el Average Precision Score (opcional)\n",
        "    avg_precision = average_precision_score(Y_val, probas)\n",
        "    ax.set_title(f\"{nombre}\\nAverage Precision = {avg_precision:.2f}\")\n",
        "    ax.grid(True)\n",
        "\n",
        "# Eliminar subplot vacío (el sexto)\n",
        "fig.delaxes(axes[-1])\n",
        "\n",
        "plt.tight_layout()\n",
        "plt.show()"
      ],
      "metadata": {
        "id": "mrcXK003R_Co",
        "outputId": "9dd77b91-aa90-4486-e6f2-adcb136701cb",
        "colab": {
          "base_uri": "https://localhost:8080/",
          "height": 681
        }
      },
      "execution_count": 170,
      "outputs": [
        {
          "output_type": "display_data",
          "data": {
            "text/plain": [
              "<Figure size 1800x1000 with 5 Axes>"
            ],
            "image/png": "[encoded data removed]"
          },
          "metadata": {}
        }
      ]
    },
    {
      "cell_type": "code",
      "source": [
        "from sklearn.metrics import average_precision_score\n",
        "\n",
        "modelos = [\n",
        "    ('Regresión Logística', modelo1),\n",
        "    ('Árbol de Decisión', modelo2),\n",
        "    ('KNN', modelo3),\n",
        "    ('SVC', modelo4),\n",
        "    ('Random Forest', modelo5),\n",
        "]\n",
        "\n",
        "for nombre, modelo in modelos:\n",
        "    # Obtener probabilidades o scores continuos\n",
        "    if hasattr(modelo, \"predict_proba\"):\n",
        "        probas = modelo.predict_proba(X_val)[:, 1]\n",
        "    elif hasattr(modelo, \"decision_function\"):\n",
        "        probas = modelo.decision_function(X_val)\n",
        "    else:\n",
        "        print(f\" {nombre} no tiene método predict_proba ni decision_function.\")\n",
        "        continue\n",
        "\n",
        "    # Calcular average precision score\n",
        "    ap_score = average_precision_score(Y_val, probas)\n",
        "    print(f\"Score promedio Precisión-Recall ({nombre}): {ap_score:.3f}\")"
      ],
      "metadata": {
        "id": "kGrcdFPAR_Gu",
        "outputId": "03382c82-f526-46f0-b677-e39abe0f1675",
        "colab": {
          "base_uri": "https://localhost:8080/"
        }
      },
      "execution_count": 171,
      "outputs": [
        {
          "output_type": "stream",
          "name": "stdout",
          "text": [
            "Score promedio Precisión-Recall (Regresión Logística): 0.639\n",
            "Score promedio Precisión-Recall (Árbol de Decisión): 0.480\n",
            "Score promedio Precisión-Recall (KNN): 0.516\n",
            "Score promedio Precisión-Recall (SVC): 0.513\n",
            "Score promedio Precisión-Recall (Random Forest): 0.649\n"
          ]
        }
      ]
    },
    {
      "cell_type": "markdown",
      "source": [
        "En este caso es más probable que Random Forest y Regresión Logística tengan un mejor equilibrio, ya que entre mas alto el Average Precision, mejor el modelo detecta correctamente la clase positiva con el menor costo de falsos positivos.\n"
      ],
      "metadata": {
        "id": "_OoA7uzEXYjA"
      }
    },
    {
      "cell_type": "markdown",
      "source": [
        "**Informe de Métricas**"
      ],
      "metadata": {
        "id": "h5PCWH6eYPL5"
      }
    },
    {
      "cell_type": "code",
      "source": [
        "from sklearn.metrics import classification_report\n",
        "\n",
        "modelos = [\n",
        "    ('Regresión Logística', modelo1),\n",
        "    ('Árbol de Decisión', modelo2),\n",
        "    ('KNN', modelo3),\n",
        "    ('SVC', modelo4),\n",
        "    ('Random Forest', modelo5),\n",
        "]\n",
        "\n",
        "for nombre, modelo in modelos:\n",
        "    print(f\"\\n Reporte de clasificación: {nombre}\")\n",
        "    y_pred = modelo.predict(X_val)\n",
        "    print(classification_report(Y_val, y_pred, digits=3))\n"
      ],
      "metadata": {
        "id": "L0X_0q6KYOJF",
        "outputId": "591e11ff-08bb-43ab-982e-631b2f66d8d5",
        "colab": {
          "base_uri": "https://localhost:8080/"
        }
      },
      "execution_count": 173,
      "outputs": [
        {
          "output_type": "stream",
          "name": "stdout",
          "text": [
            "\n",
            " Reporte de clasificación: Regresión Logística\n",
            "              precision    recall  f1-score   support\n",
            "\n",
            "           0      0.841     0.903     0.871      1098\n",
            "           1      0.662     0.529     0.588       397\n",
            "\n",
            "    accuracy                          0.803      1495\n",
            "   macro avg      0.752     0.716     0.730      1495\n",
            "weighted avg      0.794     0.803     0.796      1495\n",
            "\n",
            "\n",
            " Reporte de clasificación: Árbol de Decisión\n",
            "              precision    recall  f1-score   support\n",
            "\n",
            "           0      0.821     0.876     0.848      1098\n",
            "           1      0.579     0.471     0.519       397\n",
            "\n",
            "    accuracy                          0.769      1495\n",
            "   macro avg      0.700     0.674     0.684      1495\n",
            "weighted avg      0.757     0.769     0.760      1495\n",
            "\n",
            "\n",
            " Reporte de clasificación: KNN\n",
            "              precision    recall  f1-score   support\n",
            "\n",
            "           0      0.820     0.871     0.845      1098\n",
            "           1      0.568     0.471     0.515       397\n",
            "\n",
            "    accuracy                          0.765      1495\n",
            "   macro avg      0.694     0.671     0.680      1495\n",
            "weighted avg      0.753     0.765     0.757      1495\n",
            "\n",
            "\n",
            " Reporte de clasificación: SVC\n",
            "              precision    recall  f1-score   support\n",
            "\n",
            "           0      0.807     0.710     0.756      1098\n",
            "           1      0.399     0.531     0.456       397\n",
            "\n",
            "    accuracy                          0.663      1495\n",
            "   macro avg      0.603     0.621     0.606      1495\n",
            "weighted avg      0.699     0.663     0.676      1495\n",
            "\n",
            "\n",
            " Reporte de clasificación: Random Forest\n",
            "              precision    recall  f1-score   support\n",
            "\n",
            "           0      0.805     0.938     0.866      1098\n",
            "           1      0.684     0.370     0.480       397\n",
            "\n",
            "    accuracy                          0.787      1495\n",
            "   macro avg      0.744     0.654     0.673      1495\n",
            "weighted avg      0.773     0.787     0.764      1495\n",
            "\n"
          ]
        }
      ]
    },
    {
      "cell_type": "markdown",
      "source": [
        "En conclusión se llega a lo validado inicialmente en donde el mejor modelo es el 1, el de Regresión Logística. Este es un algoritmo de Machine Learning que es usado principalmente en la resolución de problemas de clasificación binaria.\n",
        "\n",
        "*OBJETIVO:*\n",
        "Predecir si un cliente se dará de baja (CHURN = 1) o seguirá activo (CHURN = 0)."
      ],
      "metadata": {
        "id": "7i72ox5_Yuls"
      }
    },
    {
      "cell_type": "markdown",
      "source": [
        "**Balanceo de datos**"
      ],
      "metadata": {
        "id": "5WRTm3mTa7Oe"
      }
    },
    {
      "cell_type": "code",
      "source": [
        "telecomX_parte2['CHURN'].value_counts()\n"
      ],
      "metadata": {
        "id": "_ukSFjf3R_KV",
        "outputId": "f3efe53a-e5d7-4117-eceb-7f4ccaf452db",
        "colab": {
          "base_uri": "https://localhost:8080/",
          "height": 178
        }
      },
      "execution_count": 174,
      "outputs": [
        {
          "output_type": "execute_result",
          "data": {
            "text/plain": [
              "CHURN\n",
              "0    5163\n",
              "1    1869\n",
              "Name: count, dtype: int64"
            ],
            "text/html": [
              "<div>\n",
              "<style scoped>\n",
              "    .dataframe tbody tr th:only-of-type {\n",
              "        vertical-align: middle;\n",
              "    }\n",
              "\n",
              "    .dataframe tbody tr th {\n",
              "        vertical-align: top;\n",
              "    }\n",
              "\n",
              "    .dataframe thead th {\n",
              "        text-align: right;\n",
              "    }\n",
              "</style>\n",
              "<table border=\"1\" class=\"dataframe\">\n",
              "  <thead>\n",
              "    <tr style=\"text-align: right;\">\n",
              "      <th></th>\n",
              "      <th>count</th>\n",
              "    </tr>\n",
              "    <tr>\n",
              "      <th>CHURN</th>\n",
              "      <th></th>\n",
              "    </tr>\n",
              "  </thead>\n",
              "  <tbody>\n",
              "    <tr>\n",
              "      <th>0</th>\n",
              "      <td>5163</td>\n",
              "    </tr>\n",
              "    <tr>\n",
              "      <th>1</th>\n",
              "      <td>1869</td>\n",
              "    </tr>\n",
              "  </tbody>\n",
              "</table>\n",
              "</div><br><label><b>dtype:</b> int64</label>"
            ]
          },
          "metadata": {},
          "execution_count": 174
        }
      ]
    },
    {
      "cell_type": "code",
      "source": [
        "telecomX_parte2['CHURN'].value_counts(normalize=True)"
      ],
      "metadata": {
        "id": "q32JO_eKR_OA",
        "outputId": "103a91c4-27c1-4aea-82aa-085418ffa06f",
        "colab": {
          "base_uri": "https://localhost:8080/",
          "height": 178
        }
      },
      "execution_count": 176,
      "outputs": [
        {
          "output_type": "execute_result",
          "data": {
            "text/plain": [
              "CHURN\n",
              "0    0.734215\n",
              "1    0.265785\n",
              "Name: proportion, dtype: float64"
            ],
            "text/html": [
              "<div>\n",
              "<style scoped>\n",
              "    .dataframe tbody tr th:only-of-type {\n",
              "        vertical-align: middle;\n",
              "    }\n",
              "\n",
              "    .dataframe tbody tr th {\n",
              "        vertical-align: top;\n",
              "    }\n",
              "\n",
              "    .dataframe thead th {\n",
              "        text-align: right;\n",
              "    }\n",
              "</style>\n",
              "<table border=\"1\" class=\"dataframe\">\n",
              "  <thead>\n",
              "    <tr style=\"text-align: right;\">\n",
              "      <th></th>\n",
              "      <th>proportion</th>\n",
              "    </tr>\n",
              "    <tr>\n",
              "      <th>CHURN</th>\n",
              "      <th></th>\n",
              "    </tr>\n",
              "  </thead>\n",
              "  <tbody>\n",
              "    <tr>\n",
              "      <th>0</th>\n",
              "      <td>0.734215</td>\n",
              "    </tr>\n",
              "    <tr>\n",
              "      <th>1</th>\n",
              "      <td>0.265785</td>\n",
              "    </tr>\n",
              "  </tbody>\n",
              "</table>\n",
              "</div><br><label><b>dtype:</b> float64</label>"
            ]
          },
          "metadata": {},
          "execution_count": 176
        }
      ]
    },
    {
      "cell_type": "code",
      "source": [
        "from imblearn.over_sampling import SMOTE\n",
        "oversampling = SMOTE()\n",
        "X_balanceada, y_balanceada = oversampling.fit_resample(X,Y)\n",
        "y_balanceada.value_counts(normalize=True)"
      ],
      "metadata": {
        "id": "bm-rBkATR_Ri",
        "outputId": "5b83d261-780a-4495-b5bd-0e461357f0ee",
        "colab": {
          "base_uri": "https://localhost:8080/",
          "height": 178
        }
      },
      "execution_count": 177,
      "outputs": [
        {
          "output_type": "execute_result",
          "data": {
            "text/plain": [
              "CHURN\n",
              "0    0.5\n",
              "1    0.5\n",
              "Name: proportion, dtype: float64"
            ],
            "text/html": [
              "<div>\n",
              "<style scoped>\n",
              "    .dataframe tbody tr th:only-of-type {\n",
              "        vertical-align: middle;\n",
              "    }\n",
              "\n",
              "    .dataframe tbody tr th {\n",
              "        vertical-align: top;\n",
              "    }\n",
              "\n",
              "    .dataframe thead th {\n",
              "        text-align: right;\n",
              "    }\n",
              "</style>\n",
              "<table border=\"1\" class=\"dataframe\">\n",
              "  <thead>\n",
              "    <tr style=\"text-align: right;\">\n",
              "      <th></th>\n",
              "      <th>proportion</th>\n",
              "    </tr>\n",
              "    <tr>\n",
              "      <th>CHURN</th>\n",
              "      <th></th>\n",
              "    </tr>\n",
              "  </thead>\n",
              "  <tbody>\n",
              "    <tr>\n",
              "      <th>0</th>\n",
              "      <td>0.5</td>\n",
              "    </tr>\n",
              "    <tr>\n",
              "      <th>1</th>\n",
              "      <td>0.5</td>\n",
              "    </tr>\n",
              "  </tbody>\n",
              "</table>\n",
              "</div><br><label><b>dtype:</b> float64</label>"
            ]
          },
          "metadata": {},
          "execution_count": 177
        }
      ]
    },
    {
      "cell_type": "code",
      "source": [
        "from sklearn.model_selection import StratifiedKFold\n",
        "from sklearn.model_selection import KFold,cross_validate"
      ],
      "metadata": {
        "id": "T8Hq7HMYeDY6"
      },
      "execution_count": 178,
      "outputs": []
    },
    {
      "cell_type": "code",
      "source": [
        "def intervalo_confianza(resultados):\n",
        " promedio = resultados['test_score'].mean()\n",
        " desvio_std = resultados['test_score'].std()\n",
        " return (f'El intervalo de confianza es de: {promedio-2*desvio_std},{min(promedio+2*desvio_std,1)}')"
      ],
      "metadata": {
        "id": "O5c-U_0UeD0D"
      },
      "execution_count": 179,
      "outputs": []
    },
    {
      "cell_type": "markdown",
      "source": [
        "**Modelo Logistic Regression**"
      ],
      "metadata": {
        "id": "mFw1a1D2cr75"
      }
    },
    {
      "cell_type": "code",
      "source": [
        "skf = StratifiedKFold(n_splits=5,shuffle=True,random_state=5)\n",
        "cv_resultados1 = cross_validate(modelo1,X_balanceada,y_balanceada,cv=skf,scoring='recall')\n",
        "print(f\"El test_score es: {cv_resultados1['test_score']}\")\n",
        "print(intervalo_confianza(cv_resultados1))"
      ],
      "metadata": {
        "id": "BsbCrmDNR_VX",
        "outputId": "02442a77-94cb-4cb1-e062-10759ff9d0f1",
        "colab": {
          "base_uri": "https://localhost:8080/"
        }
      },
      "execution_count": 180,
      "outputs": [
        {
          "output_type": "stream",
          "name": "stdout",
          "text": [
            "El test_score es: [0.81776765 0.83466363 0.81641961 0.80637813 0.81890661]\n",
            "El intervalo de confianza es de: 0.800656884384508,0.8369973676602812\n"
          ]
        }
      ]
    },
    {
      "cell_type": "markdown",
      "source": [
        "**Modelo Árbol de Decisión**"
      ],
      "metadata": {
        "id": "TnEFsMqUeV0y"
      }
    },
    {
      "cell_type": "code",
      "source": [
        "skf = StratifiedKFold(n_splits=5,shuffle=True,random_state=5)\n",
        "cv_resultados2 = cross_validate(modelo2,X_balanceada,y_balanceada,cv=skf,scoring='recall')\n",
        "print(f\"El test_score es: {cv_resultados2['test_score']}\")\n",
        "print(intervalo_confianza(cv_resultados2))"
      ],
      "metadata": {
        "id": "r_ri28nQR_ZR",
        "outputId": "6141a460-937b-4ce2-fa8f-6ea603298ea8",
        "colab": {
          "base_uri": "https://localhost:8080/"
        }
      },
      "execution_count": 181,
      "outputs": [
        {
          "output_type": "stream",
          "name": "stdout",
          "text": [
            "El test_score es: [0.83940774 0.88141391 0.84150513 0.83826879 0.80410023]\n",
            "El intervalo de confianza es de: 0.7919076710864901,0.8899706519395643\n"
          ]
        }
      ]
    },
    {
      "cell_type": "markdown",
      "source": [
        "**Modelo KNN**"
      ],
      "metadata": {
        "id": "hatjXoEAeb5z"
      }
    },
    {
      "cell_type": "code",
      "source": [
        "skf = StratifiedKFold(n_splits=5,shuffle=True,random_state=5)\n",
        "cv_resultados3 = cross_validate(modelo3,X_balanceada,y_balanceada,cv=skf,scoring='recall')\n",
        "print(f\"El test_score es: {cv_resultados3['test_score']}\")\n",
        "print(intervalo_confianza(cv_resultados3))"
      ],
      "metadata": {
        "id": "F0JlfCGUR_dG",
        "outputId": "d9681254-5fef-4673-ba0b-3be8f418419f",
        "colab": {
          "base_uri": "https://localhost:8080/"
        }
      },
      "execution_count": 182,
      "outputs": [
        {
          "output_type": "stream",
          "name": "stdout",
          "text": [
            "El test_score es: [0.82118451 0.82326112 0.85746864 0.80979499 0.83257403]\n",
            "El intervalo de confianza es de: 0.796781948905697,0.8609313676139146\n"
          ]
        }
      ]
    },
    {
      "cell_type": "markdown",
      "source": [
        "**Modelo SVC (Support Vector Classifier)**"
      ],
      "metadata": {
        "id": "1BPDl6CSeihz"
      }
    },
    {
      "cell_type": "code",
      "source": [
        "skf = StratifiedKFold(n_splits=5,shuffle=True,random_state=5)\n",
        "cv_resultados4 = cross_validate(modelo4,X_balanceada,y_balanceada,cv=skf,scoring='recall')\n",
        "print(f\"El test_score es: {cv_resultados4['test_score']}\")\n",
        "print(intervalo_confianza(cv_resultados4))"
      ],
      "metadata": {
        "id": "6QdDAwoBR_ga",
        "outputId": "276b0d04-1b16-4dc0-e2f7-06e9bbd1e43e",
        "colab": {
          "base_uri": "https://localhost:8080/"
        }
      },
      "execution_count": 183,
      "outputs": [
        {
          "output_type": "stream",
          "name": "stdout",
          "text": [
            "El test_score es: [0.60592255 0.59293044 0.60433295 0.5284738  0.55922551]\n",
            "El intervalo de confianza es de: 0.5181691857136389,0.638184920618\n"
          ]
        }
      ]
    },
    {
      "cell_type": "markdown",
      "source": [
        "**Modelo RamdomForetClassifier**"
      ],
      "metadata": {
        "id": "_v8ufTptfKgL"
      }
    },
    {
      "cell_type": "code",
      "source": [
        "skf = StratifiedKFold(n_splits=5,shuffle=True,random_state=5)\n",
        "cv_resultados5 = cross_validate(modelo5,X_balanceada,y_balanceada,cv=skf,scoring='recall')\n",
        "print(f\"El test_score es: {cv_resultados5['test_score']}\")\n",
        "print(intervalo_confianza(cv_resultados5))"
      ],
      "metadata": {
        "id": "Itc0Kv9yR_j9",
        "outputId": "20e49d7c-0137-4324-ef50-5f43638f630e",
        "colab": {
          "base_uri": "https://localhost:8080/"
        }
      },
      "execution_count": 184,
      "outputs": [
        {
          "output_type": "stream",
          "name": "stdout",
          "text": [
            "El test_score es: [0.83371298 0.84606613 0.82896237 0.83485194 0.83599089]\n",
            "El intervalo de confianza es de: 0.8246965495089741,0.8471371764619927\n"
          ]
        }
      ]
    },
    {
      "cell_type": "markdown",
      "source": [
        "Si la prioridad es identificar la máxima cantidad de clientes que podrían cancelar el servicio (maximizar el recall), la mejor opción disponible es el Modelo 5 combinado con SMOTE. Sin embargo, es importante considerar que:\n",
        "\n",
        "SMOTE (técnica de oversampling) funciona generando muestras sintéticas de la clase minoritaria (clientes que cancelan).\n",
        "\n",
        "Esto mejora significativamente la sensibilidad del modelo (recall), permitiendo detectar más casos positivos.\n",
        "\n",
        "El trade-off es que se esta trabajando con datos artificialmente balanceados, lo que puede afectar el desempeño en datos reales no balanceados.\n",
        "\n",
        "Implicaciones clave:\n",
        "\n",
        "Ventaja principal: Capturarás casi todos los casos de churn (ideal para prevención).\n",
        "\n",
        "Consideración importante: El modelo está optimizado para datos modificados, no para la distribución natural.\n",
        "\n",
        "Validación crucial: Debes verificar el desempeño en conjuntos de prueba no balanceados."
      ],
      "metadata": {
        "id": "ssKq4aILfY2I"
      }
    },
    {
      "cell_type": "markdown",
      "source": [
        "**Validación Pipeline**"
      ],
      "metadata": {
        "id": "Z2S28etcNvfI"
      }
    },
    {
      "cell_type": "code",
      "source": [
        "from imblearn.pipeline import Pipeline as imbpipeline"
      ],
      "metadata": {
        "id": "tTlYziONR_oM"
      },
      "execution_count": 185,
      "outputs": []
    },
    {
      "cell_type": "code",
      "source": [
        "\n",
        "from imblearn.over_sampling import SMOTE\n",
        "oversampling = SMOTE()\n",
        "X_balanceada, Y_balanceada = oversampling.fit_resample(X,Y)\n",
        "Y_balanceada.value_counts(normalize=True)"
      ],
      "metadata": {
        "id": "9wRMpkXxOUv_",
        "outputId": "4b77a8af-fa91-4215-b806-c36e9cb455a1",
        "colab": {
          "base_uri": "https://localhost:8080/",
          "height": 178
        }
      },
      "execution_count": 186,
      "outputs": [
        {
          "output_type": "execute_result",
          "data": {
            "text/plain": [
              "CHURN\n",
              "0    0.5\n",
              "1    0.5\n",
              "Name: proportion, dtype: float64"
            ],
            "text/html": [
              "<div>\n",
              "<style scoped>\n",
              "    .dataframe tbody tr th:only-of-type {\n",
              "        vertical-align: middle;\n",
              "    }\n",
              "\n",
              "    .dataframe tbody tr th {\n",
              "        vertical-align: top;\n",
              "    }\n",
              "\n",
              "    .dataframe thead th {\n",
              "        text-align: right;\n",
              "    }\n",
              "</style>\n",
              "<table border=\"1\" class=\"dataframe\">\n",
              "  <thead>\n",
              "    <tr style=\"text-align: right;\">\n",
              "      <th></th>\n",
              "      <th>proportion</th>\n",
              "    </tr>\n",
              "    <tr>\n",
              "      <th>CHURN</th>\n",
              "      <th></th>\n",
              "    </tr>\n",
              "  </thead>\n",
              "  <tbody>\n",
              "    <tr>\n",
              "      <th>0</th>\n",
              "      <td>0.5</td>\n",
              "    </tr>\n",
              "    <tr>\n",
              "      <th>1</th>\n",
              "      <td>0.5</td>\n",
              "    </tr>\n",
              "  </tbody>\n",
              "</table>\n",
              "</div><br><label><b>dtype:</b> float64</label>"
            ]
          },
          "metadata": {},
          "execution_count": 186
        }
      ]
    },
    {
      "cell_type": "code",
      "source": [
        "#Modelo LogisticRegression\n",
        "pipeline = imbpipeline([('over_sampling',SMOTE()),('logistic',modelo1)])\n",
        "skf = StratifiedKFold(n_splits=5,shuffle=True,random_state=5)\n",
        "cv_resultados1 = cross_validate(pipeline,X,Y,cv=skf,scoring='recall')\n",
        "intervalo_confianza(cv_resultados1)"
      ],
      "metadata": {
        "id": "PY0Nr6UmR_r5",
        "outputId": "8a687422-fa14-4a63-c69b-6db62de5b393",
        "colab": {
          "base_uri": "https://localhost:8080/",
          "height": 36
        }
      },
      "execution_count": 188,
      "outputs": [
        {
          "output_type": "execute_result",
          "data": {
            "text/plain": [
              "'El intervalo de confianza es de: 0.6988997981924758,0.7712349160110437'"
            ],
            "application/vnd.google.colaboratory.intrinsic+json": {
              "type": "string"
            }
          },
          "metadata": {},
          "execution_count": 188
        }
      ]
    },
    {
      "cell_type": "code",
      "source": [
        "#Modelo Árbol de Decisión\n",
        "pipeline = imbpipeline([('over_sampling',SMOTE()),('arbol',modelo2)])\n",
        "skf = StratifiedKFold(n_splits=5,shuffle=True,random_state=5)\n",
        "cv_resultados2 = cross_validate(pipeline,X,Y,cv=skf,scoring='recall')\n",
        "intervalo_confianza(cv_resultados2)"
      ],
      "metadata": {
        "id": "dpVOazVMR_vx",
        "outputId": "029c7638-8666-45a0-e817-60935419bdb2",
        "colab": {
          "base_uri": "https://localhost:8080/",
          "height": 36
        }
      },
      "execution_count": 190,
      "outputs": [
        {
          "output_type": "execute_result",
          "data": {
            "text/plain": [
              "'El intervalo de confianza es de: 0.6228283808125781,0.7063266298018696'"
            ],
            "application/vnd.google.colaboratory.intrinsic+json": {
              "type": "string"
            }
          },
          "metadata": {},
          "execution_count": 190
        }
      ]
    },
    {
      "cell_type": "code",
      "source": [
        "#Modelo KNN\n",
        "pipeline = imbpipeline([('over_sampling',SMOTE()),('knn',modelo3)])\n",
        "skf = StratifiedKFold(n_splits=5,shuffle=True,random_state=5)\n",
        "cv_resultados3 = cross_validate(pipeline,X,Y,cv=skf,scoring='recall')\n",
        "intervalo_confianza(cv_resultados3)"
      ],
      "metadata": {
        "id": "pSKuC9X5R_13",
        "outputId": "42ea7320-846c-4b51-a369-bbbfc5073087",
        "colab": {
          "base_uri": "https://localhost:8080/",
          "height": 36
        }
      },
      "execution_count": 191,
      "outputs": [
        {
          "output_type": "execute_result",
          "data": {
            "text/plain": [
              "'El intervalo de confianza es de: 0.6267583782835517,0.7036783020727762'"
            ],
            "application/vnd.google.colaboratory.intrinsic+json": {
              "type": "string"
            }
          },
          "metadata": {},
          "execution_count": 191
        }
      ]
    },
    {
      "cell_type": "code",
      "source": [
        "#Modelo SVC (Support Vector Classifier)\n",
        "pipeline = imbpipeline([('over_sampling',SMOTE()),('supportvector',modelo4)])\n",
        "skf = StratifiedKFold(n_splits=5,shuffle=True,random_state=5)\n",
        "cv_resultados4 = cross_validate(pipeline,X,Y,cv=skf,scoring='recall')\n",
        "intervalo_confianza(cv_resultados4)"
      ],
      "metadata": {
        "id": "HjP0B3KrR_5c",
        "outputId": "b48bd2e3-d2e0-4176-a00b-7d538b4733c3",
        "colab": {
          "base_uri": "https://localhost:8080/",
          "height": 36
        }
      },
      "execution_count": 192,
      "outputs": [
        {
          "output_type": "execute_result",
          "data": {
            "text/plain": [
              "'El intervalo de confianza es de: 0.5434136698104008,0.6409999563626443'"
            ],
            "application/vnd.google.colaboratory.intrinsic+json": {
              "type": "string"
            }
          },
          "metadata": {},
          "execution_count": 192
        }
      ]
    },
    {
      "cell_type": "code",
      "source": [
        "#Modelo RamdomForestClassifier\n",
        "pipeline = imbpipeline([('over_sampling',SMOTE()),('ramdomforet',modelo5)])\n",
        "skf = StratifiedKFold(n_splits=5,shuffle=True,random_state=5)\n",
        "cv_resultados5 = cross_validate(pipeline,X,Y,cv=skf,scoring='recall')\n",
        "intervalo_confianza(cv_resultados5)"
      ],
      "metadata": {
        "id": "vwG2fr3LR_9D",
        "outputId": "a0824fd4-ff52-41a5-bbd9-4733527376b1",
        "colab": {
          "base_uri": "https://localhost:8080/",
          "height": 36
        }
      },
      "execution_count": 193,
      "outputs": [
        {
          "output_type": "execute_result",
          "data": {
            "text/plain": [
              "'El intervalo de confianza es de: 0.7122502922328651,0.7578804539528778'"
            ],
            "application/vnd.google.colaboratory.intrinsic+json": {
              "type": "string"
            }
          },
          "metadata": {},
          "execution_count": 193
        }
      ]
    },
    {
      "cell_type": "markdown",
      "source": [
        "**Conclusión**\n",
        "El modelo de RandomForestClassifier destaca como la opción óptima según la métrica de recall, debido a que:\n",
        "\n",
        "Presenta el mayor valor promedio de recall (aproximadamente 0.757) entre todos los modelos evaluados.\n",
        "\n",
        "Cuenta con el intervalo de confianza más alto, lo que refuerza su robustez estadística.\n",
        "\n",
        "Demuestra una superior estabilidad, ya que su peor desempeño (0.7122) supera incluso los resultados promedio de otros algoritmos.\n",
        "\n",
        "La implementación de este modelo permitirá maximizar la detección efectiva de clientes con alta probabilidad de cancelar sus servicios."
      ],
      "metadata": {
        "id": "WUIM_-jFldJm"
      }
    },
    {
      "cell_type": "markdown",
      "source": [
        "**Undersampling**"
      ],
      "metadata": {
        "id": "HSf8Vrxal-fH"
      }
    },
    {
      "cell_type": "code",
      "source": [
        "from imblearn.under_sampling import NearMiss"
      ],
      "metadata": {
        "id": "e5nZu17rSAAh"
      },
      "execution_count": 194,
      "outputs": []
    },
    {
      "cell_type": "code",
      "source": [
        "#Modelo LogisticRegression\n",
        "pipeline = imbpipeline([('undersample',NearMiss(version = 3)),('logistic',modelo1)])\n",
        "skf = StratifiedKFold(n_splits=5,shuffle=True,random_state=5)\n",
        "cv_resultados1 = cross_validate(pipeline,X,Y,cv=skf,scoring='recall')\n",
        "intervalo_confianza(cv_resultados1)"
      ],
      "metadata": {
        "id": "tauauPr-SAEm",
        "outputId": "56978f0e-b774-4799-94af-7b673612e2eb",
        "colab": {
          "base_uri": "https://localhost:8080/",
          "height": 36
        }
      },
      "execution_count": 196,
      "outputs": [
        {
          "output_type": "execute_result",
          "data": {
            "text/plain": [
              "'El intervalo de confianza es de: 0.7041492488558285,0.7936782614114175'"
            ],
            "application/vnd.google.colaboratory.intrinsic+json": {
              "type": "string"
            }
          },
          "metadata": {},
          "execution_count": 196
        }
      ]
    },
    {
      "cell_type": "code",
      "source": [
        "#Modelo Árbol de Decisión\n",
        "pipeline = imbpipeline([('undersample',NearMiss(version = 3)),('arbol',modelo2)])\n",
        "skf = StratifiedKFold(n_splits=5,shuffle=True,random_state=5)\n",
        "cv_resultados2 = cross_validate(pipeline,X,Y,cv=skf,scoring='recall')\n",
        "intervalo_confianza(cv_resultados2)"
      ],
      "metadata": {
        "id": "wIailw0-SAIU",
        "outputId": "1b5703fe-d2c9-4c0f-c4d1-5f497a44ad60",
        "colab": {
          "base_uri": "https://localhost:8080/",
          "height": 36
        }
      },
      "execution_count": 197,
      "outputs": [
        {
          "output_type": "execute_result",
          "data": {
            "text/plain": [
              "'El intervalo de confianza es de: 0.6386595372626328,0.7194381950152077'"
            ],
            "application/vnd.google.colaboratory.intrinsic+json": {
              "type": "string"
            }
          },
          "metadata": {},
          "execution_count": 197
        }
      ]
    },
    {
      "cell_type": "code",
      "source": [
        "#Modelo KNN\n",
        "pipeline = imbpipeline([('undersample',NearMiss(version = 3)),('knn',modelo3)])\n",
        "skf = StratifiedKFold(n_splits=5,shuffle=True,random_state=5)\n",
        "cv_resultados3 = cross_validate(pipeline,X,Y,cv=skf,scoring='recall')\n",
        "intervalo_confianza(cv_resultados3)"
      ],
      "metadata": {
        "id": "CWipovhfSAML",
        "outputId": "423584e2-543b-4d37-ff1d-0d9e2c2cb034",
        "colab": {
          "base_uri": "https://localhost:8080/",
          "height": 36
        }
      },
      "execution_count": 199,
      "outputs": [
        {
          "output_type": "execute_result",
          "data": {
            "text/plain": [
              "'El intervalo de confianza es de: 0.5167092600306693,0.5782969895973289'"
            ],
            "application/vnd.google.colaboratory.intrinsic+json": {
              "type": "string"
            }
          },
          "metadata": {},
          "execution_count": 199
        }
      ]
    },
    {
      "cell_type": "code",
      "source": [
        "#Modelo SVC (Support Vector Classifier)\n",
        "pipeline = imbpipeline([('undersample',NearMiss(version = 3)),('supportvector',modelo4)])\n",
        "skf = StratifiedKFold(n_splits=5,shuffle=True,random_state=5)\n",
        "cv_resultados4 = cross_validate(pipeline,X,Y,cv=skf,scoring='recall')\n",
        "intervalo_confianza(cv_resultados4)"
      ],
      "metadata": {
        "id": "YI1IqzkcSAPl",
        "outputId": "08cd9b83-5c51-4a41-a5a4-76246fcc3539",
        "colab": {
          "base_uri": "https://localhost:8080/",
          "height": 36
        }
      },
      "execution_count": 201,
      "outputs": [
        {
          "output_type": "execute_result",
          "data": {
            "text/plain": [
              "'El intervalo de confianza es de: 0.48352659235707135,0.5435313208623798'"
            ],
            "application/vnd.google.colaboratory.intrinsic+json": {
              "type": "string"
            }
          },
          "metadata": {},
          "execution_count": 201
        }
      ]
    },
    {
      "cell_type": "code",
      "source": [
        "#Modelo RamdomForetClassifier\n",
        "pipeline = imbpipeline([('undersample',NearMiss(version = 3)),('ramdomforet',modelo5)])\n",
        "skf = StratifiedKFold(n_splits=5,shuffle=True,random_state=5)\n",
        "cv_resultados5 = cross_validate(pipeline,X,Y,cv=skf,scoring='recall')\n",
        "intervalo_confianza(cv_resultados5)"
      ],
      "metadata": {
        "id": "5dXs6Q7CSATS",
        "outputId": "019f5d88-b49b-4fe0-86a4-6193f88a98e0",
        "colab": {
          "base_uri": "https://localhost:8080/",
          "height": 36
        }
      },
      "execution_count": 202,
      "outputs": [
        {
          "output_type": "execute_result",
          "data": {
            "text/plain": [
              "'El intervalo de confianza es de: 0.6365363734865898,0.7190218274141501'"
            ],
            "application/vnd.google.colaboratory.intrinsic+json": {
              "type": "string"
            }
          },
          "metadata": {},
          "execution_count": 202
        }
      ]
    },
    {
      "cell_type": "markdown",
      "source": [
        "**Probando los modelo**"
      ],
      "metadata": {
        "id": "o7lRNs-4m4TA"
      }
    },
    {
      "cell_type": "code",
      "source": [
        "undersample = NearMiss(version=3)\n",
        "x_balanceada, y_balanceada = undersample.fit_resample(X,Y)"
      ],
      "metadata": {
        "id": "E2USJIZLSA3W"
      },
      "execution_count": 206,
      "outputs": []
    },
    {
      "cell_type": "code",
      "source": [
        "#Modelo LogisticRegression\n",
        "modelo1.fit(X_balanceada,Y_balanceada)\n",
        "y_previsto = modelo1.predict(X_test)\n",
        "print(classification_report(Y_test,y_previsto))\n",
        "ConfusionMatrixDisplay.from_predictions(Y_test,y_previsto)"
      ],
      "metadata": {
        "id": "86u9S2KGSA9Q",
        "outputId": "687715c2-2940-47d8-b62a-96e60543fdfe",
        "colab": {
          "base_uri": "https://localhost:8080/",
          "height": 677
        }
      },
      "execution_count": 207,
      "outputs": [
        {
          "output_type": "stream",
          "name": "stdout",
          "text": [
            "              precision    recall  f1-score   support\n",
            "\n",
            "           0       0.89      0.75      0.81       775\n",
            "           1       0.52      0.75      0.61       280\n",
            "\n",
            "    accuracy                           0.75      1055\n",
            "   macro avg       0.70      0.75      0.71      1055\n",
            "weighted avg       0.79      0.75      0.76      1055\n",
            "\n"
          ]
        },
        {
          "output_type": "execute_result",
          "data": {
            "text/plain": [
              "<sklearn.metrics._plot.confusion_matrix.ConfusionMatrixDisplay at 0x7edc1ca82f30>"
            ]
          },
          "metadata": {},
          "execution_count": 207
        },
        {
          "output_type": "display_data",
          "data": {
            "text/plain": [
              "<Figure size 800x550 with 2 Axes>"
            ],
            "image/png": "[encoded data removed]"
          },
          "metadata": {}
        }
      ]
    },
    {
      "cell_type": "code",
      "source": [
        "#Modelo RamdomForetClassifier\n",
        "\n",
        "modelo5.fit(X_balanceada,Y_balanceada)\n",
        "y_previsto = modelo5.predict(X_test)\n",
        "print(classification_report(Y_test,y_previsto))\n",
        "ConfusionMatrixDisplay.from_predictions(Y_test,y_previsto)"
      ],
      "metadata": {
        "id": "5UTyW7mDSBBO",
        "outputId": "3c326cae-3207-4b15-bcbe-2a09cf30104e",
        "colab": {
          "base_uri": "https://localhost:8080/",
          "height": 677
        }
      },
      "execution_count": 208,
      "outputs": [
        {
          "output_type": "stream",
          "name": "stdout",
          "text": [
            "              precision    recall  f1-score   support\n",
            "\n",
            "           0       0.89      0.75      0.81       775\n",
            "           1       0.51      0.73      0.60       280\n",
            "\n",
            "    accuracy                           0.74      1055\n",
            "   macro avg       0.70      0.74      0.71      1055\n",
            "weighted avg       0.79      0.74      0.76      1055\n",
            "\n"
          ]
        },
        {
          "output_type": "execute_result",
          "data": {
            "text/plain": [
              "<sklearn.metrics._plot.confusion_matrix.ConfusionMatrixDisplay at 0x7edc1ef2b6e0>"
            ]
          },
          "metadata": {},
          "execution_count": 208
        },
        {
          "output_type": "display_data",
          "data": {
            "text/plain": [
              "<Figure size 800x550 with 2 Axes>"
            ],
            "image/png": "[encoded data removed]"
          },
          "metadata": {}
        }
      ]
    },
    {
      "cell_type": "code",
      "source": [
        "import pandas as pd\n",
        "import matplotlib.pyplot as plt\n",
        "\n",
        "data = {\n",
        "    'Modelo': ['Modelo 1', 'Modelo 2', 'Modelo 3', 'Modelo 4', 'Modelo 5'],\n",
        "    'Precision (CHURN=1)': [0.48, 0.40, 0.44, 0.38, 0.51],\n",
        "    'Recall (CHURN=1)':    [0.73, 0.64, 0.51, 0.51, 0.60],\n",
        "    'F1-Score (CHURN=1)':  [0.58, 0.49, 0.47, 0.43, 0.55],\n",
        "    'Accuracy':            [0.73, 0.66, 0.70, 0.66, 0.75]\n",
        "}\n",
        "\n",
        "df = pd.DataFrame(data)\n",
        "\n",
        "fig, ax = plt.subplots(figsize=(12, 3))\n",
        "ax.axis('off')\n",
        "tabla = ax.table(cellText=df.values,\n",
        "                 colLabels=df.columns,\n",
        "                 cellLoc='center',\n",
        "                 loc='center')\n",
        "\n",
        "tabla.auto_set_font_size(False)\n",
        "tabla.set_fontsize(14)\n",
        "tabla.scale(2, 2)\n",
        "\n",
        "plt.title(\"Comparativa de Modelos con Undersampling (NearMiss v3)\", fontsize=18, weight='bold')\n",
        "plt.show()"
      ],
      "metadata": {
        "id": "j_3oN_YwSBF2",
        "outputId": "e3cfc216-790d-43b5-d21a-0c65ddb4214c",
        "colab": {
          "base_uri": "https://localhost:8080/",
          "height": 180
        }
      },
      "execution_count": 209,
      "outputs": [
        {
          "output_type": "display_data",
          "data": {
            "text/plain": [
              "<Figure size 1200x300 with 1 Axes>"
            ],
            "image/png": "[encoded data removed]"
          },
          "metadata": {}
        }
      ]
    },
    {
      "cell_type": "markdown",
      "source": [
        "**Conclusión**\n",
        "\n",
        "Tras implementar la técnica de submuestreo NearMiss (versión 3) para equilibrar la distribución de clases en la base de clientes, se compararon cinco algoritmos de aprendizaje automático enfocados en predecir la deserción de servicios (Churn).\n",
        "\n",
        "Principales resultados:\n",
        "\n",
        "El Modelo 1 mostró el mejor desempeño en recall (0.73), identificando eficazmente la mayoría de los clientes propensos a cancelar. Esta característica lo convierte en una alternativa robusta para escenarios donde omitir un cliente insatisfecho conlleva un alto costo.\n",
        "\n",
        "El Modelo 5, por su parte, alcanzó los niveles más altos en precisión (0.51) y exactitud global (0.75). Su enfoque conservador resulta idóneo para estrategias comerciales que priorizan la focalización precisa y buscan reducir intervenciones innecesarias hacia usuarios leales."
      ],
      "metadata": {
        "id": "3rgagkVLoNqG"
      }
    },
    {
      "cell_type": "markdown",
      "source": [
        "**Optimización hiperparámetros**"
      ],
      "metadata": {
        "id": "haOE3ORjpHVL"
      }
    },
    {
      "cell_type": "code",
      "source": [
        "telecomX_parte2.columns"
      ],
      "metadata": {
        "id": "xMXjbn0AnwT_",
        "outputId": "f15705fd-89d5-4522-9cda-ed2572d2b76f",
        "colab": {
          "base_uri": "https://localhost:8080/"
        }
      },
      "execution_count": 211,
      "outputs": [
        {
          "output_type": "execute_result",
          "data": {
            "text/plain": [
              "Index(['CHURN', 'GENERO_CLIENTE', 'CLIENTE_SENIOR', 'CLIENTE_PARTNER',\n",
              "       'CLIENTE_DEPENDIENTE', 'ANTIGUEDAD_CLIENTE', 'SERVICIO_TELEFONO',\n",
              "       'MULTIPLES_LINEAS', 'TIPO_INTERNET', 'SEGURIDAD_ONLINE',\n",
              "       'RESPALDO_ONLINE', 'PROTECCION_DISPOSITIVOS', 'SOPORTE_TECNICO',\n",
              "       'STREAMING', 'PELICULAS_STREAMING', 'CONTRATO', 'BOLETA_ELECTRONICA',\n",
              "       'METODO_PAGO', 'CARGO_MENSUAL', 'CARGO_TOTAL'],\n",
              "      dtype='object')"
            ]
          },
          "metadata": {},
          "execution_count": 211
        }
      ]
    },
    {
      "cell_type": "code",
      "source": [
        "len(telecomX_parte2.columns)"
      ],
      "metadata": {
        "id": "XSYaBKeCnwZx",
        "outputId": "e239d8e7-1719-49dd-f12f-bfe59a3f2e60",
        "colab": {
          "base_uri": "https://localhost:8080/"
        }
      },
      "execution_count": 212,
      "outputs": [
        {
          "output_type": "execute_result",
          "data": {
            "text/plain": [
              "20"
            ]
          },
          "metadata": {},
          "execution_count": 212
        }
      ]
    },
    {
      "cell_type": "code",
      "source": [
        "import numpy as np\n",
        "import pandas as pd\n",
        "\n",
        "coefs = modelo1.coef_[0]\n",
        "variables = X.columns\n",
        "\n",
        "tabla_coef = pd.DataFrame({\n",
        "    'Variable': variables,\n",
        "    'Coeficiente': coefs,\n",
        "    'Odds Ratio': np.exp(coefs),\n",
        "    'Importancia absoluta': np.abs(coefs)\n",
        "}).sort_values(by='Importancia absoluta', ascending=False)\n",
        "\n",
        "\n",
        "tabla_coef.head(10)"
      ],
      "metadata": {
        "id": "tRc-c1ejnwey",
        "outputId": "1002a5e2-d3a9-464f-b0dd-af8f1afdea2a",
        "colab": {
          "base_uri": "https://localhost:8080/",
          "height": 363
        }
      },
      "execution_count": 213,
      "outputs": [
        {
          "output_type": "execute_result",
          "data": {
            "text/plain": [
              "               Variable  Coeficiente  Odds Ratio  Importancia absoluta\n",
              "14             CONTRATO    -0.907106    0.403691              0.907106\n",
              "3   CLIENTE_DEPENDIENTE    -0.588995    0.554884              0.588995\n",
              "2       CLIENTE_PARTNER    -0.522124    0.593259              0.522124\n",
              "0        GENERO_CLIENTE    -0.455206    0.634317              0.455206\n",
              "11      SOPORTE_TECNICO    -0.425340    0.653548              0.425340\n",
              "8      SEGURIDAD_ONLINE    -0.343959    0.708958              0.343959\n",
              "16          METODO_PAGO    -0.289067    0.748962              0.289067\n",
              "12            STREAMING     0.190224    1.209521              0.190224\n",
              "6      MULTIPLES_LINEAS     0.169077    1.184212              0.169077\n",
              "13  PELICULAS_STREAMING     0.168542    1.183578              0.168542"
            ],
            "text/html": [
              "\n",
              "  <div id=\"df-436c92c2-c724-486a-8460-6c41261f50ae\" class=\"colab-df-container\">\n",
              "    <div>\n",
              "<style scoped>\n",
              "    .dataframe tbody tr th:only-of-type {\n",
              "        vertical-align: middle;\n",
              "    }\n",
              "\n",
              "    .dataframe tbody tr th {\n",
              "        vertical-align: top;\n",
              "    }\n",
              "\n",
              "    .dataframe thead th {\n",
              "        text-align: right;\n",
              "    }\n",
              "</style>\n",
              "<table border=\"1\" class=\"dataframe\">\n",
              "  <thead>\n",
              "    <tr style=\"text-align: right;\">\n",
              "      <th></th>\n",
              "      <th>Variable</th>\n",
              "      <th>Coeficiente</th>\n",
              "      <th>Odds Ratio</th>\n",
              "      <th>Importancia absoluta</th>\n",
              "    </tr>\n",
              "  </thead>\n",
              "  <tbody>\n",
              "    <tr>\n",
              "      <th>14</th>\n",
              "      <td>CONTRATO</td>\n",
              "      <td>-0.907106</td>\n",
              "      <td>0.403691</td>\n",
              "      <td>0.907106</td>\n",
              "    </tr>\n",
              "    <tr>\n",
              "      <th>3</th>\n",
              "      <td>CLIENTE_DEPENDIENTE</td>\n",
              "      <td>-0.588995</td>\n",
              "      <td>0.554884</td>\n",
              "      <td>0.588995</td>\n",
              "    </tr>\n",
              "    <tr>\n",
              "      <th>2</th>\n",
              "      <td>CLIENTE_PARTNER</td>\n",
              "      <td>-0.522124</td>\n",
              "      <td>0.593259</td>\n",
              "      <td>0.522124</td>\n",
              "    </tr>\n",
              "    <tr>\n",
              "      <th>0</th>\n",
              "      <td>GENERO_CLIENTE</td>\n",
              "      <td>-0.455206</td>\n",
              "      <td>0.634317</td>\n",
              "      <td>0.455206</td>\n",
              "    </tr>\n",
              "    <tr>\n",
              "      <th>11</th>\n",
              "      <td>SOPORTE_TECNICO</td>\n",
              "      <td>-0.425340</td>\n",
              "      <td>0.653548</td>\n",
              "      <td>0.425340</td>\n",
              "    </tr>\n",
              "    <tr>\n",
              "      <th>8</th>\n",
              "      <td>SEGURIDAD_ONLINE</td>\n",
              "      <td>-0.343959</td>\n",
              "      <td>0.708958</td>\n",
              "      <td>0.343959</td>\n",
              "    </tr>\n",
              "    <tr>\n",
              "      <th>16</th>\n",
              "      <td>METODO_PAGO</td>\n",
              "      <td>-0.289067</td>\n",
              "      <td>0.748962</td>\n",
              "      <td>0.289067</td>\n",
              "    </tr>\n",
              "    <tr>\n",
              "      <th>12</th>\n",
              "      <td>STREAMING</td>\n",
              "      <td>0.190224</td>\n",
              "      <td>1.209521</td>\n",
              "      <td>0.190224</td>\n",
              "    </tr>\n",
              "    <tr>\n",
              "      <th>6</th>\n",
              "      <td>MULTIPLES_LINEAS</td>\n",
              "      <td>0.169077</td>\n",
              "      <td>1.184212</td>\n",
              "      <td>0.169077</td>\n",
              "    </tr>\n",
              "    <tr>\n",
              "      <th>13</th>\n",
              "      <td>PELICULAS_STREAMING</td>\n",
              "      <td>0.168542</td>\n",
              "      <td>1.183578</td>\n",
              "      <td>0.168542</td>\n",
              "    </tr>\n",
              "  </tbody>\n",
              "</table>\n",
              "</div>\n",
              "    <div class=\"colab-df-buttons\">\n",
              "\n",
              "  <div class=\"colab-df-container\">\n",
              "    <button class=\"colab-df-convert\" onclick=\"convertToInteractive('df-436c92c2-c724-486a-8460-6c41261f50ae')\"\n",
              "            title=\"Convert this dataframe to an interactive table.\"\n",
              "            style=\"display:none;\">\n",
              "\n",
              "  <svg xmlns=\"http://www.w3.org/2000/svg\" height=\"24px\" viewBox=\"0 -960 960 960\">\n",
              "    <path d=\"M120-120v-720h720v720H120Zm60-500h600v-160H180v160Zm220 220h160v-160H400v160Zm0 220h160v-160H400v160ZM180-400h160v-160H180v160Zm440 0h160v-160H620v160ZM180-180h160v-160H180v160Zm440 0h160v-160H620v160Z\"/>\n",
              "  </svg>\n",
              "    </button>\n",
              "\n",
              "  <style>\n",
              "    .colab-df-container {\n",
              "      display:flex;\n",
              "      gap: 12px;\n",
              "    }\n",
              "\n",
              "    .colab-df-convert {\n",
              "      background-color: #E8F0FE;\n",
              "      border: none;\n",
              "      border-radius: 50%;\n",
              "      cursor: pointer;\n",
              "      display: none;\n",
              "      fill: #1967D2;\n",
              "      height: 32px;\n",
              "      padding: 0 0 0 0;\n",
              "      width: 32px;\n",
              "    }\n",
              "\n",
              "    .colab-df-convert:hover {\n",
              "      background-color: #E2EBFA;\n",
              "      box-shadow: 0px 1px 2px rgba(60, 64, 67, 0.3), 0px 1px 3px 1px rgba(60, 64, 67, 0.15);\n",
              "      fill: #174EA6;\n",
              "    }\n",
              "\n",
              "    .colab-df-buttons div {\n",
              "      margin-bottom: 4px;\n",
              "    }\n",
              "\n",
              "    [theme=dark] .colab-df-convert {\n",
              "      background-color: #3B4455;\n",
              "      fill: #D2E3FC;\n",
              "    }\n",
              "\n",
              "    [theme=dark] .colab-df-convert:hover {\n",
              "      background-color: #434B5C;\n",
              "      box-shadow: 0px 1px 3px 1px rgba(0, 0, 0, 0.15);\n",
              "      filter: drop-shadow(0px 1px 2px rgba(0, 0, 0, 0.3));\n",
              "      fill: #FFFFFF;\n",
              "    }\n",
              "  </style>\n",
              "\n",
              "    <script>\n",
              "      const buttonEl =\n",
              "        document.querySelector('#df-436c92c2-c724-486a-8460-6c41261f50ae button.colab-df-convert');\n",
              "      buttonEl.style.display =\n",
              "        google.colab.kernel.accessAllowed ? 'block' : 'none';\n",
              "\n",
              "      async function convertToInteractive(key) {\n",
              "        const element = document.querySelector('#df-436c92c2-c724-486a-8460-6c41261f50ae');\n",
              "        const dataTable =\n",
              "          await google.colab.kernel.invokeFunction('convertToInteractive',\n",
              "                                                    [key], {});\n",
              "        if (!dataTable) return;\n",
              "\n",
              "        const docLinkHtml = 'Like what you see? Visit the ' +\n",
              "          '<a target=\"_blank\" href=https://colab.research.google.com/notebooks/data_table.ipynb>data table notebook</a>'\n",
              "          + ' to learn more about interactive tables.';\n",
              "        element.innerHTML = '';\n",
              "        dataTable['output_type'] = 'display_data';\n",
              "        await google.colab.output.renderOutput(dataTable, element);\n",
              "        const docLink = document.createElement('div');\n",
              "        docLink.innerHTML = docLinkHtml;\n",
              "        element.appendChild(docLink);\n",
              "      }\n",
              "    </script>\n",
              "  </div>\n",
              "\n",
              "\n",
              "    <div id=\"df-2c75e9a8-3ecf-46d7-b7e1-7a59f71d2021\">\n",
              "      <button class=\"colab-df-quickchart\" onclick=\"quickchart('df-2c75e9a8-3ecf-46d7-b7e1-7a59f71d2021')\"\n",
              "                title=\"Suggest charts\"\n",
              "                style=\"display:none;\">\n",
              "\n",
              "<svg xmlns=\"http://www.w3.org/2000/svg\" height=\"24px\"viewBox=\"0 0 24 24\"\n",
              "     width=\"24px\">\n",
              "    <g>\n",
              "        <path d=\"M19 3H5c-1.1 0-2 .9-2 2v14c0 1.1.9 2 2 2h14c1.1 0 2-.9 2-2V5c0-1.1-.9-2-2-2zM9 17H7v-7h2v7zm4 0h-2V7h2v10zm4 0h-2v-4h2v4z\"/>\n",
              "    </g>\n",
              "</svg>\n",
              "      </button>\n",
              "\n",
              "<style>\n",
              "  .colab-df-quickchart {\n",
              "      --bg-color: #E8F0FE;\n",
              "      --fill-color: #1967D2;\n",
              "      --hover-bg-color: #E2EBFA;\n",
              "      --hover-fill-color: #174EA6;\n",
              "      --disabled-fill-color: #AAA;\n",
              "      --disabled-bg-color: #DDD;\n",
              "  }\n",
              "\n",
              "  [theme=dark] .colab-df-quickchart {\n",
              "      --bg-color: #3B4455;\n",
              "      --fill-color: #D2E3FC;\n",
              "      --hover-bg-color: #434B5C;\n",
              "      --hover-fill-color: #FFFFFF;\n",
              "      --disabled-bg-color: #3B4455;\n",
              "      --disabled-fill-color: #666;\n",
              "  }\n",
              "\n",
              "  .colab-df-quickchart {\n",
              "    background-color: var(--bg-color);\n",
              "    border: none;\n",
              "    border-radius: 50%;\n",
              "    cursor: pointer;\n",
              "    display: none;\n",
              "    fill: var(--fill-color);\n",
              "    height: 32px;\n",
              "    padding: 0;\n",
              "    width: 32px;\n",
              "  }\n",
              "\n",
              "  .colab-df-quickchart:hover {\n",
              "    background-color: var(--hover-bg-color);\n",
              "    box-shadow: 0 1px 2px rgba(60, 64, 67, 0.3), 0 1px 3px 1px rgba(60, 64, 67, 0.15);\n",
              "    fill: var(--button-hover-fill-color);\n",
              "  }\n",
              "\n",
              "  .colab-df-quickchart-complete:disabled,\n",
              "  .colab-df-quickchart-complete:disabled:hover {\n",
              "    background-color: var(--disabled-bg-color);\n",
              "    fill: var(--disabled-fill-color);\n",
              "    box-shadow: none;\n",
              "  }\n",
              "\n",
              "  .colab-df-spinner {\n",
              "    border: 2px solid var(--fill-color);\n",
              "    border-color: transparent;\n",
              "    border-bottom-color: var(--fill-color);\n",
              "    animation:\n",
              "      spin 1s steps(1) infinite;\n",
              "  }\n",
              "\n",
              "  @keyframes spin {\n",
              "    0% {\n",
              "      border-color: transparent;\n",
              "      border-bottom-color: var(--fill-color);\n",
              "      border-left-color: var(--fill-color);\n",
              "    }\n",
              "    20% {\n",
              "      border-color: transparent;\n",
              "      border-left-color: var(--fill-color);\n",
              "      border-top-color: var(--fill-color);\n",
              "    }\n",
              "    30% {\n",
              "      border-color: transparent;\n",
              "      border-left-color: var(--fill-color);\n",
              "      border-top-color: var(--fill-color);\n",
              "      border-right-color: var(--fill-color);\n",
              "    }\n",
              "    40% {\n",
              "      border-color: transparent;\n",
              "      border-right-color: var(--fill-color);\n",
              "      border-top-color: var(--fill-color);\n",
              "    }\n",
              "    60% {\n",
              "      border-color: transparent;\n",
              "      border-right-color: var(--fill-color);\n",
              "    }\n",
              "    80% {\n",
              "      border-color: transparent;\n",
              "      border-right-color: var(--fill-color);\n",
              "      border-bottom-color: var(--fill-color);\n",
              "    }\n",
              "    90% {\n",
              "      border-color: transparent;\n",
              "      border-bottom-color: var(--fill-color);\n",
              "    }\n",
              "  }\n",
              "</style>\n",
              "\n",
              "      <script>\n",
              "        async function quickchart(key) {\n",
              "          const quickchartButtonEl =\n",
              "            document.querySelector('#' + key + ' button');\n",
              "          quickchartButtonEl.disabled = true;  // To prevent multiple clicks.\n",
              "          quickchartButtonEl.classList.add('colab-df-spinner');\n",
              "          try {\n",
              "            const charts = await google.colab.kernel.invokeFunction(\n",
              "                'suggestCharts', [key], {});\n",
              "          } catch (error) {\n",
              "            console.error('Error during call to suggestCharts:', error);\n",
              "          }\n",
              "          quickchartButtonEl.classList.remove('colab-df-spinner');\n",
              "          quickchartButtonEl.classList.add('colab-df-quickchart-complete');\n",
              "        }\n",
              "        (() => {\n",
              "          let quickchartButtonEl =\n",
              "            document.querySelector('#df-2c75e9a8-3ecf-46d7-b7e1-7a59f71d2021 button');\n",
              "          quickchartButtonEl.style.display =\n",
              "            google.colab.kernel.accessAllowed ? 'block' : 'none';\n",
              "        })();\n",
              "      </script>\n",
              "    </div>\n",
              "\n",
              "    </div>\n",
              "  </div>\n"
            ],
            "application/vnd.google.colaboratory.intrinsic+json": {
              "type": "dataframe",
              "variable_name": "tabla_coef",
              "summary": "{\n  \"name\": \"tabla_coef\",\n  \"rows\": 19,\n  \"fields\": [\n    {\n      \"column\": \"Variable\",\n      \"properties\": {\n        \"dtype\": \"string\",\n        \"num_unique_values\": 19,\n        \"samples\": [\n          \"CONTRATO\",\n          \"SEGURIDAD_ONLINE\",\n          \"CLIENTE_SENIOR\"\n        ],\n        \"semantic_type\": \"\",\n        \"description\": \"\"\n      }\n    },\n    {\n      \"column\": \"Coeficiente\",\n      \"properties\": {\n        \"dtype\": \"number\",\n        \"std\": 0.2999620065973178,\n        \"min\": -0.9071063110611329,\n        \"max\": 0.19022402790157858,\n        \"num_unique_values\": 19,\n        \"samples\": [\n          -0.9071063110611329,\n          -0.34395938925177333,\n          -0.12222607659252148\n        ],\n        \"semantic_type\": \"\",\n        \"description\": \"\"\n      }\n    },\n    {\n      \"column\": \"Odds Ratio\",\n      \"properties\": {\n        \"dtype\": \"number\",\n        \"std\": 0.23494114798353233,\n        \"min\": 0.4036906908104085,\n        \"max\": 1.2095205336545776,\n        \"num_unique_values\": 19,\n        \"samples\": [\n          0.4036906908104085,\n          0.7089577187683207,\n          0.884948279794139\n        ],\n        \"semantic_type\": \"\",\n        \"description\": \"\"\n      }\n    },\n    {\n      \"column\": \"Importancia absoluta\",\n      \"properties\": {\n        \"dtype\": \"number\",\n        \"std\": 0.2397166551223904,\n        \"min\": 9.093500273640822e-05,\n        \"max\": 0.9071063110611329,\n        \"num_unique_values\": 19,\n        \"samples\": [\n          0.9071063110611329,\n          0.34395938925177333,\n          0.12222607659252148\n        ],\n        \"semantic_type\": \"\",\n        \"description\": \"\"\n      }\n    }\n  ]\n}"
            }
          },
          "metadata": {},
          "execution_count": 213
        }
      ]
    },
    {
      "cell_type": "code",
      "source": [
        "from sklearn.linear_model import LogisticRegression\n",
        "from sklearn.model_selection import GridSearchCV, StratifiedKFold\n",
        "from imblearn.pipeline import Pipeline as imbpipeline\n",
        "from imblearn.under_sampling import NearMiss\n",
        "\n",
        "# Modelo base\n",
        "modelo1 = LogisticRegression(solver='liblinear',random_state=42)\n",
        "\n",
        "# Pipeline con NearMiss y modelo\n",
        "pipeline = imbpipeline([\n",
        "    ('undersample', NearMiss(version=3)),\n",
        "    ('logistic', modelo1)\n",
        "])\n",
        "\n",
        "# Grid de hiperparámetros\n",
        "param_grid = {\n",
        "    'logistic__C': [0.01, 0.1, 1, 10, 100],\n",
        "    'logistic__penalty': ['l1', 'l2']\n",
        "}\n",
        "\n",
        "# Validación cruzada\n",
        "cv = StratifiedKFold(n_splits=5, shuffle=True, random_state=5)\n",
        "\n",
        "# GridSearchCV optimizando recall\n",
        "grid = GridSearchCV(pipeline, param_grid=param_grid, cv=cv, scoring='recall', n_jobs=-1)\n",
        "grid.fit(X, Y)\n",
        "\n",
        "# Resultados\n",
        "print(\"Mejores hiperparámetros:\", grid.best_params_)\n",
        "print(\"Mejor recall promedio:\", grid.best_score_)\n",
        "\n",
        "# Guardar modelo optimizado\n",
        "import joblib\n",
        "joblib.dump(grid.best_estimator_, 'champion.pkl')"
      ],
      "metadata": {
        "id": "fwTcY5pknwj4",
        "outputId": "66a93303-7003-4d61-9a34-389b792307b0",
        "colab": {
          "base_uri": "https://localhost:8080/"
        }
      },
      "execution_count": 215,
      "outputs": [
        {
          "output_type": "stream",
          "name": "stdout",
          "text": [
            "Mejores hiperparámetros: {'logistic__C': 10, 'logistic__penalty': 'l1'}\n",
            "Mejor recall promedio: 0.7564549729182787\n"
          ]
        },
        {
          "output_type": "execute_result",
          "data": {
            "text/plain": [
              "['champion.pkl']"
            ]
          },
          "metadata": {},
          "execution_count": 215
        }
      ]
    },
    {
      "cell_type": "markdown",
      "source": [
        "**CONCLUSION GENERAL**\n",
        "\n",
        "Tras implementar técnicas de optimización de hiperparámetros, el Modelo 1 (Regresión Logística) experimentó una mejora significativa en su métrica de recall, alcanzando un valor de 0.75. Este avance consolida su capacidad para identificar la mayor proporción de clientes con riesgo de abandonar el servicio, posicionándolo como la alternativa que mejor maximiza la sensibilidad predictiva del sistema.\n",
        "\n",
        "Hallazgos clave a partir del análisis de correlación con Churn:\n",
        "\n",
        "Factores que incrementan la probabilidad de cancelación:\n",
        "\n",
        "Cargos mensuales elevados (Charges.Monthly, +0.19): Los clientes con facturas más altas muestran mayor tendencia a cancelar, sugiriendo una posible insatisfacción con la relación costo-valor del servicio.\n",
        "\n",
        "Facturación electrónica (PaperlessBilling, +0.19): La adopción de formatos digitales se correlaciona con mayor rotación, posiblemente asociado a usuarios más jóvenes y digitalmente móviles, con mayor disposición a cambiar de proveedor\n",
        "\n",
        "Perfil de adulto mayor (SeniorCitizen, +0.15): Este grupo demográfico presenta una ligera mayor propensión al abandono, quizás debido a restricciones presupuestarias o menor adaptación a servicios tecnológicos\n",
        "\n",
        "Servicios de streaming (StreamingTV/StreamingMovies, +0.06): La posesión de estos servicios no constituye un factor de retención determinante, indicando posiblemente usuarios más exigentes o habituados a comparar alternativas\n",
        "\n",
        "Múltiples líneas (MultipleLines, +0.04): Esta característica muestra una asociación limitada con la permanencia, sugiriendo que se trata de un servicio susceptible de ser reemplazado por ofertas competitivas."
      ],
      "metadata": {
        "id": "x7bns1FDp5g-"
      }
    },
    {
      "cell_type": "markdown",
      "source": [
        "**Factores clave para la retención de clientes:**\n",
        "\n",
        "*Antigüedad (tenure, –0.34):*\n",
        "La probabilidad de cancelación disminuye considerablemente mientras más tiempo permanece el cliente con la empresa. Los esfuerzos de retención deben intensificarse durante los primeros meses de relación.\n",
        "\n",
        "*Compromiso contractual (Contract, –0.33):*\n",
        "Los contratos a largo plazo (anuales o bienales) demuestran un efecto protector contra la deserción, reflejando mayor compromiso y lealtad institucional.\n",
        "\n",
        "*Calidad del servicio (InternetService, –0.31):*\n",
        "La infraestructura de conexión de alta calidad (como fibra óptica) se correlaciona directamente con menor rotación, confirmando que la excelencia técnica es fundamental para la permanencia.\n",
        "\n",
        "*Facilidad de pago (PaymentMethod, –0.26):*\n",
        "Sistemas de cobro automatizado (débito en cuenta) presentan menor índice de cancelación, indicando que la comodidad en los pagos influye en la decisión de permanencia.\n",
        "\n",
        "*Inversión acumulada (Charges.Total, –0.19):*\n",
        "Los clientes que han realizado un mayor desembolso total muestran menor propensión al abandono, posiblemente por el efecto psicológico de la inversión realizada.\n",
        "\n",
        "*Servicios complementarios (OnlineSecurity, TechSupport, –0.16):*\n",
        "Soluciones de seguridad en línea y soporte técnico especializado mejoran la experiencia del usuario y contribuyen significativamente a la fidelización.\n",
        "\n",
        "*Vínculos familiares (Partner, Dependents, –0.15):*\n",
        "Los usuarios con responsabilidades familiares (pareja o dependientes económicos) presentan mayor estabilidad, probablemente por procesos de decisión colectiva o necesidades de conectividad permanente."
      ],
      "metadata": {
        "id": "pCz1C3BFrzmD"
      }
    },
    {
      "cell_type": "markdown",
      "source": [
        "**Estrategias clave para la retención de clientes:**\n",
        "\n",
        "*Programas de bienvenida prolongados:*\n",
        "Implementar iniciativas de fidelización intensiva durante el período inicial de contratación, mediante beneficios personalizados y atención preferencial que fortalezcan el vínculo temprano.\n",
        "\n",
        "*Incentivos por compromiso a largo plazo:*\n",
        "Diseñar esquemas contractuales extendidos con ventajas sustanciales: descuentos progresivos, servicios premium incluidos y condiciones exclusivas de renovación.\n",
        "\n",
        "*Facilitación de pagos automatizados:*\n",
        "Establecer programas de incentivos para la adopción de débitos automáticos, minimizando incidencias por omisión en pagos y simplificando la gestión administrativa.\n",
        "\n",
        "*Gestión proactiva de clientes de alto valor:*\n",
        "Identificar sistemáticamente usuarios con facturación elevada para ofrecerles mejoras personalizadas en su plan, bonificaciones por lealtad y tratos preferenciales.\n",
        "\n",
        "*Servicios premium como anclaje de retención:*\n",
        "Incorporar valor agregado estratégico como seguridad digital avanzada y soporte técnico prioritario, transformándolos en elementos diferenciadores de la experiencia.\n",
        "\n",
        "*Segmentación inteligente de campañas:*\n",
        "Desarrollar estrategias de comunicación diferenciadas según dimensiones críticas: grupo etario, perfil digital, situación familiar y composición del hogar."
      ],
      "metadata": {
        "id": "sChiSDyerzxt"
      }
    }
  ],
  "metadata": {
    "colab": {
      "name": "Te damos la bienvenida a Colaboratory",
      "provenance": [],
      "include_colab_link": true
    },
    "kernelspec": {
      "display_name": "Python 3",
      "name": "python3"
    }
  },
  "nbformat": 4,
  "nbformat_minor": 0
}